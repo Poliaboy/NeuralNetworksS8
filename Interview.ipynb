{
 "cells": [
  {
   "cell_type": "markdown",
   "source": [
    "2 lists of numbers, sorted ascending\n",
    "create a third list with all the elements of the previous lists, and have it sorted"
   ],
   "metadata": {
    "collapsed": false
   },
   "id": "709b31563dea4740"
  },
  {
   "cell_type": "code",
   "outputs": [
    {
     "ename": "IndexError",
     "evalue": "list index out of range",
     "output_type": "error",
     "traceback": [
      "\u001B[0;31m---------------------------------------------------------------------------\u001B[0m",
      "\u001B[0;31mIndexError\u001B[0m                                Traceback (most recent call last)",
      "Cell \u001B[0;32mIn[6], line 8\u001B[0m\n\u001B[1;32m      5\u001B[0m counterL2 \u001B[38;5;241m=\u001B[39m \u001B[38;5;241m0\u001B[39m\n\u001B[1;32m      7\u001B[0m \u001B[38;5;28;01mwhile\u001B[39;00m(\u001B[38;5;28mlen\u001B[39m(L3)\u001B[38;5;241m!=\u001B[39m \u001B[38;5;28mlen\u001B[39m(L1)\u001B[38;5;241m+\u001B[39m\u001B[38;5;28mlen\u001B[39m(L2)):\n\u001B[0;32m----> 8\u001B[0m     \u001B[38;5;28;01mif\u001B[39;00m(L1[counterL1]\u001B[38;5;241m<\u001B[39m\u001B[43mL2\u001B[49m\u001B[43m[\u001B[49m\u001B[43mcounterL2\u001B[49m\u001B[43m]\u001B[49m \u001B[38;5;241m&\u001B[39m counterL1\u001B[38;5;241m<\u001B[39m\u001B[38;5;28mlen\u001B[39m(L1)):\n\u001B[1;32m      9\u001B[0m         L3\u001B[38;5;241m.\u001B[39mappend(L1[counterL1])\n\u001B[1;32m     10\u001B[0m         counterL1 \u001B[38;5;241m+\u001B[39m\u001B[38;5;241m=\u001B[39m\u001B[38;5;241m1\u001B[39m\n",
      "\u001B[0;31mIndexError\u001B[0m: list index out of range"
     ]
    }
   ],
   "source": [
    "L1 = list([1,3,5,7])\n",
    "L2 = list([2,3,4,6])\n",
    "L3 = list()\n",
    "counterL1 = 0\n",
    "counterL2 = 0\n",
    "\n",
    "while(len(L3)!= len(L1)+len(L2)):\n",
    "    if(L1[counterL1]<L2[counterL2] & counterL1<len(L1)):\n",
    "        L3.append(L1[counterL1])\n",
    "        counterL1 +=1\n",
    "    else:\n",
    "        if(counterL2<len(L2)):\n",
    "            L3.append(L2[counterL2])\n",
    "            counterL2 +=1"
   ],
   "metadata": {
    "collapsed": false,
    "ExecuteTime": {
     "end_time": "2024-02-15T17:23:31.970571Z",
     "start_time": "2024-02-15T17:23:31.956236Z"
    }
   },
   "id": "a1e37517ec0cbbf8",
   "execution_count": 6
  },
  {
   "cell_type": "code",
   "outputs": [],
   "source": [],
   "metadata": {
    "collapsed": false
   },
   "id": "ea3fa7ff50f5efe2"
  }
 ],
 "metadata": {
  "kernelspec": {
   "display_name": "Python 3",
   "language": "python",
   "name": "python3"
  },
  "language_info": {
   "codemirror_mode": {
    "name": "ipython",
    "version": 2
   },
   "file_extension": ".py",
   "mimetype": "text/x-python",
   "name": "python",
   "nbconvert_exporter": "python",
   "pygments_lexer": "ipython2",
   "version": "2.7.6"
  }
 },
 "nbformat": 4,
 "nbformat_minor": 5
}
