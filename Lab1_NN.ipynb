{
 "nbformat": 4,
 "nbformat_minor": 0,
 "metadata": {
  "colab": {
   "provenance": [
    {
     "file_id": "1x4JHYPDIwK2eWMMDxR00-UYkDokkshnF",
     "timestamp": 1687211070013
    }
   ],
   "gpuType": "T4"
  },
  "kernelspec": {
   "name": "python3",
   "display_name": "Python 3"
  },
  "language_info": {
   "name": "python"
  },
  "accelerator": "GPU"
 },
 "cells": [
  {
   "cell_type": "markdown",
   "source": [
    "# Regression with DNN"
   ],
   "metadata": {
    "id": "657JLvobVUwO"
   }
  },
  {
   "cell_type": "markdown",
   "source": [
    "**Objectives :**\n",
    "\n",
    "* Predicts housing prices from a set of house features.\n",
    "* Understanding the principle and the architecture of a regression with a dense neural network with backup and restore of the trained model.\n",
    "\n",
    "The [Boston Housing Prices Dataset](https://www.cs.toronto.edu/~delve/data/boston/bostonDetail.html) consists of price of houses in various places in Boston.\n",
    "Alongside with price, the dataset also provide these information :\n",
    "\n",
    "* CRIM: This is the per capita crime rate by town\n",
    "* ZN: This is the proportion of residential land zoned for lots larger than 25,000 sq.ft\n",
    "* INDUS: This is the proportion of non-retail business acres per town\n",
    "* CHAS: This is the Charles River dummy variable (this is equal to 1 if tract bounds river; 0 otherwise)\n",
    "* NOX: This is the nitric oxides concentration (parts per 10 million)\n",
    "* RM: This is the average number of rooms per dwelling\n",
    "* AGE: This is the proportion of owner-occupied units built prior to 1940\n",
    "* DIS: This is the weighted distances to five Boston employment centers\n",
    "* RAD: This is the index of accessibility to radial highways\n",
    "* TAX: This is the full-value property-tax rate per 10,000 dollars\n",
    "* PTRATIO: This is the pupil-teacher ratio by town\n",
    "* B: This is calculated as 1000(Bk — 0.63)^2, where Bk is the proportion of people of African American descent by town\n",
    "* LSTAT: This is the percentage lower status of the population\n",
    "* MEDV: This is the median value of owner-occupied homes in 1000 dollars\n",
    "\n",
    "**What we're going to do :**\n",
    "\n",
    "* (Retrieve data)\n",
    "* (Preparing the data)\n",
    "* (Build a model)\n",
    "* Train and save the model\n",
    "* Restore saved model\n",
    "* Evaluate the model\n",
    "* Make some predictions\n"
   ],
   "metadata": {
    "id": "o5woqp05VuWR"
   }
  },
  {
   "cell_type": "code",
   "execution_count": 1,
   "metadata": {
    "id": "X_N8j7NlK95Q",
    "executionInfo": {
     "status": "ok",
     "timestamp": 1699439258696,
     "user_tz": -60,
     "elapsed": 3383,
     "user": {
      "displayName": "Fouad Hadj Selem",
      "userId": "11326462517326991585"
     }
    }
   },
   "outputs": [],
   "source": [
    "# import os\n",
    "# os.environ['TF_CPP_MIN_LOG_LEVEL'] = '2'\n",
    "\n",
    "import tensorflow as tf\n",
    "from tensorflow import keras\n",
    "\n",
    "import numpy as np\n",
    "import matplotlib.pyplot as plt\n",
    "import pandas as pd\n",
    "import os,sys\n",
    "\n",
    "from IPython.display import Markdown\n",
    "from importlib import reload\n"
   ]
  },
  {
   "cell_type": "code",
   "source": [
    "#from google.colab import files\n",
    "#uploaded = files.upload()"
   ],
   "metadata": {
    "id": "JSBaR2oheVaV"
   },
   "execution_count": null,
   "outputs": []
  },
  {
   "cell_type": "markdown",
   "source": [
    "Load the boston housing dataset"
   ],
   "metadata": {
    "id": "6d8HIl4AM1Dx"
   }
  },
  {
   "cell_type": "code",
   "source": [
    "import pandas as pd\n",
    "from google.colab import drive\n",
    "drive.mount('/content/gdrive')\n",
    "data = pd.read_csv('gdrive/My Drive/BostonHousing.csv', sep=',',header=0)"
   ],
   "metadata": {
    "colab": {
     "base_uri": "https://localhost:8080/"
    },
    "id": "KdjivSeQdX6M",
    "executionInfo": {
     "status": "ok",
     "timestamp": 1687197614417,
     "user_tz": -120,
     "elapsed": 3138,
     "user": {
      "displayName": "Walid Kheriji",
      "userId": "17231722363260848260"
     }
    },
    "outputId": "dcef007b-f727-4cbb-adc5-91128385a6ca"
   },
   "execution_count": null,
   "outputs": [
    {
     "output_type": "stream",
     "name": "stdout",
     "text": [
      "Drive already mounted at /content/gdrive; to attempt to forcibly remount, call drive.mount(\"/content/gdrive\", force_remount=True).\n"
     ]
    }
   ]
  },
  {
   "cell_type": "code",
   "source": [
    "\n",
    "\n",
    "display(data.head(5).style.format(\"{0:.2f}\"))\n",
    "print('Missing Data : ',data.isna().sum().sum(), '  Shape is : ', data.shape)\n",
    "\n"
   ],
   "metadata": {
    "id": "V_wB6gOtYZg5"
   },
   "execution_count": null,
   "outputs": []
  },
  {
   "cell_type": "markdown",
   "source": [
    "## Exe 1: Data Preparation\n",
    "\n",
    "\n",
    "Use 70% of the data for training and 30% for validation.\n",
    "The dataset is shuffled and shared between learning and testing.\n",
    "x will be input data and y the expected output\n",
    "Check the data shape and sizes."
   ],
   "metadata": {
    "id": "uSJDYfo5fPHC"
   }
  },
  {
   "cell_type": "code",
   "source": [
    "# ---- Shuffle and Split => train, test\n",
    "#\n",
    "data       = data.sample(frac=1., axis=0)\n",
    "data_train = data.sample(frac=0.7, axis=0)\n",
    "data_test  = data.drop(data_train.index)\n",
    "\n",
    "# ---- Split => x,y (medv is price)\n",
    "#\n",
    "x_train = data_train.drop('medv',  axis=1)\n",
    "y_train = data_train['medv']\n",
    "x_test  = data_test.drop('medv',   axis=1)\n",
    "y_test  = data_test['medv']\n",
    "\n",
    "print('Original data shape was : ',data.shape)\n",
    "print('x_train : ',x_train.shape, 'y_train : ',y_train.shape)\n",
    "print('x_test  : ',x_test.shape,  'y_test  : ',y_test.shape)"
   ],
   "metadata": {
    "id": "w4qzQudGfPsH"
   },
   "execution_count": null,
   "outputs": []
  },
  {
   "cell_type": "markdown",
   "source": [
    "## Exe 2: Data normalization\n",
    "\n",
    "Normalizing data For each feature in the input data (a column in the\n",
    "input data matrix), subtract the mean of the feature and divide by the standard\n",
    "deviation\n",
    "\n",
    "**Note :**\n",
    "\n",
    "* All input data must be normalized, train and test.\n",
    "* To do this we will subtract the mean and divide by the standard deviation.\n",
    "* But test data should not be used in any way, even for normalization.\n",
    "* The mean and the standard deviation will therefore only be calculated with the train data.\n"
   ],
   "metadata": {
    "id": "kTIW5DG1gH3s"
   }
  },
  {
   "cell_type": "code",
   "source": [
    "display(x_train.describe().style.format(\"{0:.2f}\").set_caption(\"Before normalization :\"))\n",
    "\n",
    "mean = x_train.mean()\n",
    "std  = x_train.std()\n",
    "x_train = # TODO\n",
    "x_test  = # TODO\n",
    "\n",
    "display(x_train.describe().style.format(\"{0:.2f}\").set_caption(\"After normalization :\"))\n",
    "display(x_train.head(5).style.format(\"{0:.2f}\").set_caption(\"Few lines of the dataset :\"))\n",
    "\n",
    "x_train, y_train = # TODO\n",
    "x_test,  y_test  = # TODO"
   ],
   "metadata": {
    "id": "irUk5OvCK9qm"
   },
   "execution_count": null,
   "outputs": []
  },
  {
   "cell_type": "markdown",
   "source": [
    "## Exo4:  Model Design"
   ],
   "metadata": {
    "id": "tk5PT-GONvp0"
   }
  },
  {
   "cell_type": "markdown",
   "source": [
    "Design a neural network architecture with two hidden layers, each consisting of 64 units and utilizing the ReLU activation function. To obtain a linear output layer, include a final layer with a single unit and no activation function. Compile the network using the mean squared error (MSE) loss function. Additionally, monitor a new metric, mean absolute error (MAE), during training. Finally, define the optimizer as 'rmsprop' in the model compilation.\n",
    "\n",
    "Define the model within a function named build_model(shape)\n",
    "\n",
    "\n",
    "More informations about :\n",
    "\n",
    "\n",
    "* [Optimizer](https://www.tensorflow.org/api_docs/python/tf/keras/optimizers)\n",
    "* [Activation](https://www.tensorflow.org/api_docs/python/tf/keras/activations)\n",
    "* [Loss](https://www.tensorflow.org/api_docs/python/tf/keras/losses)\n",
    "* [Metrics](https://www.tensorflow.org/api_docs/python/tf/keras/metrics)\n",
    "\n",
    "\n"
   ],
   "metadata": {
    "id": "J_kotgwULVcH"
   }
  },
  {
   "cell_type": "code",
   "source": [
    "from keras import models\n",
    "from keras import layers\n",
    "def build_model (shape):\n",
    "\n",
    "  # TODO\n",
    "\n",
    "  return model\n",
    "# complete the model here\n"
   ],
   "metadata": {
    "id": "wA391yVKNX3n"
   },
   "execution_count": null,
   "outputs": []
  },
  {
   "cell_type": "markdown",
   "source": [
    "## Exe 5 : Model Building\n",
    "\n",
    " Use the build_model function to create a model with a shape equal to the number of features. Display its summary."
   ],
   "metadata": {
    "id": "4iv88RDcQP7s"
   }
  },
  {
   "cell_type": "code",
   "source": [
    "\n",
    "\n",
    "model=build_model( (13,) )\n",
    "\n",
    "model.summary()"
   ],
   "metadata": {
    "id": "Djh2Efl8aDDH"
   },
   "execution_count": null,
   "outputs": []
  },
  {
   "cell_type": "markdown",
   "source": [
    "\n",
    "\n",
    "## Exe 6 : Model Fitting\n",
    "\n",
    "Fit the model on the train set with the test set as the\n",
    "validation set, 60 epochs and save it in history.\n",
    "\n"
   ],
   "metadata": {
    "id": "x6Px4Da0b1mx"
   }
  },
  {
   "cell_type": "code",
   "source": [
    "history = # TODO"
   ],
   "metadata": {
    "id": "_HcO_9Y5b2jP"
   },
   "execution_count": null,
   "outputs": []
  },
  {
   "cell_type": "markdown",
   "source": [
    "## Exe 7 : Model evaluation\n",
    "\n",
    "It is the moment for checking the model performance on the test dataset.\n",
    "\n",
    "Check the test loss and mae of the model.\n",
    "\n",
    "* MAE = Mean Absolute Error (between the labels and predictions)\n",
    "\n",
    "=> A mae equal to 3 represents an average error in prediction of $3k."
   ],
   "metadata": {
    "id": "YpxzW-1p2EXJ"
   }
  },
  {
   "cell_type": "code",
   "source": [
    "\n",
    "\n",
    "score = # TODO\n",
    "\n",
    "print('x_test / loss      : {:5.4f}'.format(score[0]))\n",
    "print('x_test / mae       : {:5.4f}'.format(score[1]))\n",
    "\n"
   ],
   "metadata": {
    "id": "eBXglsV82RKG"
   },
   "execution_count": null,
   "outputs": []
  },
  {
   "cell_type": "markdown",
   "source": [
    "## Exe 8 : Training histroy\n",
    "\n",
    "What was the best result during our training ?"
   ],
   "metadata": {
    "id": "33BEc6MW4ojs"
   }
  },
  {
   "cell_type": "code",
   "source": [
    "df=pd.DataFrame(data=history.history)\n",
    "display(df)"
   ],
   "metadata": {
    "id": "k66U8rtf6GnC"
   },
   "execution_count": null,
   "outputs": []
  },
  {
   "cell_type": "code",
   "source": [
    "print(\"min( val_mae ) : {:.4f}\".format( min(history.history[\"val_mae\"]) ) )"
   ],
   "metadata": {
    "colab": {
     "base_uri": "https://localhost:8080/"
    },
    "id": "q3CC28B16UHT",
    "executionInfo": {
     "status": "ok",
     "timestamp": 1687200731976,
     "user_tz": -120,
     "elapsed": 404,
     "user": {
      "displayName": "Walid Kheriji",
      "userId": "17231722363260848260"
     }
    },
    "outputId": "828a3a7f-520a-4bea-8dbc-6bb544a81c26"
   },
   "execution_count": null,
   "outputs": [
    {
     "output_type": "stream",
     "name": "stdout",
     "text": [
      "min( val_mae ) : 2.3227\n"
     ]
    }
   ]
  },
  {
   "cell_type": "code",
   "source": [
    "history.history.keys()"
   ],
   "metadata": {
    "colab": {
     "base_uri": "https://localhost:8080/"
    },
    "id": "2Ps1brPN6xEh",
    "executionInfo": {
     "status": "ok",
     "timestamp": 1687200734865,
     "user_tz": -120,
     "elapsed": 575,
     "user": {
      "displayName": "Walid Kheriji",
      "userId": "17231722363260848260"
     }
    },
    "outputId": "2c6bf989-0887-4bc4-9374-f18ce9fae8b0"
   },
   "execution_count": null,
   "outputs": [
    {
     "output_type": "execute_result",
     "data": {
      "text/plain": [
       "dict_keys(['loss', 'mae', 'val_loss', 'val_mae'])"
      ]
     },
     "metadata": {},
     "execution_count": 37
    }
   ]
  },
  {
   "cell_type": "code",
   "source": [
    "\n",
    "plt.plot(history.history['loss'],linestyle='--', marker='+', label='train' )\n",
    "plt.plot(history.history['val_loss'],linestyle='--', marker='o', label='test')\n",
    "plt.title('LOSS', pad=-50)\n",
    "plt.legend()\n",
    "#plt.title('lrate='+str(lrate), pad=-50)\n",
    "\n"
   ],
   "metadata": {
    "id": "2V_QxA_-6XQ2"
   },
   "execution_count": null,
   "outputs": []
  },
  {
   "cell_type": "code",
   "source": [
    "plt.plot(history.history['mae'],linestyle='--', marker='+', label='train' )\n",
    "plt.plot(history.history['val_mae'],linestyle='--', marker='o', label='test')\n",
    "plt.title('MAE', pad=-50)\n",
    "plt.legend()"
   ],
   "metadata": {
    "id": "DPlUFKOy77Cr"
   },
   "execution_count": null,
   "outputs": []
  },
  {
   "cell_type": "markdown",
   "source": [
    "## Exe 9: Model Prediction\n",
    "\n",
    "Use the trained neural network model, to predict the price of a given house and compare the result with the ground truth"
   ],
   "metadata": {
    "id": "4tuYScCT8Rah"
   }
  },
  {
   "cell_type": "code",
   "source": [
    "\n",
    "\n",
    "my_house = [ 1.26425925, -0.48522739,  1.0436489 , -0.23112788,  1.37120745,\n",
    "       -2.14308942,  1.13489104, -1.06802005,  1.71189006,  1.57042287,\n",
    "        0.77859951,  0.14769795,  2.7585581 ]\n",
    "real_price = 10.4\n",
    "\n",
    "my_house= # TODO\n",
    "\n"
   ],
   "metadata": {
    "id": "fiRxcz2m8Ybg"
   },
   "execution_count": null,
   "outputs": []
  },
  {
   "cell_type": "code",
   "source": [
    "\n",
    "\n",
    "predictions = # TODO\n",
    "print(\"Prediction : {:.2f} K$\".format(predictions[0][0]))\n",
    "print(\"Reality    : {:.2f} K$\".format(real_price))\n",
    "\n"
   ],
   "metadata": {
    "id": "5REqbpBf8cF_"
   },
   "execution_count": null,
   "outputs": []
  },
  {
   "cell_type": "markdown",
   "source": [
    "## Exe 10 Early stoping\n",
    "\n",
    "Create a neural network with the following specifications:\n",
    "\n",
    "* Number of hidden layers: 2\n",
    "* Number of units in each hidden layer: 64\n",
    "* Activation function for the hidden layers: ReLU\n",
    "* Output layer: Single unit with no activation function (for linear output)\n",
    "* Loss function: Mean Squared Error (MSE)\n",
    "* Additional metric to monitor during training: Mean Absolute Error (MAE)\n",
    "* Optimizer: 'rmsprop'\n",
    "* Apply dropout after each hidden layer with a dropout rate of 0.5 (50% of nodes dropped randomly for the following layer)\n",
    "* Minibatch size: 100\n",
    "* Use early stopping for fitting the model with patience=20 and epochs = 300\n",
    "* Save the best model as 'model_best'\n",
    "* Evaluate the saved model on the test data"
   ],
   "metadata": {
    "id": "Al8LGaguGbFw"
   }
  },
  {
   "cell_type": "code",
   "source": [
    "  model = keras.models.Sequential()\n",
    "  # TODO\n"
   ],
   "metadata": {
    "id": "VHeSqPpOHleE"
   },
   "execution_count": null,
   "outputs": []
  },
  {
   "cell_type": "code",
   "source": [
    "from keras.callbacks import ModelCheckpoint\n",
    "from keras.callbacks import EarlyStopping\n",
    "from keras.models import load_model"
   ],
   "metadata": {
    "id": "l6g9Bx-DGarX"
   },
   "execution_count": null,
   "outputs": []
  },
  {
   "cell_type": "code",
   "source": [
    "es = EarlyStopping(# TODO)\n",
    "mc = ModelCheckpoint(# TODO)\n",
    "model.compile(# TODO)"
   ],
   "metadata": {
    "id": "t4cpGLcuHN_y"
   },
   "execution_count": null,
   "outputs": []
  },
  {
   "cell_type": "code",
   "source": [
    "history = model.fit(# TODO)\n",
    "saved_model = load_model('model_best.h5')"
   ],
   "metadata": {
    "id": "Lh0TNO83Hdzi"
   },
   "execution_count": null,
   "outputs": []
  },
  {
   "cell_type": "code",
   "source": [
    "test_loss, test_acc = # TODO\n",
    "print(test_loss, test_acc)"
   ],
   "metadata": {
    "id": "k4Yn5vSPHjsK"
   },
   "execution_count": null,
   "outputs": []
  },
  {
   "cell_type": "markdown",
   "source": [
    "# Classification with DNN"
   ],
   "metadata": {
    "id": "9ukmkExmVf2Y"
   }
  },
  {
   "cell_type": "markdown",
   "source": [
    "## Exe 1:  Import data\n",
    "\n",
    "Import the cifra10 data set. The CIFAR-10 dataset consists of 60000\n",
    "32 x 32 colour images in 10 classes, with 6000 images per class. There are\n",
    "50000 training images and 10000 test images: https://www.tensorflow.org/datasets/catalog/cifar10"
   ],
   "metadata": {
    "id": "ki33nGO6PBw4"
   }
  },
  {
   "cell_type": "code",
   "source": [
    "data = keras . datasets . cifar10\n",
    "cifar10_data = data . load_data ()"
   ],
   "metadata": {
    "colab": {
     "base_uri": "https://localhost:8080/"
    },
    "id": "TVAGkI_1PlxE",
    "executionInfo": {
     "status": "ok",
     "timestamp": 1687204837792,
     "user_tz": -120,
     "elapsed": 15713,
     "user": {
      "displayName": "Walid Kheriji",
      "userId": "17231722363260848260"
     }
    },
    "outputId": "a9a14d94-2649-4660-a68d-931b2d0f870c"
   },
   "execution_count": null,
   "outputs": [
    {
     "output_type": "stream",
     "name": "stdout",
     "text": [
      "Downloading data from https://www.cs.toronto.edu/~kriz/cifar-10-python.tar.gz\n",
      "170498071/170498071 [==============================] - 11s 0us/step\n"
     ]
    }
   ]
  },
  {
   "cell_type": "markdown",
   "source": [
    "## Exe 2 :\n",
    "\n",
    "Before using a dataset, the datatype should be checked. Test *type(cifar10 data)*\n",
    "for verifying the variable type. *len(cifar10 data)* is another command for\n",
    "checking the data size."
   ],
   "metadata": {
    "id": "2Fs6Kfq3PpAF"
   }
  },
  {
   "cell_type": "code",
   "source": [
    "type(cifar10_data)"
   ],
   "metadata": {
    "colab": {
     "base_uri": "https://localhost:8080/"
    },
    "id": "zU7mG6kZQ__a",
    "executionInfo": {
     "status": "ok",
     "timestamp": 1687205187192,
     "user_tz": -120,
     "elapsed": 389,
     "user": {
      "displayName": "Walid Kheriji",
      "userId": "17231722363260848260"
     }
    },
    "outputId": "ebc115aa-8dde-48a3-f89c-3f63ce83447d"
   },
   "execution_count": null,
   "outputs": [
    {
     "output_type": "execute_result",
     "data": {
      "text/plain": [
       "tuple"
      ]
     },
     "metadata": {},
     "execution_count": 50
    }
   ]
  },
  {
   "cell_type": "code",
   "source": [
    "\n",
    "len(cifar10_data)"
   ],
   "metadata": {
    "colab": {
     "base_uri": "https://localhost:8080/"
    },
    "id": "rojeY8rwP82_",
    "executionInfo": {
     "status": "ok",
     "timestamp": 1687205190451,
     "user_tz": -120,
     "elapsed": 371,
     "user": {
      "displayName": "Walid Kheriji",
      "userId": "17231722363260848260"
     }
    },
    "outputId": "815a9939-b1f6-44df-caf5-d1b9fec63774"
   },
   "execution_count": null,
   "outputs": [
    {
     "output_type": "execute_result",
     "data": {
      "text/plain": [
       "2"
      ]
     },
     "metadata": {},
     "execution_count": 51
    }
   ]
  },
  {
   "cell_type": "markdown",
   "source": [
    "## Exe 3: Train and Test\n",
    "\n",
    "Load train and test images and labels with:"
   ],
   "metadata": {
    "id": "t5nwGMbpP9rF"
   }
  },
  {
   "cell_type": "code",
   "source": [
    "(train_images, train_labels),(test_images, test_labels) = cifar10_data"
   ],
   "metadata": {
    "id": "aHu03ewPTlHP"
   },
   "execution_count": null,
   "outputs": []
  },
  {
   "cell_type": "markdown",
   "source": [
    "## Exe 4:\n",
    "\n",
    "The images are 32 x 32 NumPy arrays, with pixel values ranging from 0\n",
    "to 255. You can check an example with:"
   ],
   "metadata": {
    "id": "Bs_zxmn8Tmml"
   }
  },
  {
   "cell_type": "code",
   "source": [
    "print ( train_images[0])\n",
    "print ( train_images[0].shape )"
   ],
   "metadata": {
    "id": "EF2nXJGYTqlE"
   },
   "execution_count": null,
   "outputs": []
  },
  {
   "cell_type": "code",
   "source": [
    "np.unique(train_labels)"
   ],
   "metadata": {
    "id": "tdJasNPVTv8G"
   },
   "execution_count": null,
   "outputs": []
  },
  {
   "cell_type": "markdown",
   "source": [
    "## Exe 5: Chek\n",
    "\n",
    "Check the dataset using the following commands:"
   ],
   "metadata": {
    "id": "Es46ai0xT26Q"
   }
  },
  {
   "cell_type": "code",
   "source": [
    "print(\"train_images shape : \",train_images.shape)\n",
    "\n",
    "print(\"train_labels size\", len(train_labels))\n",
    "\n",
    "print(\"train_labels\",train_labels)\n",
    "\n",
    "print(\"test_images shape : \",test_images.shape)\n",
    "\n",
    "print(\"test_labels\",test_labels)"
   ],
   "metadata": {
    "id": "MWaAn4KBT2C4"
   },
   "execution_count": null,
   "outputs": []
  },
  {
   "cell_type": "markdown",
   "source": [
    "## Exe 6: Image Visualization\n",
    "\n",
    "An interesting fact about the image is that it can be plotted. To visualize an image, you can use the following code:"
   ],
   "metadata": {
    "id": "Q3rD-pstT_mN"
   }
  },
  {
   "cell_type": "code",
   "source": [
    "index = 50\n",
    "plt.figure()\n",
    "plt.imshow(train_images[index])\n",
    "plt.colorbar()\n",
    "plt.show()\n",
    "\n",
    "train_labels[index]"
   ],
   "metadata": {
    "id": "jAyspozuUD-I"
   },
   "execution_count": null,
   "outputs": []
  },
  {
   "cell_type": "markdown",
   "source": [
    "## Exe 7 : Display images and class name\n",
    "\n",
    "To verify that the data is in the correct format and that you're ready to\n",
    "build and train the network, let's display the first 25 images from the training\n",
    "set and display the class name below each image."
   ],
   "metadata": {
    "id": "Hiaui9iOUJHi"
   }
  },
  {
   "cell_type": "code",
   "source": [
    "class_names = [ 'airplane' , 'automobile' , 'bird' , 'cat' , 'deer' , 'dog' , 'frog' , 'horse' , 'ship' , 'truck']"
   ],
   "metadata": {
    "id": "8HJTPi3vULkD"
   },
   "execution_count": null,
   "outputs": []
  },
  {
   "cell_type": "code",
   "source": [
    "plt.figure(figsize=(20,20))\n",
    "for i in range(25):\n",
    "    # TODO\n",
    "plt.show()"
   ],
   "metadata": {
    "id": "05yOlft8UWBa"
   },
   "execution_count": null,
   "outputs": []
  },
  {
   "cell_type": "markdown",
   "source": [
    "## Exe 8: Dataset Normalization\n",
    "\n",
    "Normalize the train and test sets using the following code"
   ],
   "metadata": {
    "id": "5TMDlNttUTu5"
   }
  },
  {
   "cell_type": "code",
   "source": [
    "train_images_before = train_images\n",
    "test_images_before = test_images"
   ],
   "metadata": {
    "id": "fPI6ND4eUesV"
   },
   "execution_count": null,
   "outputs": []
  },
  {
   "cell_type": "code",
   "source": [
    "train_images = # TODO\n",
    "test_images = # TODO"
   ],
   "metadata": {
    "id": "H88JwUjfUg9S"
   },
   "execution_count": null,
   "outputs": []
  },
  {
   "cell_type": "code",
   "source": [
    "train_images"
   ],
   "metadata": {
    "id": "v7JiMXwfUkES"
   },
   "execution_count": null,
   "outputs": []
  },
  {
   "cell_type": "markdown",
   "source": [
    "## Exo 9: Model\n",
    "\n",
    "Build a neural network with the following structure:\n",
    "\n",
    "\n",
    "1.   The first layer should be a **Flatten** layer that transforms the format of the images from a two-dimensional array (32 by 32 pixels) to a one-dimensional array (1024 pixels). This layer simply unstacks the rows of pixels in the image and lines them up. It has no parameters to learn and only reformats the data.\n",
    "\n",
    "2.   After the pixels are flattened, the network should consist of two **Dense** layers. The first **Dense** layer should have 128 neurons.\n",
    "\n",
    "3.   The second (and last) layer should be a **softmax** layer with 10 neurons, which returns an array of 10 probability scores that sum to 1. Each neuron contains a score indicating the probability that the current image belongs to one of the 10 classes."
   ],
   "metadata": {
    "id": "n3byMSmNUos5"
   }
  },
  {
   "cell_type": "code",
   "source": [
    "model = keras.Sequential([\n",
    "    # TODO\n",
    "])"
   ],
   "metadata": {
    "id": "4QuOBz6vUsvH"
   },
   "execution_count": null,
   "outputs": []
  },
  {
   "cell_type": "markdown",
   "source": [
    "## Exe 10: Train the model\n",
    "\n",
    "Compile the model using the appropriate optimizer, loss function, and metrics. Set the optimizer to 'adam', the loss function to 'sparse_categorical_crossentropy', and the metric to 'accuracy'.\n",
    "\n",
    "Train the model, using the fit method on the model object. Pass in the train_images as the training data and train_labels as the corresponding labels."
   ],
   "metadata": {
    "id": "I6nx9weiU4Zp"
   }
  },
  {
   "cell_type": "code",
   "source": [
    "model.compile(# TODO)"
   ],
   "metadata": {
    "id": "qU6jh_NpU5T_"
   },
   "execution_count": null,
   "outputs": []
  },
  {
   "cell_type": "code",
   "source": [
    "model.fit(# TODO)"
   ],
   "metadata": {
    "id": "f9jDzezRVCVv"
   },
   "execution_count": null,
   "outputs": []
  },
  {
   "cell_type": "markdown",
   "source": [
    "## Exe 11: Evaluate the model\n",
    "\n",
    "Chek the model performance on the test dataset."
   ],
   "metadata": {
    "id": "IHZX17lKVTg6"
   }
  },
  {
   "cell_type": "code",
   "source": [
    "test_loss, test_acc = model.evaluate(# TODO)\n",
    "\n",
    "print('\\nTest accuracy:', test_acc)"
   ],
   "metadata": {
    "id": "NJelBNIzVY1o"
   },
   "execution_count": null,
   "outputs": []
  },
  {
   "cell_type": "markdown",
   "source": [
    "## Exo12\n",
    "\n",
    "Now that the model has been trained, we can use it to make predictions on some images.\n",
    "\n",
    "1.  Use the trained model to make predictions on the test_images dataset by calling model.predict(test_images). This will generate predictions for each image in the testing set.\n",
    "\n",
    "2. Print the first, second, and third element of the predicted test set. Each element contains 10 values representing the probability of each label.\n",
    "\n",
    "3. After printing the predicted test set, use the np.argmax() function to choose the label with the highest probability for each element.\n",
    "\n",
    "4. Compare the predicted label for the first three elements with their actual labels. How many of them are correct?"
   ],
   "metadata": {
    "id": "LbTek6WTVaNg"
   }
  },
  {
   "cell_type": "code",
   "source": [
    "predictions = # TODO\n"
   ],
   "metadata": {
    "id": "o-ycSqmMVnci"
   },
   "execution_count": null,
   "outputs": []
  },
  {
   "cell_type": "code",
   "source": [
    "# TODO"
   ],
   "metadata": {
    "id": "bott6dprVqsL"
   },
   "execution_count": null,
   "outputs": []
  },
  {
   "cell_type": "code",
   "source": [
    "# TODO"
   ],
   "metadata": {
    "id": "8KZ6ieyMVyyb"
   },
   "execution_count": null,
   "outputs": []
  },
  {
   "cell_type": "code",
   "source": [
    "# TODO"
   ],
   "metadata": {
    "id": "mQPxi44EV1Ps"
   },
   "execution_count": null,
   "outputs": []
  },
  {
   "cell_type": "markdown",
   "source": [
    "## Exe13 :  Checking Predicted Labels\n",
    "\n",
    "Now, let's write a function to check the predicted labels and visualize the results. The function should display the predicted labels similar to the above Figure, indicating the probability of the predicted label. If the prediction is correct, the label should be displayed in blue, otherwise in red."
   ],
   "metadata": {
    "id": "pGA_52v_V4ZL"
   }
  },
  {
   "cell_type": "code",
   "source": [
    "def plot_image(i, predictions_array, true_label, img):\n",
    "\n",
    "  # TODO"
   ],
   "metadata": {
    "id": "BAb9tMhjV6IJ"
   },
   "execution_count": null,
   "outputs": []
  },
  {
   "cell_type": "code",
   "source": [
    "class_names = [ 'airplane' , 'automobile' , 'bird' , 'cat' , 'deer' , 'dog' , 'frog' , 'horse' , 'ship' , 'truck']\n"
   ],
   "metadata": {
    "id": "mno_VQAoV-N7"
   },
   "execution_count": null,
   "outputs": []
  },
  {
   "cell_type": "code",
   "source": [
    "i = 50\n",
    "plt.figure(figsize=(6,3))\n",
    "plot_image(i, predictions[i], test_labels[i], test_images[i])\n",
    "plt.show()\n",
    "predictions[i]"
   ],
   "metadata": {
    "id": "33p62VQEWAf2"
   },
   "execution_count": null,
   "outputs": []
  },
  {
   "cell_type": "markdown",
   "source": [
    "# Homework Assignment: Deep Neural Network Classification with Fashion MNIST\n",
    "\n",
    "Redo the classification part, this time utilizing the Fashion MNIST dataset and a DNN model with three Dense layers. The first and second Dense layers should have 128 neurons each. Additionally, incorporate the following specifications:\n",
    "\n",
    "* Apply dropout after each hidden layer with a dropout rate of 0.25 (25% of neurons dropped randomly for the subsequent layer).\n",
    "*  Set the batch size to 512.\n",
    "*  Implement early stopping while fitting the model with a patience value of 20 and a maximum number of epochs set to 200.\n",
    "*  Save the best model as 'model_best'.\n",
    "*  Evaluate the saved model on the test data.\n",
    "\n",
    "**For the submission of your work, please submit your completed assignment in HTML format.**\n",
    "\n"
   ],
   "metadata": {
    "id": "4ODJiuu3u4JE"
   }
  }
 ]
}
