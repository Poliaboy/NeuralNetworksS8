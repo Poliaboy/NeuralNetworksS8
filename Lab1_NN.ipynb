{
 "nbformat": 4,
 "nbformat_minor": 0,
 "metadata": {
  "colab": {
   "provenance": [
    {
     "file_id": "1x4JHYPDIwK2eWMMDxR00-UYkDokkshnF",
     "timestamp": 1687211070013
    }
   ],
   "gpuType": "T4"
  },
  "kernelspec": {
   "name": "python3",
   "language": "python",
   "display_name": "Python 3 (ipykernel)"
  },
  "language_info": {
   "name": "python"
  },
  "accelerator": "GPU"
 },
 "cells": [
  {
   "cell_type": "markdown",
   "source": [
    "# Regression with DNN"
   ],
   "metadata": {
    "id": "657JLvobVUwO"
   }
  },
  {
   "cell_type": "markdown",
   "source": [
    "**Objectives :**\n",
    "\n",
    "* Predicts housing prices from a set of house features.\n",
    "* Understanding the principle and the architecture of a regression with a dense neural network with backup and restore of the trained model.\n",
    "\n",
    "The [Boston Housing Prices Dataset](https://www.cs.toronto.edu/~delve/data/boston/bostonDetail.html) consists of price of houses in various places in Boston.\n",
    "Alongside with price, the dataset also provide these information :\n",
    "\n",
    "* CRIM: This is the per capita crime rate by town\n",
    "* ZN: This is the proportion of residential land zoned for lots larger than 25,000 sq.ft\n",
    "* INDUS: This is the proportion of non-retail business acres per town\n",
    "* CHAS: This is the Charles River dummy variable (this is equal to 1 if tract bounds river; 0 otherwise)\n",
    "* NOX: This is the nitric oxides concentration (parts per 10 million)\n",
    "* RM: This is the average number of rooms per dwelling\n",
    "* AGE: This is the proportion of owner-occupied units built prior to 1940\n",
    "* DIS: This is the weighted distances to five Boston employment centers\n",
    "* RAD: This is the index of accessibility to radial highways\n",
    "* TAX: This is the full-value property-tax rate per 10,000 dollars\n",
    "* PTRATIO: This is the pupil-teacher ratio by town\n",
    "* B: This is calculated as 1000(Bk — 0.63)^2, where Bk is the proportion of people of African American descent by town\n",
    "* LSTAT: This is the percentage lower status of the population\n",
    "* MEDV: This is the median value of owner-occupied homes in 1000 dollars\n",
    "\n",
    "**What we're going to do :**\n",
    "\n",
    "* (Retrieve data)\n",
    "* (Preparing the data)\n",
    "* (Build a model)\n",
    "* Train and save the model\n",
    "* Restore saved model\n",
    "* Evaluate the model\n",
    "* Make some predictions\n"
   ],
   "metadata": {
    "id": "o5woqp05VuWR"
   }
  },
  {
   "cell_type": "code",
   "execution_count": 432,
   "metadata": {
    "id": "X_N8j7NlK95Q",
    "executionInfo": {
     "status": "ok",
     "timestamp": 1699439258696,
     "user_tz": -60,
     "elapsed": 3383,
     "user": {
      "displayName": "Fouad Hadj Selem",
      "userId": "11326462517326991585"
     }
    },
    "ExecuteTime": {
     "end_time": "2024-01-26T15:07:10.356101Z",
     "start_time": "2024-01-26T15:07:10.225732Z"
    }
   },
   "outputs": [],
   "source": [
    "# import os\n",
    "# os.environ['TF_CPP_MIN_LOG_LEVEL'] = '2'\n",
    "\n",
    "import tensorflow as tf\n",
    "from tensorflow import keras\n",
    "\n",
    "import numpy as np\n",
    "import matplotlib.pyplot as plt\n",
    "import pandas as pd\n",
    "import os,sys\n",
    "\n",
    "from IPython.display import Markdown\n",
    "from importlib import reload\n"
   ]
  },
  {
   "cell_type": "markdown",
   "source": [
    "Load the boston housing dataset"
   ],
   "metadata": {
    "id": "6d8HIl4AM1Dx"
   }
  },
  {
   "cell_type": "code",
   "source": [
    "import pandas as pd\n",
    "data = pd.read_csv('Boston Housing.csv', sep=',',header=0)"
   ],
   "metadata": {
    "colab": {
     "base_uri": "https://localhost:8080/"
    },
    "id": "KdjivSeQdX6M",
    "executionInfo": {
     "status": "ok",
     "timestamp": 1687197614417,
     "user_tz": -120,
     "elapsed": 3138,
     "user": {
      "displayName": "Walid Kheriji",
      "userId": "17231722363260848260"
     }
    },
    "outputId": "dcef007b-f727-4cbb-adc5-91128385a6ca",
    "ExecuteTime": {
     "end_time": "2024-01-26T15:07:10.433978Z",
     "start_time": "2024-01-26T15:07:10.358269Z"
    }
   },
   "execution_count": 433,
   "outputs": []
  },
  {
   "cell_type": "code",
   "source": [
    "\n",
    "\n",
    "display(data.head(5).style.format(\"{0:.2f}\"))\n",
    "print('Missing Data : ',data.isna().sum().sum(), '  Shape is : ', data.shape)\n",
    "\n"
   ],
   "metadata": {
    "id": "V_wB6gOtYZg5",
    "ExecuteTime": {
     "end_time": "2024-01-26T15:07:10.451596Z",
     "start_time": "2024-01-26T15:07:10.369949Z"
    }
   },
   "execution_count": 434,
   "outputs": [
    {
     "data": {
      "text/plain": "<pandas.io.formats.style.Styler at 0x2c495b210>",
      "text/html": "<style type=\"text/css\">\n</style>\n<table id=\"T_d3169\">\n  <thead>\n    <tr>\n      <th class=\"blank level0\" >&nbsp;</th>\n      <th id=\"T_d3169_level0_col0\" class=\"col_heading level0 col0\" >crim</th>\n      <th id=\"T_d3169_level0_col1\" class=\"col_heading level0 col1\" >zn</th>\n      <th id=\"T_d3169_level0_col2\" class=\"col_heading level0 col2\" >indus</th>\n      <th id=\"T_d3169_level0_col3\" class=\"col_heading level0 col3\" >chas</th>\n      <th id=\"T_d3169_level0_col4\" class=\"col_heading level0 col4\" >nox</th>\n      <th id=\"T_d3169_level0_col5\" class=\"col_heading level0 col5\" >rm</th>\n      <th id=\"T_d3169_level0_col6\" class=\"col_heading level0 col6\" >age</th>\n      <th id=\"T_d3169_level0_col7\" class=\"col_heading level0 col7\" >dis</th>\n      <th id=\"T_d3169_level0_col8\" class=\"col_heading level0 col8\" >rad</th>\n      <th id=\"T_d3169_level0_col9\" class=\"col_heading level0 col9\" >tax</th>\n      <th id=\"T_d3169_level0_col10\" class=\"col_heading level0 col10\" >ptratio</th>\n      <th id=\"T_d3169_level0_col11\" class=\"col_heading level0 col11\" >b</th>\n      <th id=\"T_d3169_level0_col12\" class=\"col_heading level0 col12\" >lstat</th>\n      <th id=\"T_d3169_level0_col13\" class=\"col_heading level0 col13\" >medv</th>\n    </tr>\n  </thead>\n  <tbody>\n    <tr>\n      <th id=\"T_d3169_level0_row0\" class=\"row_heading level0 row0\" >0</th>\n      <td id=\"T_d3169_row0_col0\" class=\"data row0 col0\" >0.01</td>\n      <td id=\"T_d3169_row0_col1\" class=\"data row0 col1\" >18.00</td>\n      <td id=\"T_d3169_row0_col2\" class=\"data row0 col2\" >2.31</td>\n      <td id=\"T_d3169_row0_col3\" class=\"data row0 col3\" >0.00</td>\n      <td id=\"T_d3169_row0_col4\" class=\"data row0 col4\" >0.54</td>\n      <td id=\"T_d3169_row0_col5\" class=\"data row0 col5\" >6.58</td>\n      <td id=\"T_d3169_row0_col6\" class=\"data row0 col6\" >65.20</td>\n      <td id=\"T_d3169_row0_col7\" class=\"data row0 col7\" >4.09</td>\n      <td id=\"T_d3169_row0_col8\" class=\"data row0 col8\" >1.00</td>\n      <td id=\"T_d3169_row0_col9\" class=\"data row0 col9\" >296.00</td>\n      <td id=\"T_d3169_row0_col10\" class=\"data row0 col10\" >15.30</td>\n      <td id=\"T_d3169_row0_col11\" class=\"data row0 col11\" >396.90</td>\n      <td id=\"T_d3169_row0_col12\" class=\"data row0 col12\" >4.98</td>\n      <td id=\"T_d3169_row0_col13\" class=\"data row0 col13\" >24.00</td>\n    </tr>\n    <tr>\n      <th id=\"T_d3169_level0_row1\" class=\"row_heading level0 row1\" >1</th>\n      <td id=\"T_d3169_row1_col0\" class=\"data row1 col0\" >0.03</td>\n      <td id=\"T_d3169_row1_col1\" class=\"data row1 col1\" >0.00</td>\n      <td id=\"T_d3169_row1_col2\" class=\"data row1 col2\" >7.07</td>\n      <td id=\"T_d3169_row1_col3\" class=\"data row1 col3\" >0.00</td>\n      <td id=\"T_d3169_row1_col4\" class=\"data row1 col4\" >0.47</td>\n      <td id=\"T_d3169_row1_col5\" class=\"data row1 col5\" >6.42</td>\n      <td id=\"T_d3169_row1_col6\" class=\"data row1 col6\" >78.90</td>\n      <td id=\"T_d3169_row1_col7\" class=\"data row1 col7\" >4.97</td>\n      <td id=\"T_d3169_row1_col8\" class=\"data row1 col8\" >2.00</td>\n      <td id=\"T_d3169_row1_col9\" class=\"data row1 col9\" >242.00</td>\n      <td id=\"T_d3169_row1_col10\" class=\"data row1 col10\" >17.80</td>\n      <td id=\"T_d3169_row1_col11\" class=\"data row1 col11\" >396.90</td>\n      <td id=\"T_d3169_row1_col12\" class=\"data row1 col12\" >9.14</td>\n      <td id=\"T_d3169_row1_col13\" class=\"data row1 col13\" >21.60</td>\n    </tr>\n    <tr>\n      <th id=\"T_d3169_level0_row2\" class=\"row_heading level0 row2\" >2</th>\n      <td id=\"T_d3169_row2_col0\" class=\"data row2 col0\" >0.03</td>\n      <td id=\"T_d3169_row2_col1\" class=\"data row2 col1\" >0.00</td>\n      <td id=\"T_d3169_row2_col2\" class=\"data row2 col2\" >7.07</td>\n      <td id=\"T_d3169_row2_col3\" class=\"data row2 col3\" >0.00</td>\n      <td id=\"T_d3169_row2_col4\" class=\"data row2 col4\" >0.47</td>\n      <td id=\"T_d3169_row2_col5\" class=\"data row2 col5\" >7.18</td>\n      <td id=\"T_d3169_row2_col6\" class=\"data row2 col6\" >61.10</td>\n      <td id=\"T_d3169_row2_col7\" class=\"data row2 col7\" >4.97</td>\n      <td id=\"T_d3169_row2_col8\" class=\"data row2 col8\" >2.00</td>\n      <td id=\"T_d3169_row2_col9\" class=\"data row2 col9\" >242.00</td>\n      <td id=\"T_d3169_row2_col10\" class=\"data row2 col10\" >17.80</td>\n      <td id=\"T_d3169_row2_col11\" class=\"data row2 col11\" >392.83</td>\n      <td id=\"T_d3169_row2_col12\" class=\"data row2 col12\" >4.03</td>\n      <td id=\"T_d3169_row2_col13\" class=\"data row2 col13\" >34.70</td>\n    </tr>\n    <tr>\n      <th id=\"T_d3169_level0_row3\" class=\"row_heading level0 row3\" >3</th>\n      <td id=\"T_d3169_row3_col0\" class=\"data row3 col0\" >0.03</td>\n      <td id=\"T_d3169_row3_col1\" class=\"data row3 col1\" >0.00</td>\n      <td id=\"T_d3169_row3_col2\" class=\"data row3 col2\" >2.18</td>\n      <td id=\"T_d3169_row3_col3\" class=\"data row3 col3\" >0.00</td>\n      <td id=\"T_d3169_row3_col4\" class=\"data row3 col4\" >0.46</td>\n      <td id=\"T_d3169_row3_col5\" class=\"data row3 col5\" >7.00</td>\n      <td id=\"T_d3169_row3_col6\" class=\"data row3 col6\" >45.80</td>\n      <td id=\"T_d3169_row3_col7\" class=\"data row3 col7\" >6.06</td>\n      <td id=\"T_d3169_row3_col8\" class=\"data row3 col8\" >3.00</td>\n      <td id=\"T_d3169_row3_col9\" class=\"data row3 col9\" >222.00</td>\n      <td id=\"T_d3169_row3_col10\" class=\"data row3 col10\" >18.70</td>\n      <td id=\"T_d3169_row3_col11\" class=\"data row3 col11\" >394.63</td>\n      <td id=\"T_d3169_row3_col12\" class=\"data row3 col12\" >2.94</td>\n      <td id=\"T_d3169_row3_col13\" class=\"data row3 col13\" >33.40</td>\n    </tr>\n    <tr>\n      <th id=\"T_d3169_level0_row4\" class=\"row_heading level0 row4\" >4</th>\n      <td id=\"T_d3169_row4_col0\" class=\"data row4 col0\" >0.07</td>\n      <td id=\"T_d3169_row4_col1\" class=\"data row4 col1\" >0.00</td>\n      <td id=\"T_d3169_row4_col2\" class=\"data row4 col2\" >2.18</td>\n      <td id=\"T_d3169_row4_col3\" class=\"data row4 col3\" >0.00</td>\n      <td id=\"T_d3169_row4_col4\" class=\"data row4 col4\" >0.46</td>\n      <td id=\"T_d3169_row4_col5\" class=\"data row4 col5\" >7.15</td>\n      <td id=\"T_d3169_row4_col6\" class=\"data row4 col6\" >54.20</td>\n      <td id=\"T_d3169_row4_col7\" class=\"data row4 col7\" >6.06</td>\n      <td id=\"T_d3169_row4_col8\" class=\"data row4 col8\" >3.00</td>\n      <td id=\"T_d3169_row4_col9\" class=\"data row4 col9\" >222.00</td>\n      <td id=\"T_d3169_row4_col10\" class=\"data row4 col10\" >18.70</td>\n      <td id=\"T_d3169_row4_col11\" class=\"data row4 col11\" >396.90</td>\n      <td id=\"T_d3169_row4_col12\" class=\"data row4 col12\" >5.33</td>\n      <td id=\"T_d3169_row4_col13\" class=\"data row4 col13\" >36.20</td>\n    </tr>\n  </tbody>\n</table>\n"
     },
     "metadata": {},
     "output_type": "display_data"
    },
    {
     "name": "stdout",
     "output_type": "stream",
     "text": [
      "Missing Data :  0   Shape is :  (506, 14)\n"
     ]
    }
   ]
  },
  {
   "cell_type": "markdown",
   "source": [
    "## Exe 1: Data Preparation\n",
    "\n",
    "\n",
    "Use 70% of the data for training and 30% for validation.\n",
    "The dataset is shuffled and shared between learning and testing.\n",
    "x will be input data and y the expected output\n",
    "Check the data shape and sizes."
   ],
   "metadata": {
    "id": "uSJDYfo5fPHC"
   }
  },
  {
   "cell_type": "code",
   "source": [
    "# ---- Shuffle and Split => train, test\n",
    "#\n",
    "data       = data.sample(frac=1., axis=0)\n",
    "data_train = data.sample(frac=0.7, axis=0)\n",
    "data_test  = data.drop(data_train.index)\n",
    "\n",
    "# ---- Split => x,y (medv is price)\n",
    "#\n",
    "x_train = data_train.drop('medv',  axis=1)\n",
    "y_train = data_train['medv']\n",
    "x_test  = data_test.drop('medv',   axis=1)\n",
    "y_test  = data_test['medv']\n",
    "\n",
    "print('Original data shape was : ',data.shape)\n",
    "print('x_train : ',x_train.shape, 'y_train : ',y_train.shape)\n",
    "print('x_test  : ',x_test.shape,  'y_test  : ',y_test.shape)"
   ],
   "metadata": {
    "id": "w4qzQudGfPsH",
    "ExecuteTime": {
     "end_time": "2024-01-26T15:07:10.459169Z",
     "start_time": "2024-01-26T15:07:10.438721Z"
    }
   },
   "execution_count": 435,
   "outputs": [
    {
     "name": "stdout",
     "output_type": "stream",
     "text": [
      "Original data shape was :  (506, 14)\n",
      "x_train :  (354, 13) y_train :  (354,)\n",
      "x_test  :  (152, 13) y_test  :  (152,)\n"
     ]
    }
   ]
  },
  {
   "cell_type": "markdown",
   "source": [
    "## Exe 2: Data normalization\n",
    "\n",
    "Normalizing data For each feature in the input data (a column in the\n",
    "input data matrix), subtract the mean of the feature and divide by the standard\n",
    "deviation\n",
    "\n",
    "**Note :**\n",
    "\n",
    "* All input data must be normalized, train and test.\n",
    "* To do this we will subtract the mean and divide by the standard deviation.\n",
    "* But test data should not be used in any way, even for normalization.\n",
    "* The mean and the standard deviation will therefore only be calculated with the train data.\n"
   ],
   "metadata": {
    "id": "kTIW5DG1gH3s"
   }
  },
  {
   "cell_type": "code",
   "source": [
    "display(x_train.describe().style.format(\"{0:.2f}\").set_caption(\"Before normalization :\"))\n",
    "\n",
    "mean = x_train.mean()\n",
    "std  = x_train.std()\n",
    "x_train = (x_train-mean)/std\n",
    "x_test  = (x_test-mean)/std\n",
    "\n",
    "display(x_train.describe().style.format(\"{0:.2f}\").set_caption(\"After normalization :\"))\n",
    "display(x_train.head(5).style.format(\"{0:.2f}\").set_caption(\"Few lines of the dataset :\"))\n"
   ],
   "metadata": {
    "id": "irUk5OvCK9qm",
    "ExecuteTime": {
     "end_time": "2024-01-26T15:07:10.498618Z",
     "start_time": "2024-01-26T15:07:10.462606Z"
    }
   },
   "execution_count": 436,
   "outputs": [
    {
     "data": {
      "text/plain": "<pandas.io.formats.style.Styler at 0x2d17bd010>",
      "text/html": "<style type=\"text/css\">\n</style>\n<table id=\"T_0a970\">\n  <caption>Before normalization :</caption>\n  <thead>\n    <tr>\n      <th class=\"blank level0\" >&nbsp;</th>\n      <th id=\"T_0a970_level0_col0\" class=\"col_heading level0 col0\" >crim</th>\n      <th id=\"T_0a970_level0_col1\" class=\"col_heading level0 col1\" >zn</th>\n      <th id=\"T_0a970_level0_col2\" class=\"col_heading level0 col2\" >indus</th>\n      <th id=\"T_0a970_level0_col3\" class=\"col_heading level0 col3\" >chas</th>\n      <th id=\"T_0a970_level0_col4\" class=\"col_heading level0 col4\" >nox</th>\n      <th id=\"T_0a970_level0_col5\" class=\"col_heading level0 col5\" >rm</th>\n      <th id=\"T_0a970_level0_col6\" class=\"col_heading level0 col6\" >age</th>\n      <th id=\"T_0a970_level0_col7\" class=\"col_heading level0 col7\" >dis</th>\n      <th id=\"T_0a970_level0_col8\" class=\"col_heading level0 col8\" >rad</th>\n      <th id=\"T_0a970_level0_col9\" class=\"col_heading level0 col9\" >tax</th>\n      <th id=\"T_0a970_level0_col10\" class=\"col_heading level0 col10\" >ptratio</th>\n      <th id=\"T_0a970_level0_col11\" class=\"col_heading level0 col11\" >b</th>\n      <th id=\"T_0a970_level0_col12\" class=\"col_heading level0 col12\" >lstat</th>\n    </tr>\n  </thead>\n  <tbody>\n    <tr>\n      <th id=\"T_0a970_level0_row0\" class=\"row_heading level0 row0\" >count</th>\n      <td id=\"T_0a970_row0_col0\" class=\"data row0 col0\" >354.00</td>\n      <td id=\"T_0a970_row0_col1\" class=\"data row0 col1\" >354.00</td>\n      <td id=\"T_0a970_row0_col2\" class=\"data row0 col2\" >354.00</td>\n      <td id=\"T_0a970_row0_col3\" class=\"data row0 col3\" >354.00</td>\n      <td id=\"T_0a970_row0_col4\" class=\"data row0 col4\" >354.00</td>\n      <td id=\"T_0a970_row0_col5\" class=\"data row0 col5\" >354.00</td>\n      <td id=\"T_0a970_row0_col6\" class=\"data row0 col6\" >354.00</td>\n      <td id=\"T_0a970_row0_col7\" class=\"data row0 col7\" >354.00</td>\n      <td id=\"T_0a970_row0_col8\" class=\"data row0 col8\" >354.00</td>\n      <td id=\"T_0a970_row0_col9\" class=\"data row0 col9\" >354.00</td>\n      <td id=\"T_0a970_row0_col10\" class=\"data row0 col10\" >354.00</td>\n      <td id=\"T_0a970_row0_col11\" class=\"data row0 col11\" >354.00</td>\n      <td id=\"T_0a970_row0_col12\" class=\"data row0 col12\" >354.00</td>\n    </tr>\n    <tr>\n      <th id=\"T_0a970_level0_row1\" class=\"row_heading level0 row1\" >mean</th>\n      <td id=\"T_0a970_row1_col0\" class=\"data row1 col0\" >3.68</td>\n      <td id=\"T_0a970_row1_col1\" class=\"data row1 col1\" >12.41</td>\n      <td id=\"T_0a970_row1_col2\" class=\"data row1 col2\" >10.97</td>\n      <td id=\"T_0a970_row1_col3\" class=\"data row1 col3\" >0.07</td>\n      <td id=\"T_0a970_row1_col4\" class=\"data row1 col4\" >0.55</td>\n      <td id=\"T_0a970_row1_col5\" class=\"data row1 col5\" >6.30</td>\n      <td id=\"T_0a970_row1_col6\" class=\"data row1 col6\" >68.70</td>\n      <td id=\"T_0a970_row1_col7\" class=\"data row1 col7\" >3.81</td>\n      <td id=\"T_0a970_row1_col8\" class=\"data row1 col8\" >9.56</td>\n      <td id=\"T_0a970_row1_col9\" class=\"data row1 col9\" >407.87</td>\n      <td id=\"T_0a970_row1_col10\" class=\"data row1 col10\" >18.38</td>\n      <td id=\"T_0a970_row1_col11\" class=\"data row1 col11\" >358.28</td>\n      <td id=\"T_0a970_row1_col12\" class=\"data row1 col12\" >12.57</td>\n    </tr>\n    <tr>\n      <th id=\"T_0a970_level0_row2\" class=\"row_heading level0 row2\" >std</th>\n      <td id=\"T_0a970_row2_col0\" class=\"data row2 col0\" >8.59</td>\n      <td id=\"T_0a970_row2_col1\" class=\"data row2 col1\" >24.30</td>\n      <td id=\"T_0a970_row2_col2\" class=\"data row2 col2\" >6.96</td>\n      <td id=\"T_0a970_row2_col3\" class=\"data row2 col3\" >0.25</td>\n      <td id=\"T_0a970_row2_col4\" class=\"data row2 col4\" >0.12</td>\n      <td id=\"T_0a970_row2_col5\" class=\"data row2 col5\" >0.71</td>\n      <td id=\"T_0a970_row2_col6\" class=\"data row2 col6\" >27.65</td>\n      <td id=\"T_0a970_row2_col7\" class=\"data row2 col7\" >2.18</td>\n      <td id=\"T_0a970_row2_col8\" class=\"data row2 col8\" >8.75</td>\n      <td id=\"T_0a970_row2_col9\" class=\"data row2 col9\" >169.05</td>\n      <td id=\"T_0a970_row2_col10\" class=\"data row2 col10\" >2.18</td>\n      <td id=\"T_0a970_row2_col11\" class=\"data row2 col11\" >88.21</td>\n      <td id=\"T_0a970_row2_col12\" class=\"data row2 col12\" >7.20</td>\n    </tr>\n    <tr>\n      <th id=\"T_0a970_level0_row3\" class=\"row_heading level0 row3\" >min</th>\n      <td id=\"T_0a970_row3_col0\" class=\"data row3 col0\" >0.01</td>\n      <td id=\"T_0a970_row3_col1\" class=\"data row3 col1\" >0.00</td>\n      <td id=\"T_0a970_row3_col2\" class=\"data row3 col2\" >0.46</td>\n      <td id=\"T_0a970_row3_col3\" class=\"data row3 col3\" >0.00</td>\n      <td id=\"T_0a970_row3_col4\" class=\"data row3 col4\" >0.39</td>\n      <td id=\"T_0a970_row3_col5\" class=\"data row3 col5\" >4.14</td>\n      <td id=\"T_0a970_row3_col6\" class=\"data row3 col6\" >2.90</td>\n      <td id=\"T_0a970_row3_col7\" class=\"data row3 col7\" >1.13</td>\n      <td id=\"T_0a970_row3_col8\" class=\"data row3 col8\" >1.00</td>\n      <td id=\"T_0a970_row3_col9\" class=\"data row3 col9\" >187.00</td>\n      <td id=\"T_0a970_row3_col10\" class=\"data row3 col10\" >12.60</td>\n      <td id=\"T_0a970_row3_col11\" class=\"data row3 col11\" >2.60</td>\n      <td id=\"T_0a970_row3_col12\" class=\"data row3 col12\" >1.73</td>\n    </tr>\n    <tr>\n      <th id=\"T_0a970_level0_row4\" class=\"row_heading level0 row4\" >25%</th>\n      <td id=\"T_0a970_row4_col0\" class=\"data row4 col0\" >0.08</td>\n      <td id=\"T_0a970_row4_col1\" class=\"data row4 col1\" >0.00</td>\n      <td id=\"T_0a970_row4_col2\" class=\"data row4 col2\" >4.93</td>\n      <td id=\"T_0a970_row4_col3\" class=\"data row4 col3\" >0.00</td>\n      <td id=\"T_0a970_row4_col4\" class=\"data row4 col4\" >0.45</td>\n      <td id=\"T_0a970_row4_col5\" class=\"data row4 col5\" >5.89</td>\n      <td id=\"T_0a970_row4_col6\" class=\"data row4 col6\" >45.17</td>\n      <td id=\"T_0a970_row4_col7\" class=\"data row4 col7\" >2.10</td>\n      <td id=\"T_0a970_row4_col8\" class=\"data row4 col8\" >4.00</td>\n      <td id=\"T_0a970_row4_col9\" class=\"data row4 col9\" >279.25</td>\n      <td id=\"T_0a970_row4_col10\" class=\"data row4 col10\" >17.07</td>\n      <td id=\"T_0a970_row4_col11\" class=\"data row4 col11\" >375.61</td>\n      <td id=\"T_0a970_row4_col12\" class=\"data row4 col12\" >6.91</td>\n    </tr>\n    <tr>\n      <th id=\"T_0a970_level0_row5\" class=\"row_heading level0 row5\" >50%</th>\n      <td id=\"T_0a970_row5_col0\" class=\"data row5 col0\" >0.26</td>\n      <td id=\"T_0a970_row5_col1\" class=\"data row5 col1\" >0.00</td>\n      <td id=\"T_0a970_row5_col2\" class=\"data row5 col2\" >8.56</td>\n      <td id=\"T_0a970_row5_col3\" class=\"data row5 col3\" >0.00</td>\n      <td id=\"T_0a970_row5_col4\" class=\"data row5 col4\" >0.54</td>\n      <td id=\"T_0a970_row5_col5\" class=\"data row5 col5\" >6.23</td>\n      <td id=\"T_0a970_row5_col6\" class=\"data row5 col6\" >76.70</td>\n      <td id=\"T_0a970_row5_col7\" class=\"data row5 col7\" >3.10</td>\n      <td id=\"T_0a970_row5_col8\" class=\"data row5 col8\" >5.00</td>\n      <td id=\"T_0a970_row5_col9\" class=\"data row5 col9\" >330.00</td>\n      <td id=\"T_0a970_row5_col10\" class=\"data row5 col10\" >18.75</td>\n      <td id=\"T_0a970_row5_col11\" class=\"data row5 col11\" >391.47</td>\n      <td id=\"T_0a970_row5_col12\" class=\"data row5 col12\" >11.36</td>\n    </tr>\n    <tr>\n      <th id=\"T_0a970_level0_row6\" class=\"row_heading level0 row6\" >75%</th>\n      <td id=\"T_0a970_row6_col0\" class=\"data row6 col0\" >3.68</td>\n      <td id=\"T_0a970_row6_col1\" class=\"data row6 col1\" >20.00</td>\n      <td id=\"T_0a970_row6_col2\" class=\"data row6 col2\" >18.10</td>\n      <td id=\"T_0a970_row6_col3\" class=\"data row6 col3\" >0.00</td>\n      <td id=\"T_0a970_row6_col4\" class=\"data row6 col4\" >0.62</td>\n      <td id=\"T_0a970_row6_col5\" class=\"data row6 col5\" >6.65</td>\n      <td id=\"T_0a970_row6_col6\" class=\"data row6 col6\" >93.75</td>\n      <td id=\"T_0a970_row6_col7\" class=\"data row6 col7\" >5.08</td>\n      <td id=\"T_0a970_row6_col8\" class=\"data row6 col8\" >24.00</td>\n      <td id=\"T_0a970_row6_col9\" class=\"data row6 col9\" >666.00</td>\n      <td id=\"T_0a970_row6_col10\" class=\"data row6 col10\" >20.20</td>\n      <td id=\"T_0a970_row6_col11\" class=\"data row6 col11\" >396.24</td>\n      <td id=\"T_0a970_row6_col12\" class=\"data row6 col12\" >16.57</td>\n    </tr>\n    <tr>\n      <th id=\"T_0a970_level0_row7\" class=\"row_heading level0 row7\" >max</th>\n      <td id=\"T_0a970_row7_col0\" class=\"data row7 col0\" >73.53</td>\n      <td id=\"T_0a970_row7_col1\" class=\"data row7 col1\" >100.00</td>\n      <td id=\"T_0a970_row7_col2\" class=\"data row7 col2\" >27.74</td>\n      <td id=\"T_0a970_row7_col3\" class=\"data row7 col3\" >1.00</td>\n      <td id=\"T_0a970_row7_col4\" class=\"data row7 col4\" >0.87</td>\n      <td id=\"T_0a970_row7_col5\" class=\"data row7 col5\" >8.72</td>\n      <td id=\"T_0a970_row7_col6\" class=\"data row7 col6\" >100.00</td>\n      <td id=\"T_0a970_row7_col7\" class=\"data row7 col7\" >12.13</td>\n      <td id=\"T_0a970_row7_col8\" class=\"data row7 col8\" >24.00</td>\n      <td id=\"T_0a970_row7_col9\" class=\"data row7 col9\" >711.00</td>\n      <td id=\"T_0a970_row7_col10\" class=\"data row7 col10\" >22.00</td>\n      <td id=\"T_0a970_row7_col11\" class=\"data row7 col11\" >396.90</td>\n      <td id=\"T_0a970_row7_col12\" class=\"data row7 col12\" >37.97</td>\n    </tr>\n  </tbody>\n</table>\n"
     },
     "metadata": {},
     "output_type": "display_data"
    },
    {
     "data": {
      "text/plain": "<pandas.io.formats.style.Styler at 0x2d4b827d0>",
      "text/html": "<style type=\"text/css\">\n</style>\n<table id=\"T_0020a\">\n  <caption>After normalization :</caption>\n  <thead>\n    <tr>\n      <th class=\"blank level0\" >&nbsp;</th>\n      <th id=\"T_0020a_level0_col0\" class=\"col_heading level0 col0\" >crim</th>\n      <th id=\"T_0020a_level0_col1\" class=\"col_heading level0 col1\" >zn</th>\n      <th id=\"T_0020a_level0_col2\" class=\"col_heading level0 col2\" >indus</th>\n      <th id=\"T_0020a_level0_col3\" class=\"col_heading level0 col3\" >chas</th>\n      <th id=\"T_0020a_level0_col4\" class=\"col_heading level0 col4\" >nox</th>\n      <th id=\"T_0020a_level0_col5\" class=\"col_heading level0 col5\" >rm</th>\n      <th id=\"T_0020a_level0_col6\" class=\"col_heading level0 col6\" >age</th>\n      <th id=\"T_0020a_level0_col7\" class=\"col_heading level0 col7\" >dis</th>\n      <th id=\"T_0020a_level0_col8\" class=\"col_heading level0 col8\" >rad</th>\n      <th id=\"T_0020a_level0_col9\" class=\"col_heading level0 col9\" >tax</th>\n      <th id=\"T_0020a_level0_col10\" class=\"col_heading level0 col10\" >ptratio</th>\n      <th id=\"T_0020a_level0_col11\" class=\"col_heading level0 col11\" >b</th>\n      <th id=\"T_0020a_level0_col12\" class=\"col_heading level0 col12\" >lstat</th>\n    </tr>\n  </thead>\n  <tbody>\n    <tr>\n      <th id=\"T_0020a_level0_row0\" class=\"row_heading level0 row0\" >count</th>\n      <td id=\"T_0020a_row0_col0\" class=\"data row0 col0\" >354.00</td>\n      <td id=\"T_0020a_row0_col1\" class=\"data row0 col1\" >354.00</td>\n      <td id=\"T_0020a_row0_col2\" class=\"data row0 col2\" >354.00</td>\n      <td id=\"T_0020a_row0_col3\" class=\"data row0 col3\" >354.00</td>\n      <td id=\"T_0020a_row0_col4\" class=\"data row0 col4\" >354.00</td>\n      <td id=\"T_0020a_row0_col5\" class=\"data row0 col5\" >354.00</td>\n      <td id=\"T_0020a_row0_col6\" class=\"data row0 col6\" >354.00</td>\n      <td id=\"T_0020a_row0_col7\" class=\"data row0 col7\" >354.00</td>\n      <td id=\"T_0020a_row0_col8\" class=\"data row0 col8\" >354.00</td>\n      <td id=\"T_0020a_row0_col9\" class=\"data row0 col9\" >354.00</td>\n      <td id=\"T_0020a_row0_col10\" class=\"data row0 col10\" >354.00</td>\n      <td id=\"T_0020a_row0_col11\" class=\"data row0 col11\" >354.00</td>\n      <td id=\"T_0020a_row0_col12\" class=\"data row0 col12\" >354.00</td>\n    </tr>\n    <tr>\n      <th id=\"T_0020a_level0_row1\" class=\"row_heading level0 row1\" >mean</th>\n      <td id=\"T_0020a_row1_col0\" class=\"data row1 col0\" >0.00</td>\n      <td id=\"T_0020a_row1_col1\" class=\"data row1 col1\" >-0.00</td>\n      <td id=\"T_0020a_row1_col2\" class=\"data row1 col2\" >-0.00</td>\n      <td id=\"T_0020a_row1_col3\" class=\"data row1 col3\" >-0.00</td>\n      <td id=\"T_0020a_row1_col4\" class=\"data row1 col4\" >0.00</td>\n      <td id=\"T_0020a_row1_col5\" class=\"data row1 col5\" >-0.00</td>\n      <td id=\"T_0020a_row1_col6\" class=\"data row1 col6\" >0.00</td>\n      <td id=\"T_0020a_row1_col7\" class=\"data row1 col7\" >-0.00</td>\n      <td id=\"T_0020a_row1_col8\" class=\"data row1 col8\" >0.00</td>\n      <td id=\"T_0020a_row1_col9\" class=\"data row1 col9\" >0.00</td>\n      <td id=\"T_0020a_row1_col10\" class=\"data row1 col10\" >-0.00</td>\n      <td id=\"T_0020a_row1_col11\" class=\"data row1 col11\" >0.00</td>\n      <td id=\"T_0020a_row1_col12\" class=\"data row1 col12\" >-0.00</td>\n    </tr>\n    <tr>\n      <th id=\"T_0020a_level0_row2\" class=\"row_heading level0 row2\" >std</th>\n      <td id=\"T_0020a_row2_col0\" class=\"data row2 col0\" >1.00</td>\n      <td id=\"T_0020a_row2_col1\" class=\"data row2 col1\" >1.00</td>\n      <td id=\"T_0020a_row2_col2\" class=\"data row2 col2\" >1.00</td>\n      <td id=\"T_0020a_row2_col3\" class=\"data row2 col3\" >1.00</td>\n      <td id=\"T_0020a_row2_col4\" class=\"data row2 col4\" >1.00</td>\n      <td id=\"T_0020a_row2_col5\" class=\"data row2 col5\" >1.00</td>\n      <td id=\"T_0020a_row2_col6\" class=\"data row2 col6\" >1.00</td>\n      <td id=\"T_0020a_row2_col7\" class=\"data row2 col7\" >1.00</td>\n      <td id=\"T_0020a_row2_col8\" class=\"data row2 col8\" >1.00</td>\n      <td id=\"T_0020a_row2_col9\" class=\"data row2 col9\" >1.00</td>\n      <td id=\"T_0020a_row2_col10\" class=\"data row2 col10\" >1.00</td>\n      <td id=\"T_0020a_row2_col11\" class=\"data row2 col11\" >1.00</td>\n      <td id=\"T_0020a_row2_col12\" class=\"data row2 col12\" >1.00</td>\n    </tr>\n    <tr>\n      <th id=\"T_0020a_level0_row3\" class=\"row_heading level0 row3\" >min</th>\n      <td id=\"T_0020a_row3_col0\" class=\"data row3 col0\" >-0.43</td>\n      <td id=\"T_0020a_row3_col1\" class=\"data row3 col1\" >-0.51</td>\n      <td id=\"T_0020a_row3_col2\" class=\"data row3 col2\" >-1.51</td>\n      <td id=\"T_0020a_row3_col3\" class=\"data row3 col3\" >-0.27</td>\n      <td id=\"T_0020a_row3_col4\" class=\"data row3 col4\" >-1.45</td>\n      <td id=\"T_0020a_row3_col5\" class=\"data row3 col5\" >-3.05</td>\n      <td id=\"T_0020a_row3_col6\" class=\"data row3 col6\" >-2.38</td>\n      <td id=\"T_0020a_row3_col7\" class=\"data row3 col7\" >-1.23</td>\n      <td id=\"T_0020a_row3_col8\" class=\"data row3 col8\" >-0.98</td>\n      <td id=\"T_0020a_row3_col9\" class=\"data row3 col9\" >-1.31</td>\n      <td id=\"T_0020a_row3_col10\" class=\"data row3 col10\" >-2.65</td>\n      <td id=\"T_0020a_row3_col11\" class=\"data row3 col11\" >-4.03</td>\n      <td id=\"T_0020a_row3_col12\" class=\"data row3 col12\" >-1.51</td>\n    </tr>\n    <tr>\n      <th id=\"T_0020a_level0_row4\" class=\"row_heading level0 row4\" >25%</th>\n      <td id=\"T_0020a_row4_col0\" class=\"data row4 col0\" >-0.42</td>\n      <td id=\"T_0020a_row4_col1\" class=\"data row4 col1\" >-0.51</td>\n      <td id=\"T_0020a_row4_col2\" class=\"data row4 col2\" >-0.87</td>\n      <td id=\"T_0020a_row4_col3\" class=\"data row4 col3\" >-0.27</td>\n      <td id=\"T_0020a_row4_col4\" class=\"data row4 col4\" >-0.91</td>\n      <td id=\"T_0020a_row4_col5\" class=\"data row4 col5\" >-0.59</td>\n      <td id=\"T_0020a_row4_col6\" class=\"data row4 col6\" >-0.85</td>\n      <td id=\"T_0020a_row4_col7\" class=\"data row4 col7\" >-0.78</td>\n      <td id=\"T_0020a_row4_col8\" class=\"data row4 col8\" >-0.64</td>\n      <td id=\"T_0020a_row4_col9\" class=\"data row4 col9\" >-0.76</td>\n      <td id=\"T_0020a_row4_col10\" class=\"data row4 col10\" >-0.60</td>\n      <td id=\"T_0020a_row4_col11\" class=\"data row4 col11\" >0.20</td>\n      <td id=\"T_0020a_row4_col12\" class=\"data row4 col12\" >-0.79</td>\n    </tr>\n    <tr>\n      <th id=\"T_0020a_level0_row5\" class=\"row_heading level0 row5\" >50%</th>\n      <td id=\"T_0020a_row5_col0\" class=\"data row5 col0\" >-0.40</td>\n      <td id=\"T_0020a_row5_col1\" class=\"data row5 col1\" >-0.51</td>\n      <td id=\"T_0020a_row5_col2\" class=\"data row5 col2\" >-0.35</td>\n      <td id=\"T_0020a_row5_col3\" class=\"data row5 col3\" >-0.27</td>\n      <td id=\"T_0020a_row5_col4\" class=\"data row5 col4\" >-0.14</td>\n      <td id=\"T_0020a_row5_col5\" class=\"data row5 col5\" >-0.11</td>\n      <td id=\"T_0020a_row5_col6\" class=\"data row5 col6\" >0.29</td>\n      <td id=\"T_0020a_row5_col7\" class=\"data row5 col7\" >-0.33</td>\n      <td id=\"T_0020a_row5_col8\" class=\"data row5 col8\" >-0.52</td>\n      <td id=\"T_0020a_row5_col9\" class=\"data row5 col9\" >-0.46</td>\n      <td id=\"T_0020a_row5_col10\" class=\"data row5 col10\" >0.17</td>\n      <td id=\"T_0020a_row5_col11\" class=\"data row5 col11\" >0.38</td>\n      <td id=\"T_0020a_row5_col12\" class=\"data row5 col12\" >-0.17</td>\n    </tr>\n    <tr>\n      <th id=\"T_0020a_level0_row6\" class=\"row_heading level0 row6\" >75%</th>\n      <td id=\"T_0020a_row6_col0\" class=\"data row6 col0\" >0.00</td>\n      <td id=\"T_0020a_row6_col1\" class=\"data row6 col1\" >0.31</td>\n      <td id=\"T_0020a_row6_col2\" class=\"data row6 col2\" >1.03</td>\n      <td id=\"T_0020a_row6_col3\" class=\"data row6 col3\" >-0.27</td>\n      <td id=\"T_0020a_row6_col4\" class=\"data row6 col4\" >0.59</td>\n      <td id=\"T_0020a_row6_col5\" class=\"data row6 col5\" >0.48</td>\n      <td id=\"T_0020a_row6_col6\" class=\"data row6 col6\" >0.91</td>\n      <td id=\"T_0020a_row6_col7\" class=\"data row6 col7\" >0.58</td>\n      <td id=\"T_0020a_row6_col8\" class=\"data row6 col8\" >1.65</td>\n      <td id=\"T_0020a_row6_col9\" class=\"data row6 col9\" >1.53</td>\n      <td id=\"T_0020a_row6_col10\" class=\"data row6 col10\" >0.83</td>\n      <td id=\"T_0020a_row6_col11\" class=\"data row6 col11\" >0.43</td>\n      <td id=\"T_0020a_row6_col12\" class=\"data row6 col12\" >0.56</td>\n    </tr>\n    <tr>\n      <th id=\"T_0020a_level0_row7\" class=\"row_heading level0 row7\" >max</th>\n      <td id=\"T_0020a_row7_col0\" class=\"data row7 col0\" >8.13</td>\n      <td id=\"T_0020a_row7_col1\" class=\"data row7 col1\" >3.60</td>\n      <td id=\"T_0020a_row7_col2\" class=\"data row7 col2\" >2.41</td>\n      <td id=\"T_0020a_row7_col3\" class=\"data row7 col3\" >3.70</td>\n      <td id=\"T_0020a_row7_col4\" class=\"data row7 col4\" >2.70</td>\n      <td id=\"T_0020a_row7_col5\" class=\"data row7 col5\" >3.41</td>\n      <td id=\"T_0020a_row7_col6\" class=\"data row7 col6\" >1.13</td>\n      <td id=\"T_0020a_row7_col7\" class=\"data row7 col7\" >3.81</td>\n      <td id=\"T_0020a_row7_col8\" class=\"data row7 col8\" >1.65</td>\n      <td id=\"T_0020a_row7_col9\" class=\"data row7 col9\" >1.79</td>\n      <td id=\"T_0020a_row7_col10\" class=\"data row7 col10\" >1.66</td>\n      <td id=\"T_0020a_row7_col11\" class=\"data row7 col11\" >0.44</td>\n      <td id=\"T_0020a_row7_col12\" class=\"data row7 col12\" >3.53</td>\n    </tr>\n  </tbody>\n</table>\n"
     },
     "metadata": {},
     "output_type": "display_data"
    },
    {
     "data": {
      "text/plain": "<pandas.io.formats.style.Styler at 0x2872cab90>",
      "text/html": "<style type=\"text/css\">\n</style>\n<table id=\"T_f84db\">\n  <caption>Few lines of the dataset :</caption>\n  <thead>\n    <tr>\n      <th class=\"blank level0\" >&nbsp;</th>\n      <th id=\"T_f84db_level0_col0\" class=\"col_heading level0 col0\" >crim</th>\n      <th id=\"T_f84db_level0_col1\" class=\"col_heading level0 col1\" >zn</th>\n      <th id=\"T_f84db_level0_col2\" class=\"col_heading level0 col2\" >indus</th>\n      <th id=\"T_f84db_level0_col3\" class=\"col_heading level0 col3\" >chas</th>\n      <th id=\"T_f84db_level0_col4\" class=\"col_heading level0 col4\" >nox</th>\n      <th id=\"T_f84db_level0_col5\" class=\"col_heading level0 col5\" >rm</th>\n      <th id=\"T_f84db_level0_col6\" class=\"col_heading level0 col6\" >age</th>\n      <th id=\"T_f84db_level0_col7\" class=\"col_heading level0 col7\" >dis</th>\n      <th id=\"T_f84db_level0_col8\" class=\"col_heading level0 col8\" >rad</th>\n      <th id=\"T_f84db_level0_col9\" class=\"col_heading level0 col9\" >tax</th>\n      <th id=\"T_f84db_level0_col10\" class=\"col_heading level0 col10\" >ptratio</th>\n      <th id=\"T_f84db_level0_col11\" class=\"col_heading level0 col11\" >b</th>\n      <th id=\"T_f84db_level0_col12\" class=\"col_heading level0 col12\" >lstat</th>\n    </tr>\n  </thead>\n  <tbody>\n    <tr>\n      <th id=\"T_f84db_level0_row0\" class=\"row_heading level0 row0\" >274</th>\n      <td id=\"T_f84db_row0_col0\" class=\"data row0 col0\" >-0.42</td>\n      <td id=\"T_f84db_row0_col1\" class=\"data row0 col1\" >1.14</td>\n      <td id=\"T_f84db_row0_col2\" class=\"data row0 col2\" >-0.65</td>\n      <td id=\"T_f84db_row0_col3\" class=\"data row0 col3\" >3.70</td>\n      <td id=\"T_f84db_row0_col4\" class=\"data row0 col4\" >-0.92</td>\n      <td id=\"T_f84db_row0_col5\" class=\"data row0 col5\" >0.64</td>\n      <td id=\"T_f84db_row0_col6\" class=\"data row0 col6\" >-1.29</td>\n      <td id=\"T_f84db_row0_col7\" class=\"data row0 col7\" >0.12</td>\n      <td id=\"T_f84db_row0_col8\" class=\"data row0 col8\" >-0.64</td>\n      <td id=\"T_f84db_row0_col9\" class=\"data row0 col9\" >-0.91</td>\n      <td id=\"T_f84db_row0_col10\" class=\"data row0 col10\" >-0.36</td>\n      <td id=\"T_f84db_row0_col11\" class=\"data row0 col11\" >0.44</td>\n      <td id=\"T_f84db_row0_col12\" class=\"data row0 col12\" >-1.26</td>\n    </tr>\n    <tr>\n      <th id=\"T_f84db_level0_row1\" class=\"row_heading level0 row1\" >432</th>\n      <td id=\"T_f84db_row1_col0\" class=\"data row1 col0\" >0.32</td>\n      <td id=\"T_f84db_row1_col1\" class=\"data row1 col1\" >-0.51</td>\n      <td id=\"T_f84db_row1_col2\" class=\"data row1 col2\" >1.03</td>\n      <td id=\"T_f84db_row1_col3\" class=\"data row1 col3\" >-0.27</td>\n      <td id=\"T_f84db_row1_col4\" class=\"data row1 col4\" >0.25</td>\n      <td id=\"T_f84db_row1_col5\" class=\"data row1 col5\" >0.17</td>\n      <td id=\"T_f84db_row1_col6\" class=\"data row1 col6\" >0.22</td>\n      <td id=\"T_f84db_row1_col7\" class=\"data row1 col7\" >-0.74</td>\n      <td id=\"T_f84db_row1_col8\" class=\"data row1 col8\" >1.65</td>\n      <td id=\"T_f84db_row1_col9\" class=\"data row1 col9\" >1.53</td>\n      <td id=\"T_f84db_row1_col10\" class=\"data row1 col10\" >0.83</td>\n      <td id=\"T_f84db_row1_col11\" class=\"data row1 col11\" >-2.95</td>\n      <td id=\"T_f84db_row1_col12\" class=\"data row1 col12\" >-0.08</td>\n    </tr>\n    <tr>\n      <th id=\"T_f84db_level0_row2\" class=\"row_heading level0 row2\" >310</th>\n      <td id=\"T_f84db_row2_col0\" class=\"data row2 col0\" >-0.12</td>\n      <td id=\"T_f84db_row2_col1\" class=\"data row2 col1\" >-0.51</td>\n      <td id=\"T_f84db_row2_col2\" class=\"data row2 col2\" >-0.15</td>\n      <td id=\"T_f84db_row2_col3\" class=\"data row2 col3\" >-0.27</td>\n      <td id=\"T_f84db_row2_col4\" class=\"data row2 col4\" >-0.09</td>\n      <td id=\"T_f84db_row2_col5\" class=\"data row2 col5\" >-1.88</td>\n      <td id=\"T_f84db_row2_col6\" class=\"data row2 col6\" >-1.12</td>\n      <td id=\"T_f84db_row2_col7\" class=\"data row2 col7\" >-0.59</td>\n      <td id=\"T_f84db_row2_col8\" class=\"data row2 col8\" >-0.64</td>\n      <td id=\"T_f84db_row2_col9\" class=\"data row2 col9\" >-0.61</td>\n      <td id=\"T_f84db_row2_col10\" class=\"data row2 col10\" >0.01</td>\n      <td id=\"T_f84db_row2_col11\" class=\"data row2 col11\" >-0.09</td>\n      <td id=\"T_f84db_row2_col12\" class=\"data row2 col12\" >0.01</td>\n    </tr>\n    <tr>\n      <th id=\"T_f84db_level0_row3\" class=\"row_heading level0 row3\" >397</th>\n      <td id=\"T_f84db_row3_col0\" class=\"data row3 col0\" >0.47</td>\n      <td id=\"T_f84db_row3_col1\" class=\"data row3 col1\" >-0.51</td>\n      <td id=\"T_f84db_row3_col2\" class=\"data row3 col2\" >1.03</td>\n      <td id=\"T_f84db_row3_col3\" class=\"data row3 col3\" >-0.27</td>\n      <td id=\"T_f84db_row3_col4\" class=\"data row3 col4\" >1.18</td>\n      <td id=\"T_f84db_row3_col5\" class=\"data row3 col5\" >-0.79</td>\n      <td id=\"T_f84db_row3_col6\" class=\"data row3 col6\" >1.09</td>\n      <td id=\"T_f84db_row3_col7\" class=\"data row3 col7\" >-1.00</td>\n      <td id=\"T_f84db_row3_col8\" class=\"data row3 col8\" >1.65</td>\n      <td id=\"T_f84db_row3_col9\" class=\"data row3 col9\" >1.53</td>\n      <td id=\"T_f84db_row3_col10\" class=\"data row3 col10\" >0.83</td>\n      <td id=\"T_f84db_row3_col11\" class=\"data row3 col11\" >0.39</td>\n      <td id=\"T_f84db_row3_col12\" class=\"data row3 col12\" >1.02</td>\n    </tr>\n    <tr>\n      <th id=\"T_f84db_level0_row4\" class=\"row_heading level0 row4\" >228</th>\n      <td id=\"T_f84db_row4_col0\" class=\"data row4 col0\" >-0.39</td>\n      <td id=\"T_f84db_row4_col1\" class=\"data row4 col1\" >-0.51</td>\n      <td id=\"T_f84db_row4_col2\" class=\"data row4 col2\" >-0.68</td>\n      <td id=\"T_f84db_row4_col3\" class=\"data row4 col3\" >-0.27</td>\n      <td id=\"T_f84db_row4_col4\" class=\"data row4 col4\" >-0.43</td>\n      <td id=\"T_f84db_row4_col5\" class=\"data row4 col5\" >1.95</td>\n      <td id=\"T_f84db_row4_col6\" class=\"data row4 col6\" >-1.87</td>\n      <td id=\"T_f84db_row4_col7\" class=\"data row4 col7\" >-0.20</td>\n      <td id=\"T_f84db_row4_col8\" class=\"data row4 col8\" >-0.18</td>\n      <td id=\"T_f84db_row4_col9\" class=\"data row4 col9\" >-0.60</td>\n      <td id=\"T_f84db_row4_col10\" class=\"data row4 col10\" >-0.45</td>\n      <td id=\"T_f84db_row4_col11\" class=\"data row4 col11\" >0.22</td>\n      <td id=\"T_f84db_row4_col12\" class=\"data row4 col12\" >-1.20</td>\n    </tr>\n  </tbody>\n</table>\n"
     },
     "metadata": {},
     "output_type": "display_data"
    }
   ]
  },
  {
   "cell_type": "markdown",
   "source": [
    "## Exo4:  Model Design"
   ],
   "metadata": {
    "id": "tk5PT-GONvp0"
   }
  },
  {
   "cell_type": "markdown",
   "source": [
    "Design a neural network architecture with two hidden layers, each consisting of 64 units and utilizing the ReLU activation function. To obtain a linear output layer, include a final layer with a single unit and no activation function. Compile the network using the mean squared error (MSE) loss function. Additionally, monitor a new metric, mean absolute error (MAE), during training. Finally, define the optimizer as 'rmsprop' in the model compilation.\n",
    "\n",
    "Define the model within a function named build_model(shape)\n",
    "\n",
    "\n",
    "More informations about :\n",
    "\n",
    "\n",
    "* [Optimizer](https://www.tensorflow.org/api_docs/python/tf/keras/optimizers)\n",
    "* [Activation](https://www.tensorflow.org/api_docs/python/tf/keras/activations)\n",
    "* [Loss](https://www.tensorflow.org/api_docs/python/tf/keras/losses)\n",
    "* [Metrics](https://www.tensorflow.org/api_docs/python/tf/keras/metrics)\n",
    "\n",
    "\n"
   ],
   "metadata": {
    "id": "J_kotgwULVcH"
   }
  },
  {
   "cell_type": "code",
   "source": [
    "from keras import models\n",
    "from keras import layers\n",
    "def build_model (shape):\n",
    "    model = models.Sequential()\n",
    "    model.add(layers.Input(shape=shape))\n",
    "    model.add(layers.Dense(64, activation='relu'))\n",
    "    model.add(layers.Dense(64, activation='relu'))\n",
    "    model.add(layers.Dense(1))\n",
    "    \n",
    "    model.compile(optimizer='rmsprop', \n",
    "                  loss='mean_squared_error', \n",
    "                  metrics=['mae'])\n",
    "    return model\n",
    "# complete the model here\n"
   ],
   "metadata": {
    "id": "wA391yVKNX3n",
    "ExecuteTime": {
     "end_time": "2024-01-26T15:07:10.499327Z",
     "start_time": "2024-01-26T15:07:10.482865Z"
    }
   },
   "execution_count": 437,
   "outputs": []
  },
  {
   "cell_type": "markdown",
   "source": [
    "## Exe 5 : Model Building\n",
    "\n",
    " Use the build_model function to create a model with a shape equal to the number of features. Display its summary."
   ],
   "metadata": {
    "id": "4iv88RDcQP7s"
   }
  },
  {
   "cell_type": "code",
   "source": [
    "model=build_model( (13,) )\n",
    "\n",
    "model.summary()"
   ],
   "metadata": {
    "id": "Djh2Efl8aDDH",
    "ExecuteTime": {
     "end_time": "2024-01-26T15:07:10.539491Z",
     "start_time": "2024-01-26T15:07:10.497045Z"
    }
   },
   "execution_count": 438,
   "outputs": [
    {
     "name": "stdout",
     "output_type": "stream",
     "text": [
      "Model: \"sequential_35\"\n",
      "_________________________________________________________________\n",
      " Layer (type)                Output Shape              Param #   \n",
      "=================================================================\n",
      " dense_94 (Dense)            (None, 64)                896       \n",
      "                                                                 \n",
      " dense_95 (Dense)            (None, 64)                4160      \n",
      "                                                                 \n",
      " dense_96 (Dense)            (None, 1)                 65        \n",
      "                                                                 \n",
      "=================================================================\n",
      "Total params: 5121 (20.00 KB)\n",
      "Trainable params: 5121 (20.00 KB)\n",
      "Non-trainable params: 0 (0.00 Byte)\n",
      "_________________________________________________________________\n"
     ]
    }
   ]
  },
  {
   "cell_type": "markdown",
   "source": [
    "\n",
    "\n",
    "## Exe 6 : Model Fitting\n",
    "\n",
    "Fit the model on the train set with the test set as the\n",
    "validation set, 260 epochs and save it in history.\n",
    "\n"
   ],
   "metadata": {
    "id": "x6Px4Da0b1mx"
   }
  },
  {
   "cell_type": "code",
   "source": [
    "history = model.fit(x_train, y_train, \n",
    "                    validation_data=(x_test, y_test), \n",
    "                    epochs=260)"
   ],
   "metadata": {
    "id": "_HcO_9Y5b2jP",
    "ExecuteTime": {
     "end_time": "2024-01-26T15:07:14.098138Z",
     "start_time": "2024-01-26T15:07:10.526527Z"
    }
   },
   "execution_count": 439,
   "outputs": [
    {
     "name": "stdout",
     "output_type": "stream",
     "text": [
      "Epoch 1/260\n",
      "12/12 [==============================] - 0s 4ms/step - loss: 542.1619 - mae: 21.1626 - val_loss: 460.3038 - val_mae: 19.6045\n",
      "Epoch 2/260\n",
      "12/12 [==============================] - 0s 1ms/step - loss: 458.2194 - mae: 19.1339 - val_loss: 373.3738 - val_mae: 17.4291\n",
      "Epoch 3/260\n",
      "12/12 [==============================] - 0s 1ms/step - loss: 365.9544 - mae: 16.7455 - val_loss: 297.0251 - val_mae: 15.3053\n",
      "Epoch 4/260\n",
      "12/12 [==============================] - 0s 1ms/step - loss: 280.1114 - mae: 14.3218 - val_loss: 208.5549 - val_mae: 12.5746\n",
      "Epoch 5/260\n",
      "12/12 [==============================] - 0s 1ms/step - loss: 195.1180 - mae: 11.5105 - val_loss: 145.0682 - val_mae: 10.2187\n",
      "Epoch 6/260\n",
      "12/12 [==============================] - 0s 1ms/step - loss: 134.3974 - mae: 9.2605 - val_loss: 99.5916 - val_mae: 8.1839\n",
      "Epoch 7/260\n",
      "12/12 [==============================] - 0s 1ms/step - loss: 94.8019 - mae: 7.5786 - val_loss: 71.6337 - val_mae: 6.7826\n",
      "Epoch 8/260\n",
      "12/12 [==============================] - 0s 1ms/step - loss: 70.4194 - mae: 6.4706 - val_loss: 56.8721 - val_mae: 5.9077\n",
      "Epoch 9/260\n",
      "12/12 [==============================] - 0s 1ms/step - loss: 55.4067 - mae: 5.6812 - val_loss: 47.1534 - val_mae: 5.2841\n",
      "Epoch 10/260\n",
      "12/12 [==============================] - 0s 1ms/step - loss: 44.2012 - mae: 5.1074 - val_loss: 39.5745 - val_mae: 4.7288\n",
      "Epoch 11/260\n",
      "12/12 [==============================] - 0s 1ms/step - loss: 35.1238 - mae: 4.5244 - val_loss: 35.1724 - val_mae: 4.4047\n",
      "Epoch 12/260\n",
      "12/12 [==============================] - 0s 977us/step - loss: 28.3386 - mae: 4.0280 - val_loss: 30.8869 - val_mae: 4.0070\n",
      "Epoch 13/260\n",
      "12/12 [==============================] - 0s 1ms/step - loss: 23.8219 - mae: 3.6730 - val_loss: 29.3583 - val_mae: 3.8384\n",
      "Epoch 14/260\n",
      "12/12 [==============================] - 0s 992us/step - loss: 21.2773 - mae: 3.3954 - val_loss: 27.1367 - val_mae: 3.6370\n",
      "Epoch 15/260\n",
      "12/12 [==============================] - 0s 1ms/step - loss: 18.9203 - mae: 3.1684 - val_loss: 25.9299 - val_mae: 3.5529\n",
      "Epoch 16/260\n",
      "12/12 [==============================] - 0s 1ms/step - loss: 17.4549 - mae: 3.0244 - val_loss: 26.9015 - val_mae: 3.6933\n",
      "Epoch 17/260\n",
      "12/12 [==============================] - 0s 1ms/step - loss: 16.4723 - mae: 2.9279 - val_loss: 24.6369 - val_mae: 3.3983\n",
      "Epoch 18/260\n",
      "12/12 [==============================] - 0s 1ms/step - loss: 15.2269 - mae: 2.8244 - val_loss: 24.4348 - val_mae: 3.4184\n",
      "Epoch 19/260\n",
      "12/12 [==============================] - 0s 1ms/step - loss: 14.6324 - mae: 2.7552 - val_loss: 23.3200 - val_mae: 3.1992\n",
      "Epoch 20/260\n",
      "12/12 [==============================] - 0s 1ms/step - loss: 13.7124 - mae: 2.6892 - val_loss: 23.4018 - val_mae: 3.2850\n",
      "Epoch 21/260\n",
      "12/12 [==============================] - 0s 1ms/step - loss: 13.0769 - mae: 2.6407 - val_loss: 23.7455 - val_mae: 3.2818\n",
      "Epoch 22/260\n",
      "12/12 [==============================] - 0s 1ms/step - loss: 13.0362 - mae: 2.6156 - val_loss: 23.6349 - val_mae: 3.2245\n",
      "Epoch 23/260\n",
      "12/12 [==============================] - 0s 1ms/step - loss: 12.2686 - mae: 2.5133 - val_loss: 22.6398 - val_mae: 3.1953\n",
      "Epoch 24/260\n",
      "12/12 [==============================] - 0s 1ms/step - loss: 11.8303 - mae: 2.4412 - val_loss: 22.5081 - val_mae: 3.1475\n",
      "Epoch 25/260\n",
      "12/12 [==============================] - 0s 1ms/step - loss: 11.3989 - mae: 2.3951 - val_loss: 22.5480 - val_mae: 3.1233\n",
      "Epoch 26/260\n",
      "12/12 [==============================] - 0s 1ms/step - loss: 11.2174 - mae: 2.4145 - val_loss: 24.1919 - val_mae: 3.3837\n",
      "Epoch 27/260\n",
      "12/12 [==============================] - 0s 1ms/step - loss: 11.3277 - mae: 2.4073 - val_loss: 22.1366 - val_mae: 3.0887\n",
      "Epoch 28/260\n",
      "12/12 [==============================] - 0s 1ms/step - loss: 10.5484 - mae: 2.3436 - val_loss: 21.2835 - val_mae: 3.0217\n",
      "Epoch 29/260\n",
      "12/12 [==============================] - 0s 1ms/step - loss: 10.2256 - mae: 2.3127 - val_loss: 21.5158 - val_mae: 3.0566\n",
      "Epoch 30/260\n",
      "12/12 [==============================] - 0s 1ms/step - loss: 10.3338 - mae: 2.3527 - val_loss: 21.6674 - val_mae: 3.0937\n",
      "Epoch 31/260\n",
      "12/12 [==============================] - 0s 1ms/step - loss: 9.8093 - mae: 2.3027 - val_loss: 20.4726 - val_mae: 2.9630\n",
      "Epoch 32/260\n",
      "12/12 [==============================] - 0s 1ms/step - loss: 9.8012 - mae: 2.2914 - val_loss: 20.4813 - val_mae: 2.9655\n",
      "Epoch 33/260\n",
      "12/12 [==============================] - 0s 1ms/step - loss: 9.3617 - mae: 2.2770 - val_loss: 21.9578 - val_mae: 3.0459\n",
      "Epoch 34/260\n",
      "12/12 [==============================] - 0s 963us/step - loss: 9.6532 - mae: 2.2579 - val_loss: 20.6757 - val_mae: 2.9927\n",
      "Epoch 35/260\n",
      "12/12 [==============================] - 0s 1ms/step - loss: 9.2889 - mae: 2.2267 - val_loss: 21.0937 - val_mae: 2.9583\n",
      "Epoch 36/260\n",
      "12/12 [==============================] - 0s 1ms/step - loss: 9.0358 - mae: 2.2085 - val_loss: 23.5705 - val_mae: 3.3175\n",
      "Epoch 37/260\n",
      "12/12 [==============================] - 0s 956us/step - loss: 9.1209 - mae: 2.2261 - val_loss: 21.1833 - val_mae: 3.0521\n",
      "Epoch 38/260\n",
      "12/12 [==============================] - 0s 1ms/step - loss: 9.0128 - mae: 2.2004 - val_loss: 22.8772 - val_mae: 3.2523\n",
      "Epoch 39/260\n",
      "12/12 [==============================] - 0s 1ms/step - loss: 9.2378 - mae: 2.2353 - val_loss: 20.1505 - val_mae: 2.8929\n",
      "Epoch 40/260\n",
      "12/12 [==============================] - 0s 995us/step - loss: 8.7428 - mae: 2.1515 - val_loss: 21.4248 - val_mae: 3.0091\n",
      "Epoch 41/260\n",
      "12/12 [==============================] - 0s 1ms/step - loss: 8.7758 - mae: 2.1455 - val_loss: 20.8961 - val_mae: 3.0007\n",
      "Epoch 42/260\n",
      "12/12 [==============================] - 0s 1ms/step - loss: 8.5291 - mae: 2.1569 - val_loss: 20.4470 - val_mae: 2.9240\n",
      "Epoch 43/260\n",
      "12/12 [==============================] - 0s 1ms/step - loss: 8.3207 - mae: 2.1050 - val_loss: 21.7298 - val_mae: 3.0639\n",
      "Epoch 44/260\n",
      "12/12 [==============================] - 0s 1ms/step - loss: 8.4412 - mae: 2.1448 - val_loss: 20.0183 - val_mae: 2.8763\n",
      "Epoch 45/260\n",
      "12/12 [==============================] - 0s 1ms/step - loss: 8.1442 - mae: 2.0909 - val_loss: 20.9551 - val_mae: 2.9900\n",
      "Epoch 46/260\n",
      "12/12 [==============================] - 0s 1ms/step - loss: 8.2339 - mae: 2.0869 - val_loss: 20.1066 - val_mae: 2.9194\n",
      "Epoch 47/260\n",
      "12/12 [==============================] - 0s 1ms/step - loss: 8.1547 - mae: 2.0921 - val_loss: 20.7369 - val_mae: 2.9088\n",
      "Epoch 48/260\n",
      "12/12 [==============================] - 0s 1ms/step - loss: 8.1140 - mae: 2.0739 - val_loss: 21.9721 - val_mae: 3.1107\n",
      "Epoch 49/260\n",
      "12/12 [==============================] - 0s 1ms/step - loss: 7.9920 - mae: 2.0954 - val_loss: 21.6076 - val_mae: 3.0632\n",
      "Epoch 50/260\n",
      "12/12 [==============================] - 0s 1ms/step - loss: 7.9510 - mae: 2.0597 - val_loss: 20.2938 - val_mae: 2.9322\n",
      "Epoch 51/260\n",
      "12/12 [==============================] - 0s 1ms/step - loss: 7.8827 - mae: 2.0717 - val_loss: 20.9020 - val_mae: 2.9081\n",
      "Epoch 52/260\n",
      "12/12 [==============================] - 0s 993us/step - loss: 7.6950 - mae: 2.0266 - val_loss: 20.1965 - val_mae: 2.8478\n",
      "Epoch 53/260\n",
      "12/12 [==============================] - 0s 1ms/step - loss: 7.5530 - mae: 1.9959 - val_loss: 20.5961 - val_mae: 2.8706\n",
      "Epoch 54/260\n",
      "12/12 [==============================] - 0s 1ms/step - loss: 7.6594 - mae: 2.0138 - val_loss: 19.9284 - val_mae: 2.9041\n",
      "Epoch 55/260\n",
      "12/12 [==============================] - 0s 1ms/step - loss: 7.4106 - mae: 1.9879 - val_loss: 19.7844 - val_mae: 2.8158\n",
      "Epoch 56/260\n",
      "12/12 [==============================] - 0s 1ms/step - loss: 7.4485 - mae: 1.9969 - val_loss: 20.2991 - val_mae: 2.9485\n",
      "Epoch 57/260\n",
      "12/12 [==============================] - 0s 2ms/step - loss: 7.5892 - mae: 2.0364 - val_loss: 19.8266 - val_mae: 2.9251\n",
      "Epoch 58/260\n",
      "12/12 [==============================] - 0s 1ms/step - loss: 7.3769 - mae: 1.9845 - val_loss: 19.9749 - val_mae: 2.9105\n",
      "Epoch 59/260\n",
      "12/12 [==============================] - 0s 1ms/step - loss: 7.0579 - mae: 1.9862 - val_loss: 19.7972 - val_mae: 2.8680\n",
      "Epoch 60/260\n",
      "12/12 [==============================] - 0s 1ms/step - loss: 7.1323 - mae: 1.9492 - val_loss: 19.5235 - val_mae: 2.7963\n",
      "Epoch 61/260\n",
      "12/12 [==============================] - 0s 1ms/step - loss: 7.0266 - mae: 1.9466 - val_loss: 20.2467 - val_mae: 2.9132\n",
      "Epoch 62/260\n",
      "12/12 [==============================] - 0s 1ms/step - loss: 7.0334 - mae: 1.9700 - val_loss: 19.0637 - val_mae: 2.7200\n",
      "Epoch 63/260\n",
      "12/12 [==============================] - 0s 1ms/step - loss: 7.1012 - mae: 1.9643 - val_loss: 19.2649 - val_mae: 2.7667\n",
      "Epoch 64/260\n",
      "12/12 [==============================] - 0s 1ms/step - loss: 6.9518 - mae: 1.9610 - val_loss: 19.7716 - val_mae: 2.8352\n",
      "Epoch 65/260\n",
      "12/12 [==============================] - 0s 1ms/step - loss: 7.0840 - mae: 1.9672 - val_loss: 19.0637 - val_mae: 2.7411\n",
      "Epoch 66/260\n",
      "12/12 [==============================] - 0s 1ms/step - loss: 6.8940 - mae: 1.9319 - val_loss: 20.2172 - val_mae: 2.7823\n",
      "Epoch 67/260\n",
      "12/12 [==============================] - 0s 1ms/step - loss: 7.0251 - mae: 1.9699 - val_loss: 20.2672 - val_mae: 2.8385\n",
      "Epoch 68/260\n",
      "12/12 [==============================] - 0s 2ms/step - loss: 6.7763 - mae: 1.9362 - val_loss: 20.1039 - val_mae: 2.8645\n",
      "Epoch 69/260\n",
      "12/12 [==============================] - 0s 1ms/step - loss: 6.6509 - mae: 1.9262 - val_loss: 19.4296 - val_mae: 2.7867\n",
      "Epoch 70/260\n",
      "12/12 [==============================] - 0s 1ms/step - loss: 6.5399 - mae: 1.8900 - val_loss: 19.9289 - val_mae: 2.8651\n",
      "Epoch 71/260\n",
      "12/12 [==============================] - 0s 1ms/step - loss: 6.6858 - mae: 1.9063 - val_loss: 19.1368 - val_mae: 2.7781\n",
      "Epoch 72/260\n",
      "12/12 [==============================] - 0s 1ms/step - loss: 6.5785 - mae: 1.8910 - val_loss: 19.2833 - val_mae: 2.7337\n",
      "Epoch 73/260\n",
      "12/12 [==============================] - 0s 1ms/step - loss: 6.4616 - mae: 1.8632 - val_loss: 19.8967 - val_mae: 2.8819\n",
      "Epoch 74/260\n",
      "12/12 [==============================] - 0s 1ms/step - loss: 6.4182 - mae: 1.8790 - val_loss: 18.9944 - val_mae: 2.7602\n",
      "Epoch 75/260\n",
      "12/12 [==============================] - 0s 1ms/step - loss: 6.4426 - mae: 1.8632 - val_loss: 19.4125 - val_mae: 2.7976\n",
      "Epoch 76/260\n",
      "12/12 [==============================] - 0s 1ms/step - loss: 6.3204 - mae: 1.8622 - val_loss: 18.7251 - val_mae: 2.7333\n",
      "Epoch 77/260\n",
      "12/12 [==============================] - 0s 1ms/step - loss: 6.1882 - mae: 1.8389 - val_loss: 19.3827 - val_mae: 2.8283\n",
      "Epoch 78/260\n",
      "12/12 [==============================] - 0s 1ms/step - loss: 6.3388 - mae: 1.8693 - val_loss: 19.4007 - val_mae: 2.7912\n",
      "Epoch 79/260\n",
      "12/12 [==============================] - 0s 1ms/step - loss: 6.1754 - mae: 1.8654 - val_loss: 19.6716 - val_mae: 2.8622\n",
      "Epoch 80/260\n",
      "12/12 [==============================] - 0s 1ms/step - loss: 6.1900 - mae: 1.8441 - val_loss: 19.7276 - val_mae: 2.8341\n",
      "Epoch 81/260\n",
      "12/12 [==============================] - 0s 1ms/step - loss: 6.2134 - mae: 1.8696 - val_loss: 19.2569 - val_mae: 2.7663\n",
      "Epoch 82/260\n",
      "12/12 [==============================] - 0s 1ms/step - loss: 6.2252 - mae: 1.8413 - val_loss: 18.8705 - val_mae: 2.7450\n",
      "Epoch 83/260\n",
      "12/12 [==============================] - 0s 1ms/step - loss: 6.1062 - mae: 1.8298 - val_loss: 19.0121 - val_mae: 2.7479\n",
      "Epoch 84/260\n",
      "12/12 [==============================] - 0s 1ms/step - loss: 6.0450 - mae: 1.8134 - val_loss: 20.0574 - val_mae: 2.9150\n",
      "Epoch 85/260\n",
      "12/12 [==============================] - 0s 1ms/step - loss: 6.1098 - mae: 1.8383 - val_loss: 19.4995 - val_mae: 2.8387\n",
      "Epoch 86/260\n",
      "12/12 [==============================] - 0s 1ms/step - loss: 5.8911 - mae: 1.8123 - val_loss: 19.1870 - val_mae: 2.8083\n",
      "Epoch 87/260\n",
      "12/12 [==============================] - 0s 1ms/step - loss: 5.8560 - mae: 1.8175 - val_loss: 18.8263 - val_mae: 2.7777\n",
      "Epoch 88/260\n",
      "12/12 [==============================] - 0s 1ms/step - loss: 5.8350 - mae: 1.7904 - val_loss: 18.6903 - val_mae: 2.7650\n",
      "Epoch 89/260\n",
      "12/12 [==============================] - 0s 1ms/step - loss: 5.7717 - mae: 1.7685 - val_loss: 18.2804 - val_mae: 2.7202\n",
      "Epoch 90/260\n",
      "12/12 [==============================] - 0s 987us/step - loss: 5.7177 - mae: 1.7920 - val_loss: 18.9115 - val_mae: 2.8110\n",
      "Epoch 91/260\n",
      "12/12 [==============================] - 0s 1ms/step - loss: 5.7843 - mae: 1.7794 - val_loss: 19.5255 - val_mae: 2.8523\n",
      "Epoch 92/260\n",
      "12/12 [==============================] - 0s 1ms/step - loss: 5.6754 - mae: 1.7660 - val_loss: 18.9660 - val_mae: 2.7846\n",
      "Epoch 93/260\n",
      "12/12 [==============================] - 0s 1ms/step - loss: 5.6644 - mae: 1.7653 - val_loss: 20.7801 - val_mae: 3.0245\n",
      "Epoch 94/260\n",
      "12/12 [==============================] - 0s 1ms/step - loss: 5.6668 - mae: 1.7833 - val_loss: 18.9104 - val_mae: 2.7832\n",
      "Epoch 95/260\n",
      "12/12 [==============================] - 0s 1ms/step - loss: 5.3677 - mae: 1.7480 - val_loss: 19.7409 - val_mae: 2.8690\n",
      "Epoch 96/260\n",
      "12/12 [==============================] - 0s 1ms/step - loss: 5.4902 - mae: 1.7481 - val_loss: 19.3650 - val_mae: 2.7866\n",
      "Epoch 97/260\n",
      "12/12 [==============================] - 0s 1ms/step - loss: 5.4557 - mae: 1.7402 - val_loss: 19.0576 - val_mae: 2.7625\n",
      "Epoch 98/260\n",
      "12/12 [==============================] - 0s 1ms/step - loss: 5.5173 - mae: 1.7377 - val_loss: 19.4299 - val_mae: 2.8349\n",
      "Epoch 99/260\n",
      "12/12 [==============================] - 0s 1ms/step - loss: 5.4763 - mae: 1.7718 - val_loss: 18.6456 - val_mae: 2.7587\n",
      "Epoch 100/260\n",
      "12/12 [==============================] - 0s 1ms/step - loss: 5.3262 - mae: 1.7238 - val_loss: 18.5819 - val_mae: 2.7305\n",
      "Epoch 101/260\n",
      "12/12 [==============================] - 0s 1ms/step - loss: 5.3839 - mae: 1.7408 - val_loss: 18.3726 - val_mae: 2.7188\n",
      "Epoch 102/260\n",
      "12/12 [==============================] - 0s 1ms/step - loss: 5.3186 - mae: 1.7185 - val_loss: 18.3429 - val_mae: 2.7284\n",
      "Epoch 103/260\n",
      "12/12 [==============================] - 0s 994us/step - loss: 5.1163 - mae: 1.6622 - val_loss: 19.4023 - val_mae: 2.8185\n",
      "Epoch 104/260\n",
      "12/12 [==============================] - 0s 1ms/step - loss: 5.4610 - mae: 1.7523 - val_loss: 18.5336 - val_mae: 2.7307\n",
      "Epoch 105/260\n",
      "12/12 [==============================] - 0s 1ms/step - loss: 5.3348 - mae: 1.7266 - val_loss: 18.8868 - val_mae: 2.8164\n",
      "Epoch 106/260\n",
      "12/12 [==============================] - 0s 1ms/step - loss: 5.0985 - mae: 1.6867 - val_loss: 19.1941 - val_mae: 2.8418\n",
      "Epoch 107/260\n",
      "12/12 [==============================] - 0s 1ms/step - loss: 5.0430 - mae: 1.6562 - val_loss: 18.5221 - val_mae: 2.7624\n",
      "Epoch 108/260\n",
      "12/12 [==============================] - 0s 1ms/step - loss: 5.1140 - mae: 1.6968 - val_loss: 18.2766 - val_mae: 2.7771\n",
      "Epoch 109/260\n",
      "12/12 [==============================] - 0s 1ms/step - loss: 5.0431 - mae: 1.6900 - val_loss: 18.3969 - val_mae: 2.7438\n",
      "Epoch 110/260\n",
      "12/12 [==============================] - 0s 1ms/step - loss: 4.8913 - mae: 1.6656 - val_loss: 20.5751 - val_mae: 3.0350\n",
      "Epoch 111/260\n",
      "12/12 [==============================] - 0s 1ms/step - loss: 5.1114 - mae: 1.6840 - val_loss: 19.6388 - val_mae: 2.8320\n",
      "Epoch 112/260\n",
      "12/12 [==============================] - 0s 1ms/step - loss: 5.0778 - mae: 1.6865 - val_loss: 18.5438 - val_mae: 2.7305\n",
      "Epoch 113/260\n",
      "12/12 [==============================] - 0s 1ms/step - loss: 4.8437 - mae: 1.6666 - val_loss: 18.2053 - val_mae: 2.7189\n",
      "Epoch 114/260\n",
      "12/12 [==============================] - 0s 1ms/step - loss: 4.8222 - mae: 1.6554 - val_loss: 18.5269 - val_mae: 2.7223\n",
      "Epoch 115/260\n",
      "12/12 [==============================] - 0s 995us/step - loss: 4.9278 - mae: 1.6438 - val_loss: 18.5801 - val_mae: 2.7555\n",
      "Epoch 116/260\n",
      "12/12 [==============================] - 0s 1ms/step - loss: 4.8728 - mae: 1.6311 - val_loss: 18.4935 - val_mae: 2.8146\n",
      "Epoch 117/260\n",
      "12/12 [==============================] - 0s 1ms/step - loss: 4.8986 - mae: 1.6462 - val_loss: 18.6558 - val_mae: 2.7502\n",
      "Epoch 118/260\n",
      "12/12 [==============================] - 0s 1ms/step - loss: 4.9500 - mae: 1.6821 - val_loss: 18.1437 - val_mae: 2.7709\n",
      "Epoch 119/260\n",
      "12/12 [==============================] - 0s 990us/step - loss: 4.7656 - mae: 1.6154 - val_loss: 18.5863 - val_mae: 2.7252\n",
      "Epoch 120/260\n",
      "12/12 [==============================] - 0s 1ms/step - loss: 4.8049 - mae: 1.6243 - val_loss: 18.4841 - val_mae: 2.7460\n",
      "Epoch 121/260\n",
      "12/12 [==============================] - 0s 997us/step - loss: 4.5936 - mae: 1.6128 - val_loss: 18.2236 - val_mae: 2.7226\n",
      "Epoch 122/260\n",
      "12/12 [==============================] - 0s 1ms/step - loss: 4.6582 - mae: 1.6295 - val_loss: 18.3707 - val_mae: 2.7489\n",
      "Epoch 123/260\n",
      "12/12 [==============================] - 0s 1ms/step - loss: 4.5379 - mae: 1.6116 - val_loss: 18.0182 - val_mae: 2.7040\n",
      "Epoch 124/260\n",
      "12/12 [==============================] - 0s 1ms/step - loss: 4.4908 - mae: 1.5981 - val_loss: 17.9155 - val_mae: 2.7152\n",
      "Epoch 125/260\n",
      "12/12 [==============================] - 0s 1ms/step - loss: 4.6712 - mae: 1.6173 - val_loss: 18.4643 - val_mae: 2.7710\n",
      "Epoch 126/260\n",
      "12/12 [==============================] - 0s 1ms/step - loss: 4.4953 - mae: 1.6044 - val_loss: 18.1307 - val_mae: 2.7018\n",
      "Epoch 127/260\n",
      "12/12 [==============================] - 0s 1ms/step - loss: 4.4179 - mae: 1.5655 - val_loss: 18.8089 - val_mae: 2.8168\n",
      "Epoch 128/260\n",
      "12/12 [==============================] - 0s 1ms/step - loss: 4.4200 - mae: 1.5621 - val_loss: 18.4143 - val_mae: 2.7147\n",
      "Epoch 129/260\n",
      "12/12 [==============================] - 0s 1ms/step - loss: 4.5050 - mae: 1.5786 - val_loss: 18.4125 - val_mae: 2.7647\n",
      "Epoch 130/260\n",
      "12/12 [==============================] - 0s 990us/step - loss: 4.2028 - mae: 1.5373 - val_loss: 17.6766 - val_mae: 2.7020\n",
      "Epoch 131/260\n",
      "12/12 [==============================] - 0s 1ms/step - loss: 4.3166 - mae: 1.5471 - val_loss: 18.1469 - val_mae: 2.7034\n",
      "Epoch 132/260\n",
      "12/12 [==============================] - 0s 980us/step - loss: 4.3517 - mae: 1.5513 - val_loss: 19.0954 - val_mae: 2.8184\n",
      "Epoch 133/260\n",
      "12/12 [==============================] - 0s 1ms/step - loss: 4.2808 - mae: 1.5385 - val_loss: 18.0763 - val_mae: 2.6667\n",
      "Epoch 134/260\n",
      "12/12 [==============================] - 0s 1ms/step - loss: 4.3310 - mae: 1.5505 - val_loss: 18.9684 - val_mae: 2.8012\n",
      "Epoch 135/260\n",
      "12/12 [==============================] - 0s 1ms/step - loss: 4.3474 - mae: 1.5641 - val_loss: 18.6134 - val_mae: 2.7109\n",
      "Epoch 136/260\n",
      "12/12 [==============================] - 0s 1ms/step - loss: 4.2316 - mae: 1.5305 - val_loss: 19.2860 - val_mae: 2.8472\n",
      "Epoch 137/260\n",
      "12/12 [==============================] - 0s 1ms/step - loss: 4.1693 - mae: 1.5240 - val_loss: 17.9901 - val_mae: 2.6948\n",
      "Epoch 138/260\n",
      "12/12 [==============================] - 0s 1ms/step - loss: 4.0775 - mae: 1.5095 - val_loss: 19.9761 - val_mae: 2.9721\n",
      "Epoch 139/260\n",
      "12/12 [==============================] - 0s 1ms/step - loss: 4.4377 - mae: 1.5891 - val_loss: 19.5676 - val_mae: 2.9409\n",
      "Epoch 140/260\n",
      "12/12 [==============================] - 0s 1ms/step - loss: 4.2221 - mae: 1.5692 - val_loss: 19.4906 - val_mae: 2.8224\n",
      "Epoch 141/260\n",
      "12/12 [==============================] - 0s 1ms/step - loss: 4.1546 - mae: 1.5319 - val_loss: 18.2080 - val_mae: 2.7719\n",
      "Epoch 142/260\n",
      "12/12 [==============================] - 0s 1ms/step - loss: 3.9295 - mae: 1.5152 - val_loss: 18.8404 - val_mae: 2.8105\n",
      "Epoch 143/260\n",
      "12/12 [==============================] - 0s 1ms/step - loss: 4.1282 - mae: 1.5760 - val_loss: 17.7542 - val_mae: 2.7183\n",
      "Epoch 144/260\n",
      "12/12 [==============================] - 0s 1ms/step - loss: 3.9279 - mae: 1.4860 - val_loss: 18.2197 - val_mae: 2.7399\n",
      "Epoch 145/260\n",
      "12/12 [==============================] - 0s 1ms/step - loss: 3.9798 - mae: 1.4940 - val_loss: 18.9344 - val_mae: 2.7949\n",
      "Epoch 146/260\n",
      "12/12 [==============================] - 0s 1ms/step - loss: 4.0145 - mae: 1.5074 - val_loss: 18.1023 - val_mae: 2.7103\n",
      "Epoch 147/260\n",
      "12/12 [==============================] - 0s 1ms/step - loss: 3.8618 - mae: 1.4655 - val_loss: 18.7520 - val_mae: 2.8024\n",
      "Epoch 148/260\n",
      "12/12 [==============================] - 0s 1ms/step - loss: 3.9550 - mae: 1.4862 - val_loss: 18.5311 - val_mae: 2.7526\n",
      "Epoch 149/260\n",
      "12/12 [==============================] - 0s 993us/step - loss: 3.9236 - mae: 1.4945 - val_loss: 19.5574 - val_mae: 3.0023\n",
      "Epoch 150/260\n",
      "12/12 [==============================] - 0s 1ms/step - loss: 4.0349 - mae: 1.5110 - val_loss: 20.4647 - val_mae: 3.0649\n",
      "Epoch 151/260\n",
      "12/12 [==============================] - 0s 1ms/step - loss: 4.0157 - mae: 1.5303 - val_loss: 17.8574 - val_mae: 2.8229\n",
      "Epoch 152/260\n",
      "12/12 [==============================] - 0s 1ms/step - loss: 3.7675 - mae: 1.4632 - val_loss: 18.6222 - val_mae: 2.8623\n",
      "Epoch 153/260\n",
      "12/12 [==============================] - 0s 1ms/step - loss: 3.7657 - mae: 1.4657 - val_loss: 18.7580 - val_mae: 2.8782\n",
      "Epoch 154/260\n",
      "12/12 [==============================] - 0s 1ms/step - loss: 3.7787 - mae: 1.4797 - val_loss: 18.8985 - val_mae: 2.8530\n",
      "Epoch 155/260\n",
      "12/12 [==============================] - 0s 1ms/step - loss: 3.8603 - mae: 1.4750 - val_loss: 18.4846 - val_mae: 2.7864\n",
      "Epoch 156/260\n",
      "12/12 [==============================] - 0s 1ms/step - loss: 3.7645 - mae: 1.4711 - val_loss: 18.6646 - val_mae: 2.7872\n",
      "Epoch 157/260\n",
      "12/12 [==============================] - 0s 1ms/step - loss: 3.8127 - mae: 1.4938 - val_loss: 19.6159 - val_mae: 2.9785\n",
      "Epoch 158/260\n",
      "12/12 [==============================] - 0s 1ms/step - loss: 3.9094 - mae: 1.5079 - val_loss: 18.4403 - val_mae: 2.7923\n",
      "Epoch 159/260\n",
      "12/12 [==============================] - 0s 1ms/step - loss: 3.5811 - mae: 1.4234 - val_loss: 17.9112 - val_mae: 2.6851\n",
      "Epoch 160/260\n",
      "12/12 [==============================] - 0s 1ms/step - loss: 3.6204 - mae: 1.4238 - val_loss: 17.7153 - val_mae: 2.7000\n",
      "Epoch 161/260\n",
      "12/12 [==============================] - 0s 1ms/step - loss: 3.6855 - mae: 1.4438 - val_loss: 20.9474 - val_mae: 3.0825\n",
      "Epoch 162/260\n",
      "12/12 [==============================] - 0s 1ms/step - loss: 3.8815 - mae: 1.5088 - val_loss: 17.8507 - val_mae: 2.7025\n",
      "Epoch 163/260\n",
      "12/12 [==============================] - 0s 1ms/step - loss: 3.5206 - mae: 1.3990 - val_loss: 19.6006 - val_mae: 2.9373\n",
      "Epoch 164/260\n",
      "12/12 [==============================] - 0s 1ms/step - loss: 3.9424 - mae: 1.4836 - val_loss: 18.0525 - val_mae: 2.7451\n",
      "Epoch 165/260\n",
      "12/12 [==============================] - 0s 1ms/step - loss: 3.3845 - mae: 1.4140 - val_loss: 19.9567 - val_mae: 3.0652\n",
      "Epoch 166/260\n",
      "12/12 [==============================] - 0s 1ms/step - loss: 3.6255 - mae: 1.4588 - val_loss: 17.9389 - val_mae: 2.7256\n",
      "Epoch 167/260\n",
      "12/12 [==============================] - 0s 1ms/step - loss: 3.4505 - mae: 1.4124 - val_loss: 19.8021 - val_mae: 2.8858\n",
      "Epoch 168/260\n",
      "12/12 [==============================] - 0s 1ms/step - loss: 3.4460 - mae: 1.4360 - val_loss: 18.7006 - val_mae: 2.8525\n",
      "Epoch 169/260\n",
      "12/12 [==============================] - 0s 1ms/step - loss: 3.4039 - mae: 1.3967 - val_loss: 17.7414 - val_mae: 2.7309\n",
      "Epoch 170/260\n",
      "12/12 [==============================] - 0s 1ms/step - loss: 3.4752 - mae: 1.3858 - val_loss: 17.2780 - val_mae: 2.6603\n",
      "Epoch 171/260\n",
      "12/12 [==============================] - 0s 1ms/step - loss: 3.4217 - mae: 1.3875 - val_loss: 17.9241 - val_mae: 2.7589\n",
      "Epoch 172/260\n",
      "12/12 [==============================] - 0s 1ms/step - loss: 3.4570 - mae: 1.4210 - val_loss: 17.5214 - val_mae: 2.6826\n",
      "Epoch 173/260\n",
      "12/12 [==============================] - 0s 1ms/step - loss: 3.3118 - mae: 1.3503 - val_loss: 18.1518 - val_mae: 2.9032\n",
      "Epoch 174/260\n",
      "12/12 [==============================] - 0s 1ms/step - loss: 3.5258 - mae: 1.4144 - val_loss: 18.2474 - val_mae: 2.7728\n",
      "Epoch 175/260\n",
      "12/12 [==============================] - 0s 1ms/step - loss: 3.4474 - mae: 1.3904 - val_loss: 18.9772 - val_mae: 2.8741\n",
      "Epoch 176/260\n",
      "12/12 [==============================] - 0s 1ms/step - loss: 3.2101 - mae: 1.3451 - val_loss: 18.3764 - val_mae: 2.7940\n",
      "Epoch 177/260\n",
      "12/12 [==============================] - 0s 1ms/step - loss: 3.2848 - mae: 1.3753 - val_loss: 17.6027 - val_mae: 2.6759\n",
      "Epoch 178/260\n",
      "12/12 [==============================] - 0s 1ms/step - loss: 3.2741 - mae: 1.3624 - val_loss: 18.0137 - val_mae: 2.7705\n",
      "Epoch 179/260\n",
      "12/12 [==============================] - 0s 1ms/step - loss: 3.2777 - mae: 1.3784 - val_loss: 22.7112 - val_mae: 3.2645\n",
      "Epoch 180/260\n",
      "12/12 [==============================] - 0s 1ms/step - loss: 3.8029 - mae: 1.5111 - val_loss: 18.0209 - val_mae: 2.7070\n",
      "Epoch 181/260\n",
      "12/12 [==============================] - 0s 1ms/step - loss: 3.1666 - mae: 1.3515 - val_loss: 17.9244 - val_mae: 2.7259\n",
      "Epoch 182/260\n",
      "12/12 [==============================] - 0s 1ms/step - loss: 3.2133 - mae: 1.3447 - val_loss: 18.1597 - val_mae: 2.7196\n",
      "Epoch 183/260\n",
      "12/12 [==============================] - 0s 1ms/step - loss: 3.2120 - mae: 1.3670 - val_loss: 18.1731 - val_mae: 2.7365\n",
      "Epoch 184/260\n",
      "12/12 [==============================] - 0s 1ms/step - loss: 3.1603 - mae: 1.3550 - val_loss: 17.6610 - val_mae: 2.7284\n",
      "Epoch 185/260\n",
      "12/12 [==============================] - 0s 1ms/step - loss: 3.1756 - mae: 1.3495 - val_loss: 17.1055 - val_mae: 2.6652\n",
      "Epoch 186/260\n",
      "12/12 [==============================] - 0s 1ms/step - loss: 3.2356 - mae: 1.3725 - val_loss: 19.8413 - val_mae: 2.8475\n",
      "Epoch 187/260\n",
      "12/12 [==============================] - 0s 1ms/step - loss: 3.3709 - mae: 1.3750 - val_loss: 17.9955 - val_mae: 2.7438\n",
      "Epoch 188/260\n",
      "12/12 [==============================] - 0s 1ms/step - loss: 3.0647 - mae: 1.3145 - val_loss: 17.8220 - val_mae: 2.6902\n",
      "Epoch 189/260\n",
      "12/12 [==============================] - 0s 1ms/step - loss: 3.0789 - mae: 1.3199 - val_loss: 17.6001 - val_mae: 2.6985\n",
      "Epoch 190/260\n",
      "12/12 [==============================] - 0s 1ms/step - loss: 2.9564 - mae: 1.2967 - val_loss: 18.1407 - val_mae: 2.8147\n",
      "Epoch 191/260\n",
      "12/12 [==============================] - 0s 1ms/step - loss: 3.0964 - mae: 1.3547 - val_loss: 18.4391 - val_mae: 2.7672\n",
      "Epoch 192/260\n",
      "12/12 [==============================] - 0s 1ms/step - loss: 3.0751 - mae: 1.3285 - val_loss: 17.3054 - val_mae: 2.7107\n",
      "Epoch 193/260\n",
      "12/12 [==============================] - 0s 1ms/step - loss: 2.9910 - mae: 1.3049 - val_loss: 17.6366 - val_mae: 2.6907\n",
      "Epoch 194/260\n",
      "12/12 [==============================] - 0s 1ms/step - loss: 3.1006 - mae: 1.3682 - val_loss: 18.4000 - val_mae: 2.7336\n",
      "Epoch 195/260\n",
      "12/12 [==============================] - 0s 1ms/step - loss: 2.9732 - mae: 1.3071 - val_loss: 17.8771 - val_mae: 2.8009\n",
      "Epoch 196/260\n",
      "12/12 [==============================] - 0s 1ms/step - loss: 2.8584 - mae: 1.2925 - val_loss: 17.8798 - val_mae: 2.6835\n",
      "Epoch 197/260\n",
      "12/12 [==============================] - 0s 1ms/step - loss: 3.0787 - mae: 1.3316 - val_loss: 17.8632 - val_mae: 2.6824\n",
      "Epoch 198/260\n",
      "12/12 [==============================] - 0s 1ms/step - loss: 2.8545 - mae: 1.2777 - val_loss: 18.8085 - val_mae: 2.8087\n",
      "Epoch 199/260\n",
      "12/12 [==============================] - 0s 1ms/step - loss: 3.0543 - mae: 1.3385 - val_loss: 18.4693 - val_mae: 2.7609\n",
      "Epoch 200/260\n",
      "12/12 [==============================] - 0s 1ms/step - loss: 3.0213 - mae: 1.3214 - val_loss: 18.2512 - val_mae: 2.7390\n",
      "Epoch 201/260\n",
      "12/12 [==============================] - 0s 1ms/step - loss: 3.0400 - mae: 1.3289 - val_loss: 18.9845 - val_mae: 2.9408\n",
      "Epoch 202/260\n",
      "12/12 [==============================] - 0s 1ms/step - loss: 2.8531 - mae: 1.2867 - val_loss: 17.7412 - val_mae: 2.6925\n",
      "Epoch 203/260\n",
      "12/12 [==============================] - 0s 1ms/step - loss: 2.7779 - mae: 1.2639 - val_loss: 18.4300 - val_mae: 2.7915\n",
      "Epoch 204/260\n",
      "12/12 [==============================] - 0s 1ms/step - loss: 2.9910 - mae: 1.3177 - val_loss: 17.6824 - val_mae: 2.7123\n",
      "Epoch 205/260\n",
      "12/12 [==============================] - 0s 1ms/step - loss: 2.7418 - mae: 1.2563 - val_loss: 18.7217 - val_mae: 2.8815\n",
      "Epoch 206/260\n",
      "12/12 [==============================] - 0s 1ms/step - loss: 2.8419 - mae: 1.2953 - val_loss: 17.3484 - val_mae: 2.6880\n",
      "Epoch 207/260\n",
      "12/12 [==============================] - 0s 1ms/step - loss: 2.8049 - mae: 1.2577 - val_loss: 17.6982 - val_mae: 2.7031\n",
      "Epoch 208/260\n",
      "12/12 [==============================] - 0s 1ms/step - loss: 2.7071 - mae: 1.2549 - val_loss: 19.8710 - val_mae: 2.8433\n",
      "Epoch 209/260\n",
      "12/12 [==============================] - 0s 1ms/step - loss: 2.9629 - mae: 1.3310 - val_loss: 18.0647 - val_mae: 2.7010\n",
      "Epoch 210/260\n",
      "12/12 [==============================] - 0s 1ms/step - loss: 2.6736 - mae: 1.2671 - val_loss: 17.8542 - val_mae: 2.7081\n",
      "Epoch 211/260\n",
      "12/12 [==============================] - 0s 1ms/step - loss: 2.7458 - mae: 1.2482 - val_loss: 18.9119 - val_mae: 2.8257\n",
      "Epoch 212/260\n",
      "12/12 [==============================] - 0s 1ms/step - loss: 2.9983 - mae: 1.3161 - val_loss: 17.6485 - val_mae: 2.7093\n",
      "Epoch 213/260\n",
      "12/12 [==============================] - 0s 1ms/step - loss: 2.6022 - mae: 1.2219 - val_loss: 18.3344 - val_mae: 2.7353\n",
      "Epoch 214/260\n",
      "12/12 [==============================] - 0s 1ms/step - loss: 2.6068 - mae: 1.2126 - val_loss: 19.1901 - val_mae: 2.9135\n",
      "Epoch 215/260\n",
      "12/12 [==============================] - 0s 1ms/step - loss: 2.6763 - mae: 1.2667 - val_loss: 17.6733 - val_mae: 2.7421\n",
      "Epoch 216/260\n",
      "12/12 [==============================] - 0s 1ms/step - loss: 2.7874 - mae: 1.2882 - val_loss: 18.5855 - val_mae: 2.8702\n",
      "Epoch 217/260\n",
      "12/12 [==============================] - 0s 1ms/step - loss: 2.6938 - mae: 1.2267 - val_loss: 17.7896 - val_mae: 2.7330\n",
      "Epoch 218/260\n",
      "12/12 [==============================] - 0s 1ms/step - loss: 2.7173 - mae: 1.2699 - val_loss: 18.1156 - val_mae: 2.7260\n",
      "Epoch 219/260\n",
      "12/12 [==============================] - 0s 1ms/step - loss: 2.8218 - mae: 1.2469 - val_loss: 17.6269 - val_mae: 2.7553\n",
      "Epoch 220/260\n",
      "12/12 [==============================] - 0s 1ms/step - loss: 2.4862 - mae: 1.2014 - val_loss: 17.6148 - val_mae: 2.7047\n",
      "Epoch 221/260\n",
      "12/12 [==============================] - 0s 1ms/step - loss: 2.6390 - mae: 1.2331 - val_loss: 17.3246 - val_mae: 2.6734\n",
      "Epoch 222/260\n",
      "12/12 [==============================] - 0s 1ms/step - loss: 2.5731 - mae: 1.2492 - val_loss: 17.9028 - val_mae: 2.6938\n",
      "Epoch 223/260\n",
      "12/12 [==============================] - 0s 1ms/step - loss: 2.5912 - mae: 1.2095 - val_loss: 19.0659 - val_mae: 2.9400\n",
      "Epoch 224/260\n",
      "12/12 [==============================] - 0s 1ms/step - loss: 2.6974 - mae: 1.2592 - val_loss: 18.8240 - val_mae: 2.8627\n",
      "Epoch 225/260\n",
      "12/12 [==============================] - 0s 1ms/step - loss: 2.6445 - mae: 1.2271 - val_loss: 18.3468 - val_mae: 2.8433\n",
      "Epoch 226/260\n",
      "12/12 [==============================] - 0s 1ms/step - loss: 2.4530 - mae: 1.1871 - val_loss: 18.0070 - val_mae: 2.6925\n",
      "Epoch 227/260\n",
      "12/12 [==============================] - 0s 1ms/step - loss: 2.6169 - mae: 1.2225 - val_loss: 18.2765 - val_mae: 2.7119\n",
      "Epoch 228/260\n",
      "12/12 [==============================] - 0s 1ms/step - loss: 2.5230 - mae: 1.2023 - val_loss: 17.9398 - val_mae: 2.6794\n",
      "Epoch 229/260\n",
      "12/12 [==============================] - 0s 1ms/step - loss: 2.6010 - mae: 1.2420 - val_loss: 19.4971 - val_mae: 2.9294\n",
      "Epoch 230/260\n",
      "12/12 [==============================] - 0s 1ms/step - loss: 2.7970 - mae: 1.2518 - val_loss: 18.4496 - val_mae: 2.9107\n",
      "Epoch 231/260\n",
      "12/12 [==============================] - 0s 1ms/step - loss: 2.4467 - mae: 1.2018 - val_loss: 17.7767 - val_mae: 2.6860\n",
      "Epoch 232/260\n",
      "12/12 [==============================] - 0s 1ms/step - loss: 2.5269 - mae: 1.1926 - val_loss: 17.5190 - val_mae: 2.7135\n",
      "Epoch 233/260\n",
      "12/12 [==============================] - 0s 1ms/step - loss: 2.4828 - mae: 1.2013 - val_loss: 17.5847 - val_mae: 2.6659\n",
      "Epoch 234/260\n",
      "12/12 [==============================] - 0s 1ms/step - loss: 2.4912 - mae: 1.1905 - val_loss: 19.5216 - val_mae: 2.9992\n",
      "Epoch 235/260\n",
      "12/12 [==============================] - 0s 1ms/step - loss: 2.5617 - mae: 1.2283 - val_loss: 17.8136 - val_mae: 2.7880\n",
      "Epoch 236/260\n",
      "12/12 [==============================] - 0s 1ms/step - loss: 2.5575 - mae: 1.2144 - val_loss: 18.4865 - val_mae: 2.9013\n",
      "Epoch 237/260\n",
      "12/12 [==============================] - 0s 1ms/step - loss: 2.3622 - mae: 1.1635 - val_loss: 19.1638 - val_mae: 2.7686\n",
      "Epoch 238/260\n",
      "12/12 [==============================] - 0s 1ms/step - loss: 2.5366 - mae: 1.2107 - val_loss: 17.7680 - val_mae: 2.7163\n",
      "Epoch 239/260\n",
      "12/12 [==============================] - 0s 1ms/step - loss: 2.2713 - mae: 1.1293 - val_loss: 17.8529 - val_mae: 2.7046\n",
      "Epoch 240/260\n",
      "12/12 [==============================] - 0s 1ms/step - loss: 2.3599 - mae: 1.1776 - val_loss: 17.5776 - val_mae: 2.7341\n",
      "Epoch 241/260\n",
      "12/12 [==============================] - 0s 1ms/step - loss: 2.4438 - mae: 1.1697 - val_loss: 18.8936 - val_mae: 2.8841\n",
      "Epoch 242/260\n",
      "12/12 [==============================] - 0s 1ms/step - loss: 2.6037 - mae: 1.2300 - val_loss: 17.6687 - val_mae: 2.7030\n",
      "Epoch 243/260\n",
      "12/12 [==============================] - 0s 1ms/step - loss: 2.2808 - mae: 1.1261 - val_loss: 18.5064 - val_mae: 2.8298\n",
      "Epoch 244/260\n",
      "12/12 [==============================] - 0s 1ms/step - loss: 2.4937 - mae: 1.1958 - val_loss: 17.8636 - val_mae: 2.6877\n",
      "Epoch 245/260\n",
      "12/12 [==============================] - 0s 1ms/step - loss: 2.3499 - mae: 1.1531 - val_loss: 17.1417 - val_mae: 2.6432\n",
      "Epoch 246/260\n",
      "12/12 [==============================] - 0s 1ms/step - loss: 2.4637 - mae: 1.1832 - val_loss: 17.6238 - val_mae: 2.7087\n",
      "Epoch 247/260\n",
      "12/12 [==============================] - 0s 1ms/step - loss: 2.3285 - mae: 1.1385 - val_loss: 18.6959 - val_mae: 2.8237\n",
      "Epoch 248/260\n",
      "12/12 [==============================] - 0s 1ms/step - loss: 2.4919 - mae: 1.1770 - val_loss: 17.8226 - val_mae: 2.7670\n",
      "Epoch 249/260\n",
      "12/12 [==============================] - 0s 1ms/step - loss: 2.3664 - mae: 1.1740 - val_loss: 18.7457 - val_mae: 2.8365\n",
      "Epoch 250/260\n",
      "12/12 [==============================] - 0s 1ms/step - loss: 2.3568 - mae: 1.1434 - val_loss: 17.4543 - val_mae: 2.6674\n",
      "Epoch 251/260\n",
      "12/12 [==============================] - 0s 1ms/step - loss: 2.2833 - mae: 1.1615 - val_loss: 18.2706 - val_mae: 2.7195\n",
      "Epoch 252/260\n",
      "12/12 [==============================] - 0s 1ms/step - loss: 2.2561 - mae: 1.1294 - val_loss: 17.5828 - val_mae: 2.6852\n",
      "Epoch 253/260\n",
      "12/12 [==============================] - 0s 2ms/step - loss: 2.2986 - mae: 1.1483 - val_loss: 19.0169 - val_mae: 2.7819\n",
      "Epoch 254/260\n",
      "12/12 [==============================] - 0s 1ms/step - loss: 2.3217 - mae: 1.1813 - val_loss: 17.3198 - val_mae: 2.6416\n",
      "Epoch 255/260\n",
      "12/12 [==============================] - 0s 1ms/step - loss: 2.2260 - mae: 1.1266 - val_loss: 18.5269 - val_mae: 2.7520\n",
      "Epoch 256/260\n",
      "12/12 [==============================] - 0s 1ms/step - loss: 2.2392 - mae: 1.1445 - val_loss: 17.8017 - val_mae: 2.7333\n",
      "Epoch 257/260\n",
      "12/12 [==============================] - 0s 1ms/step - loss: 2.3137 - mae: 1.1545 - val_loss: 17.5600 - val_mae: 2.6197\n",
      "Epoch 258/260\n",
      "12/12 [==============================] - 0s 1ms/step - loss: 2.1879 - mae: 1.1220 - val_loss: 18.8311 - val_mae: 2.8813\n",
      "Epoch 259/260\n",
      "12/12 [==============================] - 0s 1ms/step - loss: 2.4098 - mae: 1.1681 - val_loss: 17.7452 - val_mae: 2.7290\n",
      "Epoch 260/260\n",
      "12/12 [==============================] - 0s 1ms/step - loss: 2.3058 - mae: 1.1511 - val_loss: 19.8578 - val_mae: 3.0215\n"
     ]
    }
   ]
  },
  {
   "cell_type": "markdown",
   "source": [
    "## Exe 7 : Model evaluation\n",
    "\n",
    "It is the moment for checking the model performance on the test dataset.\n",
    "\n",
    "Check the test loss and mae of the model.\n",
    "\n",
    "* MAE = Mean Absolute Error (between the labels and predictions)\n",
    "\n",
    "=> A mae equal to 3 represents an average error in prediction of $3k."
   ],
   "metadata": {
    "id": "YpxzW-1p2EXJ"
   }
  },
  {
   "cell_type": "code",
   "source": [
    "\n",
    "\n",
    "score = model.evaluate(x_test, y_test)\n",
    "\n",
    "print('x_test / loss      : {:5.4f}'.format(score[0]))\n",
    "print('x_test / mae       : {:5.4f}'.format(score[1]))\n",
    "\n"
   ],
   "metadata": {
    "id": "eBXglsV82RKG",
    "ExecuteTime": {
     "end_time": "2024-01-26T15:07:14.121434Z",
     "start_time": "2024-01-26T15:07:14.096512Z"
    }
   },
   "execution_count": 440,
   "outputs": [
    {
     "name": "stdout",
     "output_type": "stream",
     "text": [
      "5/5 [==============================] - 0s 466us/step - loss: 19.8578 - mae: 3.0215\n",
      "x_test / loss      : 19.8578\n",
      "x_test / mae       : 3.0215\n"
     ]
    }
   ]
  },
  {
   "cell_type": "markdown",
   "source": [
    "## Exe 8 : Training histroy\n",
    "\n",
    "What was the best result during our training ?"
   ],
   "metadata": {
    "id": "33BEc6MW4ojs"
   }
  },
  {
   "cell_type": "code",
   "source": [
    "df=pd.DataFrame(data=history.history)\n",
    "display(df)"
   ],
   "metadata": {
    "id": "k66U8rtf6GnC",
    "ExecuteTime": {
     "end_time": "2024-01-26T15:07:14.125618Z",
     "start_time": "2024-01-26T15:07:14.123186Z"
    }
   },
   "execution_count": 441,
   "outputs": [
    {
     "data": {
      "text/plain": "           loss        mae    val_loss    val_mae\n0    542.161865  21.162607  460.303802  19.604469\n1    458.219360  19.133949  373.373779  17.429100\n2    365.954437  16.745514  297.025116  15.305300\n3    280.111420  14.321806  208.554886  12.574634\n4    195.117966  11.510498  145.068207  10.218694\n..          ...        ...         ...        ...\n255    2.239213   1.144488   17.801680   2.733337\n256    2.313666   1.154461   17.560043   2.619665\n257    2.187863   1.121986   18.831068   2.881313\n258    2.409842   1.168136   17.745193   2.728976\n259    2.305753   1.151089   19.857834   3.021538\n\n[260 rows x 4 columns]",
      "text/html": "<div>\n<style scoped>\n    .dataframe tbody tr th:only-of-type {\n        vertical-align: middle;\n    }\n\n    .dataframe tbody tr th {\n        vertical-align: top;\n    }\n\n    .dataframe thead th {\n        text-align: right;\n    }\n</style>\n<table border=\"1\" class=\"dataframe\">\n  <thead>\n    <tr style=\"text-align: right;\">\n      <th></th>\n      <th>loss</th>\n      <th>mae</th>\n      <th>val_loss</th>\n      <th>val_mae</th>\n    </tr>\n  </thead>\n  <tbody>\n    <tr>\n      <th>0</th>\n      <td>542.161865</td>\n      <td>21.162607</td>\n      <td>460.303802</td>\n      <td>19.604469</td>\n    </tr>\n    <tr>\n      <th>1</th>\n      <td>458.219360</td>\n      <td>19.133949</td>\n      <td>373.373779</td>\n      <td>17.429100</td>\n    </tr>\n    <tr>\n      <th>2</th>\n      <td>365.954437</td>\n      <td>16.745514</td>\n      <td>297.025116</td>\n      <td>15.305300</td>\n    </tr>\n    <tr>\n      <th>3</th>\n      <td>280.111420</td>\n      <td>14.321806</td>\n      <td>208.554886</td>\n      <td>12.574634</td>\n    </tr>\n    <tr>\n      <th>4</th>\n      <td>195.117966</td>\n      <td>11.510498</td>\n      <td>145.068207</td>\n      <td>10.218694</td>\n    </tr>\n    <tr>\n      <th>...</th>\n      <td>...</td>\n      <td>...</td>\n      <td>...</td>\n      <td>...</td>\n    </tr>\n    <tr>\n      <th>255</th>\n      <td>2.239213</td>\n      <td>1.144488</td>\n      <td>17.801680</td>\n      <td>2.733337</td>\n    </tr>\n    <tr>\n      <th>256</th>\n      <td>2.313666</td>\n      <td>1.154461</td>\n      <td>17.560043</td>\n      <td>2.619665</td>\n    </tr>\n    <tr>\n      <th>257</th>\n      <td>2.187863</td>\n      <td>1.121986</td>\n      <td>18.831068</td>\n      <td>2.881313</td>\n    </tr>\n    <tr>\n      <th>258</th>\n      <td>2.409842</td>\n      <td>1.168136</td>\n      <td>17.745193</td>\n      <td>2.728976</td>\n    </tr>\n    <tr>\n      <th>259</th>\n      <td>2.305753</td>\n      <td>1.151089</td>\n      <td>19.857834</td>\n      <td>3.021538</td>\n    </tr>\n  </tbody>\n</table>\n<p>260 rows × 4 columns</p>\n</div>"
     },
     "metadata": {},
     "output_type": "display_data"
    }
   ]
  },
  {
   "cell_type": "code",
   "source": [
    "print(\"min( val_mae ) : {:.4f}\".format( min(history.history[\"val_mae\"]) ) )"
   ],
   "metadata": {
    "colab": {
     "base_uri": "https://localhost:8080/"
    },
    "id": "q3CC28B16UHT",
    "executionInfo": {
     "status": "ok",
     "timestamp": 1687200731976,
     "user_tz": -120,
     "elapsed": 404,
     "user": {
      "displayName": "Walid Kheriji",
      "userId": "17231722363260848260"
     }
    },
    "outputId": "828a3a7f-520a-4bea-8dbc-6bb544a81c26",
    "ExecuteTime": {
     "end_time": "2024-01-26T15:07:14.127850Z",
     "start_time": "2024-01-26T15:07:14.125968Z"
    }
   },
   "execution_count": 442,
   "outputs": [
    {
     "name": "stdout",
     "output_type": "stream",
     "text": [
      "min( val_mae ) : 2.6197\n"
     ]
    }
   ]
  },
  {
   "cell_type": "code",
   "source": [
    "history.history.keys()"
   ],
   "metadata": {
    "colab": {
     "base_uri": "https://localhost:8080/"
    },
    "id": "2Ps1brPN6xEh",
    "executionInfo": {
     "status": "ok",
     "timestamp": 1687200734865,
     "user_tz": -120,
     "elapsed": 575,
     "user": {
      "displayName": "Walid Kheriji",
      "userId": "17231722363260848260"
     }
    },
    "outputId": "2c6bf989-0887-4bc4-9374-f18ce9fae8b0",
    "ExecuteTime": {
     "end_time": "2024-01-26T15:07:14.129495Z",
     "start_time": "2024-01-26T15:07:14.127859Z"
    }
   },
   "execution_count": 443,
   "outputs": [
    {
     "data": {
      "text/plain": "dict_keys(['loss', 'mae', 'val_loss', 'val_mae'])"
     },
     "execution_count": 443,
     "metadata": {},
     "output_type": "execute_result"
    }
   ]
  },
  {
   "cell_type": "code",
   "source": [
    "\n",
    "plt.plot(history.history['loss'],linestyle='--', marker='+', label='train' )\n",
    "plt.plot(history.history['val_loss'],linestyle='--', marker='o', label='test')\n",
    "plt.title('LOSS', pad=-50)\n",
    "plt.legend()\n",
    "#plt.title('lrate='+str(lrate), pad=-50)\n",
    "\n"
   ],
   "metadata": {
    "id": "2V_QxA_-6XQ2",
    "ExecuteTime": {
     "end_time": "2024-01-26T15:07:14.212766Z",
     "start_time": "2024-01-26T15:07:14.132709Z"
    }
   },
   "execution_count": 444,
   "outputs": [
    {
     "data": {
      "text/plain": "<matplotlib.legend.Legend at 0x2d59e1190>"
     },
     "execution_count": 444,
     "metadata": {},
     "output_type": "execute_result"
    },
    {
     "data": {
      "text/plain": "<Figure size 640x480 with 1 Axes>",
      "image/png": "[encoded data removed]"
     },
     "metadata": {},
     "output_type": "display_data"
    }
   ]
  },
  {
   "cell_type": "code",
   "source": [
    "plt.plot(history.history['mae'],linestyle='--', marker='+', label='train' )\n",
    "plt.plot(history.history['val_mae'],linestyle='--', marker='o', label='test')\n",
    "plt.title('MAE', pad=-50)\n",
    "plt.legend()"
   ],
   "metadata": {
    "id": "DPlUFKOy77Cr",
    "ExecuteTime": {
     "end_time": "2024-01-26T15:07:14.277Z",
     "start_time": "2024-01-26T15:07:14.200440Z"
    }
   },
   "execution_count": 445,
   "outputs": [
    {
     "data": {
      "text/plain": "<matplotlib.legend.Legend at 0x287f3fdd0>"
     },
     "execution_count": 445,
     "metadata": {},
     "output_type": "execute_result"
    },
    {
     "data": {
      "text/plain": "<Figure size 640x480 with 1 Axes>",
      "image/png": "[encoded data removed]"
     },
     "metadata": {},
     "output_type": "display_data"
    }
   ]
  },
  {
   "cell_type": "markdown",
   "source": [
    "## Exe 9: Model Prediction\n",
    "\n",
    "Use the trained neural network model, to predict the price of a given house and compare the result with the ground truth"
   ],
   "metadata": {
    "id": "4tuYScCT8Rah"
   }
  },
  {
   "cell_type": "code",
   "source": [
    "\n",
    "\n",
    "my_house = [ 1.26425925, -0.48522739,  1.0436489 , -0.23112788,  1.37120745,\n",
    "       -2.14308942,  1.13489104, -1.06802005,  1.71189006,  1.57042287,\n",
    "        0.77859951,  0.14769795,  2.7585581 ]\n",
    "real_price = 10.4\n"
   ],
   "metadata": {
    "id": "fiRxcz2m8Ybg",
    "ExecuteTime": {
     "end_time": "2024-01-26T15:07:14.277874Z",
     "start_time": "2024-01-26T15:07:14.265036Z"
    }
   },
   "execution_count": 446,
   "outputs": []
  },
  {
   "cell_type": "code",
   "source": [
    "\n",
    "\n",
    "predictions = model.predict(np.array([my_house]))\n",
    "print(\"Prediction : {:.2f} K$\".format(predictions[0][0]))\n",
    "print(\"Reality    : {:.2f} K$\".format(real_price))\n",
    "print(\"Difference      : {:.2f} K$\".format(predictions[0][0]-real_price))\n",
    "\n"
   ],
   "metadata": {
    "id": "5REqbpBf8cF_",
    "ExecuteTime": {
     "end_time": "2024-01-26T15:07:14.316377Z",
     "start_time": "2024-01-26T15:07:14.267545Z"
    }
   },
   "execution_count": 447,
   "outputs": [
    {
     "name": "stdout",
     "output_type": "stream",
     "text": [
      "1/1 [==============================] - 0s 15ms/step\n",
      "Prediction : 10.19 K$\n",
      "Reality    : 10.40 K$\n",
      "Difference      : -0.21 K$\n"
     ]
    }
   ]
  },
  {
   "cell_type": "markdown",
   "source": [
    "## Exe 10 Early stoping\n",
    "\n",
    "Create a neural network with the following specifications:\n",
    "\n",
    "* Number of hidden layers: 2\n",
    "* Number of units in each hidden layer: 64\n",
    "* Activation function for the hidden layers: ReLU\n",
    "* Output layer: Single unit with no activation function (for linear output)\n",
    "* Loss function: Mean Squared Error (MSE)\n",
    "* Additional metric to monitor during training: Mean Absolute Error (MAE)\n",
    "* Optimizer: 'rmsprop'\n",
    "* Apply dropout after each hidden layer with a dropout rate of 0.5 (50% of nodes dropped randomly for the following layer)\n",
    "* Minibatch size: 100\n",
    "* Use early stopping for fitting the model with patience=20 and epochs = 300\n",
    "* Save the best model as 'model_best'\n",
    "* Evaluate the saved model on the test data"
   ],
   "metadata": {
    "id": "Al8LGaguGbFw"
   }
  },
  {
   "cell_type": "code",
   "outputs": [],
   "source": [
    "from keras.callbacks import ModelCheckpoint\n",
    "from keras.callbacks import EarlyStopping\n",
    "from keras.models import load_model\n",
    "from tensorflow.keras.layers import Dense, Dropout, Input\n",
    "from tensorflow.keras.callbacks import EarlyStopping, ModelCheckpoint\n",
    "from tensorflow.keras.models import Sequential"
   ],
   "metadata": {
    "collapsed": false,
    "ExecuteTime": {
     "end_time": "2024-01-26T15:07:14.317175Z",
     "start_time": "2024-01-26T15:07:14.298647Z"
    }
   },
   "execution_count": 448
  },
  {
   "cell_type": "code",
   "outputs": [
    {
     "name": "stdout",
     "output_type": "stream",
     "text": [
      "Epoch 1/300\n",
      "4/4 [==============================] - 0s 18ms/step - loss: 619.9896 - mae: 23.0487 - val_loss: 553.9959 - val_mae: 22.0453\n",
      "Epoch 2/300\n",
      "4/4 [==============================] - 0s 5ms/step - loss: 587.5988 - mae: 22.3198 - val_loss: 530.9467 - val_mae: 21.4987\n",
      "Epoch 3/300\n",
      "4/4 [==============================] - 0s 5ms/step - loss: 561.2076 - mae: 21.7368 - val_loss: 509.1856 - val_mae: 20.9774\n",
      "Epoch 4/300\n",
      "4/4 [==============================] - 0s 5ms/step - loss: 538.8339 - mae: 21.2141 - val_loss: 486.4013 - val_mae: 20.4253\n",
      "Epoch 5/300\n",
      "4/4 [==============================] - 0s 5ms/step - loss: 515.1172 - mae: 20.6531 - val_loss: 463.0847 - val_mae: 19.8489\n",
      "Epoch 6/300\n",
      "4/4 [==============================] - 0s 5ms/step - loss: 488.6447 - mae: 20.0905 - val_loss: 438.9742 - val_mae: 19.2433\n",
      "Epoch 7/300\n",
      "4/4 [==============================] - 0s 5ms/step - loss: 460.2166 - mae: 19.4121 - val_loss: 412.8476 - val_mae: 18.5725\n",
      "Epoch 8/300\n",
      "4/4 [==============================] - 0s 5ms/step - loss: 439.6064 - mae: 18.7792 - val_loss: 385.6414 - val_mae: 17.8539\n",
      "Epoch 9/300\n",
      "4/4 [==============================] - 0s 5ms/step - loss: 413.4239 - mae: 18.1647 - val_loss: 358.6701 - val_mae: 17.1123\n",
      "Epoch 10/300\n",
      "4/4 [==============================] - 0s 5ms/step - loss: 371.7728 - mae: 17.0507 - val_loss: 329.7505 - val_mae: 16.3057\n",
      "Epoch 11/300\n",
      "4/4 [==============================] - 0s 5ms/step - loss: 346.7143 - mae: 16.3055 - val_loss: 300.1790 - val_mae: 15.4579\n",
      "Epoch 12/300\n",
      "4/4 [==============================] - 0s 5ms/step - loss: 327.1341 - mae: 15.7591 - val_loss: 271.6745 - val_mae: 14.6053\n",
      "Epoch 13/300\n",
      "4/4 [==============================] - 0s 5ms/step - loss: 290.0021 - mae: 14.6467 - val_loss: 244.1450 - val_mae: 13.7506\n",
      "Epoch 14/300\n",
      "4/4 [==============================] - 0s 5ms/step - loss: 272.9779 - mae: 13.9984 - val_loss: 218.2473 - val_mae: 12.8876\n",
      "Epoch 15/300\n",
      "4/4 [==============================] - 0s 5ms/step - loss: 233.0468 - mae: 12.9046 - val_loss: 192.2161 - val_mae: 11.9790\n",
      "Epoch 16/300\n",
      "4/4 [==============================] - 0s 5ms/step - loss: 206.3591 - mae: 11.9278 - val_loss: 169.3688 - val_mae: 11.1248\n",
      "Epoch 17/300\n",
      "4/4 [==============================] - 0s 5ms/step - loss: 181.1927 - mae: 11.0301 - val_loss: 148.1640 - val_mae: 10.2851\n",
      "Epoch 18/300\n",
      "4/4 [==============================] - 0s 5ms/step - loss: 181.2857 - mae: 10.9496 - val_loss: 130.4187 - val_mae: 9.5330\n",
      "Epoch 19/300\n",
      "4/4 [==============================] - 0s 5ms/step - loss: 148.4335 - mae: 9.6563 - val_loss: 113.4928 - val_mae: 8.7770\n",
      "Epoch 20/300\n",
      "4/4 [==============================] - 0s 4ms/step - loss: 147.0613 - mae: 9.6758 - val_loss: 100.4297 - val_mae: 8.1368\n",
      "Epoch 21/300\n",
      "4/4 [==============================] - 0s 5ms/step - loss: 125.3203 - mae: 8.8390 - val_loss: 89.2737 - val_mae: 7.5658\n",
      "Epoch 22/300\n",
      "4/4 [==============================] - 0s 5ms/step - loss: 118.6827 - mae: 8.7185 - val_loss: 80.3155 - val_mae: 7.1125\n",
      "Epoch 23/300\n",
      "4/4 [==============================] - 0s 5ms/step - loss: 108.4114 - mae: 8.2555 - val_loss: 71.7688 - val_mae: 6.6457\n",
      "Epoch 24/300\n",
      "4/4 [==============================] - 0s 5ms/step - loss: 100.1834 - mae: 7.9675 - val_loss: 64.9183 - val_mae: 6.2557\n",
      "Epoch 25/300\n",
      "4/4 [==============================] - 0s 5ms/step - loss: 101.0263 - mae: 8.0111 - val_loss: 59.9931 - val_mae: 5.9576\n",
      "Epoch 26/300\n",
      "4/4 [==============================] - 0s 5ms/step - loss: 103.7654 - mae: 7.8208 - val_loss: 57.5672 - val_mae: 5.8117\n",
      "Epoch 27/300\n",
      "4/4 [==============================] - 0s 5ms/step - loss: 95.3055 - mae: 7.5359 - val_loss: 54.7787 - val_mae: 5.6518\n",
      "Epoch 28/300\n",
      "4/4 [==============================] - 0s 5ms/step - loss: 93.9860 - mae: 7.4897 - val_loss: 50.8403 - val_mae: 5.3927\n",
      "Epoch 29/300\n",
      "4/4 [==============================] - 0s 5ms/step - loss: 76.2302 - mae: 6.5524 - val_loss: 48.2932 - val_mae: 5.2192\n",
      "Epoch 30/300\n",
      "4/4 [==============================] - 0s 5ms/step - loss: 85.6398 - mae: 7.2070 - val_loss: 44.9545 - val_mae: 4.9694\n",
      "Epoch 31/300\n",
      "4/4 [==============================] - 0s 5ms/step - loss: 81.2915 - mae: 7.0520 - val_loss: 42.1904 - val_mae: 4.7053\n",
      "Epoch 32/300\n",
      "4/4 [==============================] - 0s 5ms/step - loss: 74.2749 - mae: 6.8425 - val_loss: 41.3098 - val_mae: 4.6262\n",
      "Epoch 33/300\n",
      "4/4 [==============================] - 0s 5ms/step - loss: 70.8165 - mae: 6.5511 - val_loss: 38.9261 - val_mae: 4.4398\n",
      "Epoch 34/300\n",
      "4/4 [==============================] - 0s 5ms/step - loss: 67.8642 - mae: 6.3920 - val_loss: 38.3196 - val_mae: 4.3968\n",
      "Epoch 35/300\n",
      "4/4 [==============================] - 0s 5ms/step - loss: 68.1686 - mae: 6.4652 - val_loss: 37.7907 - val_mae: 4.3020\n",
      "Epoch 36/300\n",
      "4/4 [==============================] - 0s 3ms/step - loss: 77.2220 - mae: 6.6471 - val_loss: 37.9590 - val_mae: 4.3273\n",
      "Epoch 37/300\n",
      "4/4 [==============================] - 0s 5ms/step - loss: 61.7366 - mae: 5.9111 - val_loss: 36.2793 - val_mae: 4.1798\n",
      "Epoch 38/300\n",
      "4/4 [==============================] - 0s 5ms/step - loss: 64.1163 - mae: 6.3163 - val_loss: 35.2432 - val_mae: 4.0918\n",
      "Epoch 39/300\n",
      "4/4 [==============================] - 0s 5ms/step - loss: 61.3659 - mae: 5.9204 - val_loss: 33.2635 - val_mae: 3.9518\n",
      "Epoch 40/300\n",
      "4/4 [==============================] - 0s 5ms/step - loss: 56.2796 - mae: 5.9328 - val_loss: 32.8846 - val_mae: 3.9187\n",
      "Epoch 41/300\n",
      "4/4 [==============================] - 0s 3ms/step - loss: 51.9516 - mae: 5.6699 - val_loss: 33.4095 - val_mae: 3.9334\n",
      "Epoch 42/300\n",
      "4/4 [==============================] - 0s 3ms/step - loss: 61.5691 - mae: 6.0482 - val_loss: 32.9336 - val_mae: 3.8739\n",
      "Epoch 43/300\n",
      "4/4 [==============================] - 0s 3ms/step - loss: 55.6283 - mae: 5.8107 - val_loss: 33.6129 - val_mae: 3.9237\n",
      "Epoch 44/300\n",
      "4/4 [==============================] - 0s 5ms/step - loss: 53.2018 - mae: 5.5173 - val_loss: 32.1136 - val_mae: 3.7891\n",
      "Epoch 45/300\n",
      "4/4 [==============================] - 0s 4ms/step - loss: 52.7780 - mae: 5.6555 - val_loss: 31.5274 - val_mae: 3.7474\n",
      "Epoch 46/300\n",
      "4/4 [==============================] - 0s 3ms/step - loss: 53.9133 - mae: 5.6206 - val_loss: 32.0051 - val_mae: 3.8073\n",
      "Epoch 47/300\n",
      "4/4 [==============================] - 0s 5ms/step - loss: 49.3755 - mae: 5.4283 - val_loss: 30.5332 - val_mae: 3.6430\n",
      "Epoch 48/300\n",
      "4/4 [==============================] - 0s 3ms/step - loss: 50.8710 - mae: 5.4740 - val_loss: 30.5384 - val_mae: 3.6210\n",
      "Epoch 49/300\n",
      "4/4 [==============================] - 0s 5ms/step - loss: 54.1452 - mae: 5.6069 - val_loss: 29.2832 - val_mae: 3.5396\n",
      "Epoch 50/300\n",
      "4/4 [==============================] - 0s 5ms/step - loss: 49.8371 - mae: 5.4655 - val_loss: 29.2698 - val_mae: 3.5214\n",
      "Epoch 51/300\n",
      "4/4 [==============================] - 0s 5ms/step - loss: 56.7807 - mae: 5.6793 - val_loss: 29.0229 - val_mae: 3.5139\n",
      "Epoch 52/300\n",
      "4/4 [==============================] - 0s 5ms/step - loss: 52.7060 - mae: 5.4891 - val_loss: 28.4793 - val_mae: 3.4825\n",
      "Epoch 53/300\n",
      "4/4 [==============================] - 0s 3ms/step - loss: 57.3323 - mae: 5.7187 - val_loss: 29.2150 - val_mae: 3.5093\n",
      "Epoch 54/300\n",
      "4/4 [==============================] - 0s 3ms/step - loss: 47.1285 - mae: 5.2509 - val_loss: 28.6485 - val_mae: 3.4823\n",
      "Epoch 55/300\n",
      "4/4 [==============================] - 0s 4ms/step - loss: 58.5268 - mae: 5.6445 - val_loss: 28.2410 - val_mae: 3.4454\n",
      "Epoch 56/300\n",
      "4/4 [==============================] - 0s 3ms/step - loss: 49.6098 - mae: 5.4528 - val_loss: 30.0814 - val_mae: 3.5941\n",
      "Epoch 57/300\n",
      "4/4 [==============================] - 0s 3ms/step - loss: 51.7474 - mae: 5.5273 - val_loss: 28.5975 - val_mae: 3.4461\n",
      "Epoch 58/300\n",
      "4/4 [==============================] - 0s 4ms/step - loss: 49.5630 - mae: 5.4440 - val_loss: 27.6710 - val_mae: 3.3841\n",
      "Epoch 59/300\n",
      "4/4 [==============================] - 0s 5ms/step - loss: 46.5910 - mae: 5.1804 - val_loss: 27.6508 - val_mae: 3.3675\n",
      "Epoch 60/300\n",
      "4/4 [==============================] - 0s 5ms/step - loss: 50.1053 - mae: 5.2848 - val_loss: 27.5652 - val_mae: 3.3679\n",
      "Epoch 61/300\n",
      "4/4 [==============================] - 0s 3ms/step - loss: 46.7632 - mae: 5.2722 - val_loss: 27.6103 - val_mae: 3.3676\n",
      "Epoch 62/300\n",
      "4/4 [==============================] - 0s 5ms/step - loss: 49.7999 - mae: 5.4200 - val_loss: 26.8591 - val_mae: 3.3265\n",
      "Epoch 63/300\n",
      "4/4 [==============================] - 0s 3ms/step - loss: 43.8204 - mae: 5.0881 - val_loss: 27.7591 - val_mae: 3.4109\n",
      "Epoch 64/300\n",
      "4/4 [==============================] - 0s 5ms/step - loss: 54.3299 - mae: 5.4267 - val_loss: 26.4209 - val_mae: 3.2801\n",
      "Epoch 65/300\n",
      "4/4 [==============================] - 0s 4ms/step - loss: 48.1811 - mae: 5.1728 - val_loss: 26.1544 - val_mae: 3.2534\n",
      "Epoch 66/300\n",
      "4/4 [==============================] - 0s 3ms/step - loss: 49.3520 - mae: 5.4574 - val_loss: 26.6980 - val_mae: 3.2844\n",
      "Epoch 67/300\n",
      "4/4 [==============================] - 0s 5ms/step - loss: 50.3868 - mae: 5.1855 - val_loss: 25.5572 - val_mae: 3.2147\n",
      "Epoch 68/300\n",
      "4/4 [==============================] - 0s 3ms/step - loss: 43.4498 - mae: 5.1347 - val_loss: 25.7441 - val_mae: 3.2307\n",
      "Epoch 69/300\n",
      "4/4 [==============================] - 0s 3ms/step - loss: 53.0328 - mae: 5.4212 - val_loss: 25.9424 - val_mae: 3.2483\n",
      "Epoch 70/300\n",
      "4/4 [==============================] - 0s 3ms/step - loss: 52.5789 - mae: 5.4439 - val_loss: 26.0509 - val_mae: 3.2613\n",
      "Epoch 71/300\n",
      "4/4 [==============================] - 0s 3ms/step - loss: 48.6070 - mae: 5.3130 - val_loss: 26.0234 - val_mae: 3.2663\n",
      "Epoch 72/300\n",
      "4/4 [==============================] - 0s 3ms/step - loss: 49.2828 - mae: 5.2946 - val_loss: 25.6400 - val_mae: 3.2680\n",
      "Epoch 73/300\n",
      "4/4 [==============================] - 0s 5ms/step - loss: 41.9403 - mae: 4.9148 - val_loss: 25.1389 - val_mae: 3.3191\n",
      "Epoch 74/300\n",
      "4/4 [==============================] - 0s 3ms/step - loss: 46.9506 - mae: 5.0927 - val_loss: 25.2408 - val_mae: 3.2039\n",
      "Epoch 75/300\n",
      "4/4 [==============================] - 0s 3ms/step - loss: 46.6840 - mae: 5.2768 - val_loss: 25.9209 - val_mae: 3.2418\n",
      "Epoch 76/300\n",
      "4/4 [==============================] - 0s 3ms/step - loss: 47.6813 - mae: 5.2299 - val_loss: 25.2831 - val_mae: 3.1686\n",
      "Epoch 77/300\n",
      "4/4 [==============================] - 0s 3ms/step - loss: 45.3717 - mae: 5.2093 - val_loss: 25.7010 - val_mae: 3.1914\n",
      "Epoch 78/300\n",
      "4/4 [==============================] - 0s 3ms/step - loss: 49.7309 - mae: 5.4499 - val_loss: 26.8424 - val_mae: 3.3338\n",
      "Epoch 79/300\n",
      "4/4 [==============================] - 0s 3ms/step - loss: 40.9134 - mae: 4.8710 - val_loss: 26.0358 - val_mae: 3.2346\n",
      "Epoch 80/300\n",
      "4/4 [==============================] - 0s 3ms/step - loss: 47.0379 - mae: 5.0749 - val_loss: 26.5779 - val_mae: 3.3186\n",
      "Epoch 81/300\n",
      "4/4 [==============================] - 0s 3ms/step - loss: 44.7424 - mae: 5.0411 - val_loss: 25.5365 - val_mae: 3.2200\n",
      "Epoch 82/300\n",
      "4/4 [==============================] - 0s 5ms/step - loss: 48.3214 - mae: 5.2020 - val_loss: 24.2460 - val_mae: 3.1242\n",
      "Epoch 83/300\n",
      "4/4 [==============================] - 0s 5ms/step - loss: 45.9468 - mae: 5.1050 - val_loss: 24.1634 - val_mae: 3.1011\n",
      "Epoch 84/300\n",
      "4/4 [==============================] - 0s 5ms/step - loss: 46.0897 - mae: 4.9526 - val_loss: 24.1107 - val_mae: 3.1154\n",
      "Epoch 85/300\n",
      "4/4 [==============================] - 0s 3ms/step - loss: 43.9789 - mae: 5.0095 - val_loss: 24.8355 - val_mae: 3.2036\n",
      "Epoch 86/300\n",
      "4/4 [==============================] - 0s 5ms/step - loss: 48.8983 - mae: 5.3776 - val_loss: 23.7469 - val_mae: 3.0880\n",
      "Epoch 87/300\n",
      "4/4 [==============================] - 0s 3ms/step - loss: 52.5312 - mae: 5.4578 - val_loss: 24.2116 - val_mae: 3.1406\n",
      "Epoch 88/300\n",
      "4/4 [==============================] - 0s 3ms/step - loss: 39.7223 - mae: 4.7149 - val_loss: 24.1961 - val_mae: 3.1239\n",
      "Epoch 89/300\n",
      "4/4 [==============================] - 0s 3ms/step - loss: 48.4184 - mae: 5.0194 - val_loss: 23.9286 - val_mae: 3.1085\n",
      "Epoch 90/300\n",
      "4/4 [==============================] - 0s 3ms/step - loss: 39.4946 - mae: 4.7246 - val_loss: 24.2998 - val_mae: 3.1269\n",
      "Epoch 91/300\n",
      "4/4 [==============================] - 0s 3ms/step - loss: 45.6519 - mae: 5.1680 - val_loss: 23.8442 - val_mae: 3.0788\n",
      "Epoch 92/300\n",
      "4/4 [==============================] - 0s 5ms/step - loss: 45.3442 - mae: 4.9141 - val_loss: 23.1321 - val_mae: 3.0290\n",
      "Epoch 93/300\n",
      "4/4 [==============================] - 0s 3ms/step - loss: 43.4123 - mae: 4.8380 - val_loss: 24.2514 - val_mae: 3.1395\n",
      "Epoch 94/300\n",
      "4/4 [==============================] - 0s 3ms/step - loss: 42.1354 - mae: 4.9424 - val_loss: 24.1383 - val_mae: 3.1025\n",
      "Epoch 95/300\n",
      "4/4 [==============================] - 0s 3ms/step - loss: 46.3370 - mae: 5.2082 - val_loss: 23.4183 - val_mae: 3.0534\n",
      "Epoch 96/300\n",
      "4/4 [==============================] - 0s 3ms/step - loss: 46.1314 - mae: 5.0890 - val_loss: 23.9608 - val_mae: 3.0828\n",
      "Epoch 97/300\n",
      "4/4 [==============================] - 0s 3ms/step - loss: 41.9399 - mae: 4.9960 - val_loss: 23.8172 - val_mae: 3.0717\n",
      "Epoch 98/300\n",
      "4/4 [==============================] - 0s 3ms/step - loss: 37.0968 - mae: 4.6715 - val_loss: 23.3323 - val_mae: 3.0228\n",
      "Epoch 99/300\n",
      "4/4 [==============================] - 0s 3ms/step - loss: 44.7288 - mae: 5.0087 - val_loss: 24.5158 - val_mae: 3.1151\n",
      "Epoch 100/300\n",
      "4/4 [==============================] - 0s 3ms/step - loss: 43.5851 - mae: 4.9184 - val_loss: 24.4526 - val_mae: 3.1130\n",
      "Epoch 101/300\n",
      "4/4 [==============================] - 0s 3ms/step - loss: 46.5409 - mae: 5.2158 - val_loss: 25.1011 - val_mae: 3.1991\n",
      "Epoch 102/300\n",
      "4/4 [==============================] - 0s 3ms/step - loss: 48.2141 - mae: 5.1170 - val_loss: 23.7110 - val_mae: 3.0703\n",
      "Epoch 103/300\n",
      "4/4 [==============================] - 0s 3ms/step - loss: 45.5431 - mae: 5.1915 - val_loss: 25.2993 - val_mae: 3.2459\n",
      "Epoch 104/300\n",
      "4/4 [==============================] - 0s 3ms/step - loss: 45.6686 - mae: 5.0216 - val_loss: 24.5044 - val_mae: 3.1578\n",
      "Epoch 105/300\n",
      "4/4 [==============================] - 0s 3ms/step - loss: 40.2645 - mae: 4.6846 - val_loss: 23.1935 - val_mae: 3.0327\n",
      "Epoch 106/300\n",
      "4/4 [==============================] - 0s 3ms/step - loss: 34.2809 - mae: 4.4961 - val_loss: 23.5164 - val_mae: 3.0824\n",
      "Epoch 107/300\n",
      "4/4 [==============================] - 0s 3ms/step - loss: 45.5059 - mae: 5.1216 - val_loss: 24.2686 - val_mae: 3.1695\n",
      "Epoch 108/300\n",
      "4/4 [==============================] - 0s 3ms/step - loss: 41.5047 - mae: 4.7752 - val_loss: 24.6536 - val_mae: 3.1899\n",
      "Epoch 109/300\n",
      "4/4 [==============================] - 0s 5ms/step - loss: 43.3872 - mae: 4.8871 - val_loss: 22.9120 - val_mae: 3.0066\n",
      "Epoch 110/300\n",
      "4/4 [==============================] - 0s 3ms/step - loss: 42.4838 - mae: 4.8494 - val_loss: 23.3312 - val_mae: 3.0471\n",
      "Epoch 111/300\n",
      "4/4 [==============================] - 0s 3ms/step - loss: 42.9597 - mae: 4.9305 - val_loss: 23.5208 - val_mae: 3.0621\n",
      "Epoch 112/300\n",
      "4/4 [==============================] - 0s 3ms/step - loss: 38.4141 - mae: 4.8566 - val_loss: 23.2681 - val_mae: 3.0590\n",
      "Epoch 113/300\n",
      "4/4 [==============================] - 0s 3ms/step - loss: 47.5016 - mae: 5.0271 - val_loss: 24.1306 - val_mae: 3.1315\n",
      "Epoch 114/300\n",
      "4/4 [==============================] - 0s 3ms/step - loss: 44.7670 - mae: 4.9590 - val_loss: 23.6990 - val_mae: 3.0987\n",
      "Epoch 115/300\n",
      "4/4 [==============================] - 0s 3ms/step - loss: 37.8090 - mae: 4.5697 - val_loss: 23.0819 - val_mae: 3.0155\n",
      "Epoch 116/300\n",
      "4/4 [==============================] - 0s 3ms/step - loss: 39.5557 - mae: 4.7023 - val_loss: 23.9517 - val_mae: 3.1316\n",
      "Epoch 117/300\n",
      "4/4 [==============================] - 0s 3ms/step - loss: 35.4839 - mae: 4.5175 - val_loss: 23.8216 - val_mae: 3.1125\n",
      "Epoch 118/300\n",
      "4/4 [==============================] - 0s 3ms/step - loss: 42.3877 - mae: 4.8599 - val_loss: 24.6521 - val_mae: 3.2222\n",
      "Epoch 119/300\n",
      "4/4 [==============================] - 0s 3ms/step - loss: 45.4178 - mae: 5.0974 - val_loss: 23.0676 - val_mae: 3.0419\n",
      "Epoch 120/300\n",
      "4/4 [==============================] - 0s 3ms/step - loss: 37.5551 - mae: 4.7749 - val_loss: 23.4853 - val_mae: 3.0668\n",
      "Epoch 121/300\n",
      "4/4 [==============================] - 0s 3ms/step - loss: 39.3419 - mae: 4.8261 - val_loss: 23.0318 - val_mae: 3.0004\n",
      "Epoch 122/300\n",
      "4/4 [==============================] - 0s 3ms/step - loss: 41.2989 - mae: 4.6988 - val_loss: 23.6385 - val_mae: 3.0924\n",
      "Epoch 123/300\n",
      "4/4 [==============================] - 0s 3ms/step - loss: 37.5582 - mae: 4.6250 - val_loss: 23.4257 - val_mae: 3.0647\n",
      "Epoch 124/300\n",
      "4/4 [==============================] - 0s 3ms/step - loss: 41.0428 - mae: 4.9103 - val_loss: 23.2608 - val_mae: 3.0548\n",
      "Epoch 125/300\n",
      "4/4 [==============================] - 0s 5ms/step - loss: 38.9037 - mae: 4.5780 - val_loss: 22.8909 - val_mae: 3.0141\n",
      "Epoch 126/300\n",
      "4/4 [==============================] - 0s 3ms/step - loss: 44.6197 - mae: 4.9019 - val_loss: 22.9077 - val_mae: 2.9956\n",
      "Epoch 127/300\n",
      "4/4 [==============================] - 0s 3ms/step - loss: 34.9984 - mae: 4.5467 - val_loss: 23.5286 - val_mae: 3.0385\n",
      "Epoch 128/300\n",
      "4/4 [==============================] - 0s 3ms/step - loss: 49.4077 - mae: 5.0369 - val_loss: 23.5004 - val_mae: 3.0757\n",
      "Epoch 129/300\n",
      "4/4 [==============================] - 0s 3ms/step - loss: 47.3657 - mae: 4.9952 - val_loss: 23.5834 - val_mae: 3.0925\n",
      "Epoch 130/300\n",
      "4/4 [==============================] - 0s 3ms/step - loss: 35.6264 - mae: 4.6144 - val_loss: 23.3120 - val_mae: 3.0701\n",
      "Epoch 131/300\n",
      "4/4 [==============================] - 0s 5ms/step - loss: 37.4701 - mae: 4.7726 - val_loss: 22.4950 - val_mae: 2.9547\n",
      "Epoch 132/300\n",
      "4/4 [==============================] - 0s 3ms/step - loss: 38.0116 - mae: 4.5197 - val_loss: 22.6644 - val_mae: 2.9726\n",
      "Epoch 133/300\n",
      "4/4 [==============================] - 0s 3ms/step - loss: 39.3698 - mae: 4.8259 - val_loss: 22.9563 - val_mae: 3.0064\n",
      "Epoch 134/300\n",
      "4/4 [==============================] - 0s 3ms/step - loss: 36.2289 - mae: 4.5341 - val_loss: 22.8181 - val_mae: 3.0156\n",
      "Epoch 135/300\n",
      "4/4 [==============================] - 0s 3ms/step - loss: 40.1653 - mae: 4.8070 - val_loss: 22.8461 - val_mae: 3.0160\n",
      "Epoch 136/300\n",
      "4/4 [==============================] - 0s 3ms/step - loss: 42.7728 - mae: 4.9297 - val_loss: 22.5818 - val_mae: 2.9786\n",
      "Epoch 137/300\n",
      "4/4 [==============================] - 0s 3ms/step - loss: 40.7622 - mae: 4.8033 - val_loss: 22.8369 - val_mae: 3.0035\n",
      "Epoch 138/300\n",
      "4/4 [==============================] - 0s 3ms/step - loss: 42.2503 - mae: 4.9082 - val_loss: 22.8209 - val_mae: 2.9887\n",
      "Epoch 139/300\n",
      "4/4 [==============================] - 0s 3ms/step - loss: 30.0981 - mae: 4.2417 - val_loss: 23.2836 - val_mae: 3.0642\n",
      "Epoch 140/300\n",
      "4/4 [==============================] - 0s 3ms/step - loss: 39.2352 - mae: 4.7912 - val_loss: 23.4827 - val_mae: 3.0891\n",
      "Epoch 141/300\n",
      "4/4 [==============================] - 0s 3ms/step - loss: 42.3039 - mae: 4.8089 - val_loss: 22.5051 - val_mae: 2.9591\n",
      "Epoch 142/300\n",
      "4/4 [==============================] - 0s 3ms/step - loss: 41.5750 - mae: 4.7880 - val_loss: 22.8715 - val_mae: 2.9834\n",
      "Epoch 143/300\n",
      "4/4 [==============================] - 0s 3ms/step - loss: 38.5114 - mae: 4.6092 - val_loss: 23.3137 - val_mae: 3.0400\n",
      "Epoch 144/300\n",
      "4/4 [==============================] - 0s 3ms/step - loss: 36.3108 - mae: 4.6077 - val_loss: 23.1773 - val_mae: 3.0239\n",
      "Epoch 145/300\n",
      "4/4 [==============================] - 0s 5ms/step - loss: 35.2426 - mae: 4.4519 - val_loss: 22.4469 - val_mae: 2.9427\n",
      "Epoch 146/300\n",
      "4/4 [==============================] - 0s 5ms/step - loss: 33.4030 - mae: 4.3165 - val_loss: 22.3782 - val_mae: 2.9599\n",
      "Epoch 147/300\n",
      "4/4 [==============================] - 0s 3ms/step - loss: 42.6255 - mae: 4.7753 - val_loss: 22.8870 - val_mae: 3.0390\n",
      "Epoch 148/300\n",
      "4/4 [==============================] - 0s 3ms/step - loss: 38.8157 - mae: 4.5978 - val_loss: 22.7746 - val_mae: 3.0271\n",
      "Epoch 149/300\n",
      "4/4 [==============================] - 0s 5ms/step - loss: 33.3563 - mae: 4.2594 - val_loss: 21.8944 - val_mae: 2.9435\n",
      "Epoch 150/300\n",
      "4/4 [==============================] - 0s 3ms/step - loss: 38.1566 - mae: 4.5731 - val_loss: 21.9877 - val_mae: 2.9267\n",
      "Epoch 151/300\n",
      "4/4 [==============================] - 0s 3ms/step - loss: 39.4396 - mae: 4.7206 - val_loss: 22.3972 - val_mae: 2.9641\n",
      "Epoch 152/300\n",
      "4/4 [==============================] - 0s 3ms/step - loss: 37.0630 - mae: 4.5303 - val_loss: 22.4096 - val_mae: 3.0138\n",
      "Epoch 153/300\n",
      "4/4 [==============================] - 0s 5ms/step - loss: 35.7002 - mae: 4.4806 - val_loss: 21.4951 - val_mae: 2.8798\n",
      "Epoch 154/300\n",
      "4/4 [==============================] - 0s 3ms/step - loss: 40.7482 - mae: 4.8566 - val_loss: 22.2416 - val_mae: 2.9462\n",
      "Epoch 155/300\n",
      "4/4 [==============================] - 0s 3ms/step - loss: 45.9280 - mae: 5.1149 - val_loss: 21.9771 - val_mae: 2.9075\n",
      "Epoch 156/300\n",
      "4/4 [==============================] - 0s 3ms/step - loss: 37.2360 - mae: 4.7045 - val_loss: 22.1141 - val_mae: 2.9204\n",
      "Epoch 157/300\n",
      "4/4 [==============================] - 0s 3ms/step - loss: 36.7844 - mae: 4.6436 - val_loss: 22.1219 - val_mae: 2.9007\n",
      "Epoch 158/300\n",
      "4/4 [==============================] - 0s 3ms/step - loss: 36.2746 - mae: 4.3654 - val_loss: 22.1753 - val_mae: 2.9164\n",
      "Epoch 159/300\n",
      "4/4 [==============================] - 0s 3ms/step - loss: 35.5546 - mae: 4.4123 - val_loss: 21.5251 - val_mae: 2.8515\n",
      "Epoch 160/300\n",
      "4/4 [==============================] - 0s 3ms/step - loss: 36.9565 - mae: 4.6970 - val_loss: 22.4586 - val_mae: 2.9536\n",
      "Epoch 161/300\n",
      "4/4 [==============================] - 0s 3ms/step - loss: 32.0402 - mae: 4.2425 - val_loss: 22.0064 - val_mae: 2.9198\n",
      "Epoch 162/300\n",
      "4/4 [==============================] - 0s 3ms/step - loss: 32.7850 - mae: 4.4440 - val_loss: 21.9329 - val_mae: 2.9070\n",
      "Epoch 163/300\n",
      "4/4 [==============================] - 0s 3ms/step - loss: 37.6917 - mae: 4.4152 - val_loss: 22.2281 - val_mae: 2.9656\n",
      "Epoch 164/300\n",
      "4/4 [==============================] - 0s 3ms/step - loss: 32.9631 - mae: 4.5275 - val_loss: 21.6569 - val_mae: 2.9128\n",
      "Epoch 165/300\n",
      "4/4 [==============================] - 0s 3ms/step - loss: 37.4909 - mae: 4.4611 - val_loss: 21.8262 - val_mae: 2.9266\n",
      "Epoch 166/300\n",
      "4/4 [==============================] - 0s 3ms/step - loss: 39.5839 - mae: 4.5836 - val_loss: 22.1049 - val_mae: 2.9607\n",
      "Epoch 167/300\n",
      "4/4 [==============================] - 0s 3ms/step - loss: 37.1322 - mae: 4.5635 - val_loss: 22.6391 - val_mae: 3.0416\n",
      "Epoch 168/300\n",
      "4/4 [==============================] - 0s 3ms/step - loss: 37.1184 - mae: 4.6719 - val_loss: 21.6573 - val_mae: 2.9206\n",
      "Epoch 169/300\n",
      "4/4 [==============================] - 0s 5ms/step - loss: 40.6243 - mae: 4.7594 - val_loss: 21.2635 - val_mae: 2.8895\n",
      "Epoch 170/300\n",
      "4/4 [==============================] - 0s 3ms/step - loss: 30.5050 - mae: 4.1900 - val_loss: 21.6248 - val_mae: 2.9185\n",
      "Epoch 171/300\n",
      "4/4 [==============================] - 0s 3ms/step - loss: 35.6560 - mae: 4.3457 - val_loss: 22.2017 - val_mae: 2.9709\n",
      "Epoch 172/300\n",
      "4/4 [==============================] - 0s 3ms/step - loss: 44.6611 - mae: 4.8176 - val_loss: 22.4740 - val_mae: 2.9758\n",
      "Epoch 173/300\n",
      "4/4 [==============================] - 0s 3ms/step - loss: 34.3913 - mae: 4.4000 - val_loss: 22.2884 - val_mae: 2.9472\n",
      "Epoch 174/300\n",
      "4/4 [==============================] - 0s 3ms/step - loss: 37.2225 - mae: 4.6619 - val_loss: 22.3323 - val_mae: 2.9725\n",
      "Epoch 175/300\n",
      "4/4 [==============================] - 0s 3ms/step - loss: 32.5160 - mae: 4.2988 - val_loss: 22.4922 - val_mae: 2.9855\n",
      "Epoch 176/300\n",
      "4/4 [==============================] - 0s 3ms/step - loss: 38.8779 - mae: 4.7509 - val_loss: 21.2691 - val_mae: 2.8391\n",
      "Epoch 177/300\n",
      "4/4 [==============================] - 0s 3ms/step - loss: 37.2712 - mae: 4.6493 - val_loss: 21.3262 - val_mae: 2.8345\n",
      "Epoch 178/300\n",
      "4/4 [==============================] - 0s 5ms/step - loss: 35.0419 - mae: 4.4943 - val_loss: 21.1769 - val_mae: 2.8332\n",
      "Epoch 179/300\n",
      "4/4 [==============================] - 0s 3ms/step - loss: 36.4403 - mae: 4.4571 - val_loss: 21.3657 - val_mae: 2.8749\n",
      "Epoch 180/300\n",
      "4/4 [==============================] - 0s 3ms/step - loss: 40.5747 - mae: 4.6599 - val_loss: 21.6111 - val_mae: 2.9099\n",
      "Epoch 181/300\n",
      "4/4 [==============================] - 0s 3ms/step - loss: 31.7222 - mae: 4.1192 - val_loss: 21.6635 - val_mae: 2.9291\n",
      "Epoch 182/300\n",
      "4/4 [==============================] - 0s 5ms/step - loss: 28.4702 - mae: 3.9770 - val_loss: 21.0843 - val_mae: 2.8582\n",
      "Epoch 183/300\n",
      "4/4 [==============================] - 0s 5ms/step - loss: 37.6428 - mae: 4.5849 - val_loss: 21.0512 - val_mae: 2.8668\n",
      "Epoch 184/300\n",
      "4/4 [==============================] - 0s 3ms/step - loss: 35.3565 - mae: 4.5066 - val_loss: 21.3824 - val_mae: 2.8904\n",
      "Epoch 185/300\n",
      "4/4 [==============================] - 0s 5ms/step - loss: 31.4745 - mae: 4.2516 - val_loss: 20.9038 - val_mae: 2.8413\n",
      "Epoch 186/300\n",
      "4/4 [==============================] - 0s 3ms/step - loss: 39.3120 - mae: 4.5824 - val_loss: 21.2218 - val_mae: 2.8430\n",
      "Epoch 187/300\n",
      "4/4 [==============================] - 0s 3ms/step - loss: 40.8300 - mae: 4.8027 - val_loss: 21.4928 - val_mae: 2.8780\n",
      "Epoch 188/300\n",
      "4/4 [==============================] - 0s 3ms/step - loss: 33.1343 - mae: 4.2160 - val_loss: 21.5619 - val_mae: 2.8800\n",
      "Epoch 189/300\n",
      "4/4 [==============================] - 0s 3ms/step - loss: 37.5516 - mae: 4.6207 - val_loss: 21.2956 - val_mae: 2.8390\n",
      "Epoch 190/300\n",
      "4/4 [==============================] - 0s 3ms/step - loss: 39.9493 - mae: 4.6436 - val_loss: 21.4974 - val_mae: 2.9005\n",
      "Epoch 191/300\n",
      "4/4 [==============================] - 0s 3ms/step - loss: 36.8188 - mae: 4.5213 - val_loss: 20.9779 - val_mae: 2.8069\n",
      "Epoch 192/300\n",
      "4/4 [==============================] - 0s 3ms/step - loss: 32.9775 - mae: 4.4628 - val_loss: 21.1927 - val_mae: 2.8549\n",
      "Epoch 193/300\n",
      "4/4 [==============================] - 0s 3ms/step - loss: 37.0756 - mae: 4.4549 - val_loss: 21.3793 - val_mae: 2.8873\n",
      "Epoch 194/300\n",
      "4/4 [==============================] - 0s 3ms/step - loss: 36.1810 - mae: 4.5696 - val_loss: 21.6311 - val_mae: 2.9129\n",
      "Epoch 195/300\n",
      "4/4 [==============================] - 0s 3ms/step - loss: 36.3186 - mae: 4.5026 - val_loss: 21.2785 - val_mae: 2.8753\n",
      "Epoch 196/300\n",
      "4/4 [==============================] - 0s 5ms/step - loss: 41.5544 - mae: 4.9116 - val_loss: 20.7596 - val_mae: 2.8199\n",
      "Epoch 197/300\n",
      "4/4 [==============================] - 0s 3ms/step - loss: 41.1084 - mae: 4.8594 - val_loss: 21.3976 - val_mae: 2.9078\n",
      "Epoch 198/300\n",
      "4/4 [==============================] - 0s 3ms/step - loss: 37.3069 - mae: 4.6774 - val_loss: 20.7855 - val_mae: 2.8340\n",
      "Epoch 199/300\n",
      "4/4 [==============================] - 0s 5ms/step - loss: 34.5934 - mae: 4.4066 - val_loss: 20.6105 - val_mae: 2.7993\n",
      "Epoch 200/300\n",
      "4/4 [==============================] - 0s 5ms/step - loss: 34.1515 - mae: 4.3946 - val_loss: 20.5240 - val_mae: 2.8198\n",
      "Epoch 201/300\n",
      "4/4 [==============================] - 0s 3ms/step - loss: 36.3985 - mae: 4.4290 - val_loss: 21.3141 - val_mae: 2.8968\n",
      "Epoch 202/300\n",
      "4/4 [==============================] - 0s 3ms/step - loss: 38.5216 - mae: 4.7386 - val_loss: 21.5017 - val_mae: 2.9355\n",
      "Epoch 203/300\n",
      "4/4 [==============================] - 0s 3ms/step - loss: 35.1562 - mae: 4.4273 - val_loss: 20.5889 - val_mae: 2.8501\n",
      "Epoch 204/300\n",
      "4/4 [==============================] - 0s 5ms/step - loss: 33.2684 - mae: 4.3825 - val_loss: 19.8660 - val_mae: 2.7467\n",
      "Epoch 205/300\n",
      "4/4 [==============================] - 0s 3ms/step - loss: 30.1483 - mae: 4.1432 - val_loss: 19.8940 - val_mae: 2.7378\n",
      "Epoch 206/300\n",
      "4/4 [==============================] - 0s 3ms/step - loss: 30.6215 - mae: 4.2083 - val_loss: 19.8788 - val_mae: 2.7170\n",
      "Epoch 207/300\n",
      "4/4 [==============================] - 0s 3ms/step - loss: 37.9096 - mae: 4.4885 - val_loss: 20.6283 - val_mae: 2.8422\n",
      "Epoch 208/300\n",
      "4/4 [==============================] - 0s 3ms/step - loss: 33.4257 - mae: 4.2619 - val_loss: 20.0470 - val_mae: 2.7714\n",
      "Epoch 209/300\n",
      "4/4 [==============================] - 0s 3ms/step - loss: 31.0468 - mae: 4.3932 - val_loss: 20.2340 - val_mae: 2.7768\n",
      "Epoch 210/300\n",
      "4/4 [==============================] - 0s 3ms/step - loss: 35.2271 - mae: 4.4387 - val_loss: 20.7606 - val_mae: 2.8356\n",
      "Epoch 211/300\n",
      "4/4 [==============================] - 0s 3ms/step - loss: 29.5760 - mae: 4.0083 - val_loss: 20.4238 - val_mae: 2.7865\n",
      "Epoch 212/300\n",
      "4/4 [==============================] - 0s 3ms/step - loss: 30.3193 - mae: 4.2135 - val_loss: 20.3803 - val_mae: 2.8058\n",
      "Epoch 213/300\n",
      "4/4 [==============================] - 0s 3ms/step - loss: 35.1898 - mae: 4.5311 - val_loss: 20.5454 - val_mae: 2.8358\n",
      "Epoch 214/300\n",
      "4/4 [==============================] - 0s 3ms/step - loss: 31.3567 - mae: 4.2671 - val_loss: 21.6147 - val_mae: 2.9467\n",
      "Epoch 215/300\n",
      "4/4 [==============================] - 0s 3ms/step - loss: 25.9046 - mae: 3.7581 - val_loss: 20.8756 - val_mae: 2.8455\n",
      "Epoch 216/300\n",
      "4/4 [==============================] - 0s 3ms/step - loss: 29.9681 - mae: 4.2024 - val_loss: 21.3584 - val_mae: 2.9148\n",
      "Epoch 217/300\n",
      "4/4 [==============================] - 0s 3ms/step - loss: 32.9718 - mae: 4.4151 - val_loss: 22.1801 - val_mae: 3.0185\n",
      "Epoch 218/300\n",
      "4/4 [==============================] - 0s 3ms/step - loss: 36.9441 - mae: 4.3834 - val_loss: 20.4286 - val_mae: 2.7655\n",
      "Epoch 219/300\n",
      "4/4 [==============================] - 0s 3ms/step - loss: 33.6238 - mae: 4.1674 - val_loss: 21.7349 - val_mae: 2.9519\n",
      "Epoch 220/300\n",
      "4/4 [==============================] - 0s 3ms/step - loss: 32.8563 - mae: 4.3325 - val_loss: 21.2431 - val_mae: 2.8822\n",
      "Epoch 221/300\n",
      "4/4 [==============================] - 0s 3ms/step - loss: 32.0352 - mae: 4.3405 - val_loss: 21.7638 - val_mae: 2.9570\n",
      "Epoch 222/300\n",
      "4/4 [==============================] - 0s 3ms/step - loss: 32.3875 - mae: 4.2572 - val_loss: 21.1743 - val_mae: 2.8524\n",
      "Epoch 223/300\n",
      "4/4 [==============================] - 0s 3ms/step - loss: 32.3728 - mae: 4.2071 - val_loss: 21.0026 - val_mae: 2.8681\n",
      "Epoch 224/300\n",
      "4/4 [==============================] - 0s 3ms/step - loss: 31.3504 - mae: 4.1324 - val_loss: 21.2786 - val_mae: 2.8985\n",
      "5/5 [==============================] - 0s 505us/step - loss: 19.8660 - mae: 2.7467\n",
      "Test Loss: 19.866029739379883\n",
      "Test MAE: 2.7467119693756104\n"
     ]
    }
   ],
   "source": [
    "# Define the model\n",
    "model = Sequential([\n",
    "    Input(shape=(13,)),\n",
    "    Dense(64, activation='relu'),  \n",
    "    Dropout(0.5),\n",
    "    Dense(64, activation='relu'),\n",
    "    Dropout(0.5),\n",
    "    Dense(1)\n",
    "])\n",
    "\n",
    "# Compile the model\n",
    "model.compile(optimizer='rmsprop', loss='mean_squared_error', metrics=['mae'])\n",
    "\n",
    "# Define the callbacks\n",
    "early_stopping = EarlyStopping(monitor='val_loss', patience=20)\n",
    "model_checkpoint = ModelCheckpoint('model_best.keras', monitor='val_loss', save_best_only=True)\n",
    "\n",
    "# Fit the model\n",
    "model.fit(x_train, y_train, validation_data=(x_test, y_test), epochs=300, batch_size=100, callbacks=[early_stopping, model_checkpoint])\n",
    "\n",
    "# Load the best model\n",
    "best_model = tf.keras.models.load_model('model_best.keras')\n",
    "\n",
    "# Evaluate the model\n",
    "test_loss, test_mae = best_model.evaluate(x_test, y_test)\n",
    "print('Test Loss: {}'.format(test_loss))\n",
    "print('Test MAE: {}'.format(test_mae))"
   ],
   "metadata": {
    "collapsed": false,
    "ExecuteTime": {
     "end_time": "2024-01-26T15:07:17.313544Z",
     "start_time": "2024-01-26T15:07:14.303784Z"
    }
   },
   "execution_count": 449
  },
  {
   "cell_type": "markdown",
   "source": [
    "# Classification with DNN"
   ],
   "metadata": {
    "id": "9ukmkExmVf2Y"
   }
  },
  {
   "cell_type": "markdown",
   "source": [
    "## Exe 1:  Import data\n",
    "\n",
    "Import the cifra10 data set. The CIFAR-10 dataset consists of 60000\n",
    "32 x 32 colour images in 10 classes, with 6000 images per class. There are\n",
    "50000 training images and 10000 test images: https://www.tensorflow.org/datasets/catalog/cifar10"
   ],
   "metadata": {
    "id": "ki33nGO6PBw4"
   }
  },
  {
   "cell_type": "code",
   "source": [
    "data = keras.datasets.cifar10\n",
    "cifar10_data = data.load_data ()"
   ],
   "metadata": {
    "colab": {
     "base_uri": "https://localhost:8080/"
    },
    "id": "TVAGkI_1PlxE",
    "executionInfo": {
     "status": "ok",
     "timestamp": 1687204837792,
     "user_tz": -120,
     "elapsed": 15713,
     "user": {
      "displayName": "Walid Kheriji",
      "userId": "17231722363260848260"
     }
    },
    "outputId": "a9a14d94-2649-4660-a68d-931b2d0f870c",
    "ExecuteTime": {
     "end_time": "2024-01-26T15:07:17.541634Z",
     "start_time": "2024-01-26T15:07:17.313648Z"
    }
   },
   "execution_count": 450,
   "outputs": []
  },
  {
   "cell_type": "markdown",
   "source": [
    "## Exe 2 :\n",
    "\n",
    "Before using a dataset, the datatype should be checked. Test *type(cifar10 data)*\n",
    "for verifying the variable type. *len(cifar10 data)* is another command for\n",
    "checking the data size."
   ],
   "metadata": {
    "id": "2Fs6Kfq3PpAF"
   }
  },
  {
   "cell_type": "code",
   "source": [
    "type(cifar10_data)"
   ],
   "metadata": {
    "colab": {
     "base_uri": "https://localhost:8080/"
    },
    "id": "zU7mG6kZQ__a",
    "executionInfo": {
     "status": "ok",
     "timestamp": 1687205187192,
     "user_tz": -120,
     "elapsed": 389,
     "user": {
      "displayName": "Walid Kheriji",
      "userId": "17231722363260848260"
     }
    },
    "outputId": "ebc115aa-8dde-48a3-f89c-3f63ce83447d",
    "ExecuteTime": {
     "end_time": "2024-01-26T15:07:17.543692Z",
     "start_time": "2024-01-26T15:07:17.541851Z"
    }
   },
   "execution_count": 451,
   "outputs": [
    {
     "data": {
      "text/plain": "tuple"
     },
     "execution_count": 451,
     "metadata": {},
     "output_type": "execute_result"
    }
   ]
  },
  {
   "cell_type": "code",
   "source": [
    "\n",
    "len(cifar10_data)"
   ],
   "metadata": {
    "colab": {
     "base_uri": "https://localhost:8080/"
    },
    "id": "rojeY8rwP82_",
    "executionInfo": {
     "status": "ok",
     "timestamp": 1687205190451,
     "user_tz": -120,
     "elapsed": 371,
     "user": {
      "displayName": "Walid Kheriji",
      "userId": "17231722363260848260"
     }
    },
    "outputId": "815a9939-b1f6-44df-caf5-d1b9fec63774",
    "ExecuteTime": {
     "end_time": "2024-01-26T15:07:17.545929Z",
     "start_time": "2024-01-26T15:07:17.543941Z"
    }
   },
   "execution_count": 452,
   "outputs": [
    {
     "data": {
      "text/plain": "2"
     },
     "execution_count": 452,
     "metadata": {},
     "output_type": "execute_result"
    }
   ]
  },
  {
   "cell_type": "markdown",
   "source": [
    "## Exe 3: Train and Test\n",
    "\n",
    "Load train and test images and labels with:"
   ],
   "metadata": {
    "id": "t5nwGMbpP9rF"
   }
  },
  {
   "cell_type": "code",
   "source": [
    "(train_images, train_labels),(test_images, test_labels) = cifar10_data"
   ],
   "metadata": {
    "id": "aHu03ewPTlHP",
    "ExecuteTime": {
     "end_time": "2024-01-26T15:07:17.547863Z",
     "start_time": "2024-01-26T15:07:17.545804Z"
    }
   },
   "execution_count": 453,
   "outputs": []
  },
  {
   "cell_type": "markdown",
   "source": [
    "## Exe 4:\n",
    "\n",
    "The images are 32 x 32 NumPy arrays, with pixel values ranging from 0\n",
    "to 255. You can check an example with:"
   ],
   "metadata": {
    "id": "Bs_zxmn8Tmml"
   }
  },
  {
   "cell_type": "code",
   "source": [
    "print ( train_images[0])\n",
    "print ( train_images[0].shape )"
   ],
   "metadata": {
    "id": "EF2nXJGYTqlE",
    "ExecuteTime": {
     "end_time": "2024-01-26T15:07:17.549792Z",
     "start_time": "2024-01-26T15:07:17.547582Z"
    }
   },
   "execution_count": 454,
   "outputs": [
    {
     "name": "stdout",
     "output_type": "stream",
     "text": [
      "[[[ 59  62  63]\n",
      "  [ 43  46  45]\n",
      "  [ 50  48  43]\n",
      "  ...\n",
      "  [158 132 108]\n",
      "  [152 125 102]\n",
      "  [148 124 103]]\n",
      "\n",
      " [[ 16  20  20]\n",
      "  [  0   0   0]\n",
      "  [ 18   8   0]\n",
      "  ...\n",
      "  [123  88  55]\n",
      "  [119  83  50]\n",
      "  [122  87  57]]\n",
      "\n",
      " [[ 25  24  21]\n",
      "  [ 16   7   0]\n",
      "  [ 49  27   8]\n",
      "  ...\n",
      "  [118  84  50]\n",
      "  [120  84  50]\n",
      "  [109  73  42]]\n",
      "\n",
      " ...\n",
      "\n",
      " [[208 170  96]\n",
      "  [201 153  34]\n",
      "  [198 161  26]\n",
      "  ...\n",
      "  [160 133  70]\n",
      "  [ 56  31   7]\n",
      "  [ 53  34  20]]\n",
      "\n",
      " [[180 139  96]\n",
      "  [173 123  42]\n",
      "  [186 144  30]\n",
      "  ...\n",
      "  [184 148  94]\n",
      "  [ 97  62  34]\n",
      "  [ 83  53  34]]\n",
      "\n",
      " [[177 144 116]\n",
      "  [168 129  94]\n",
      "  [179 142  87]\n",
      "  ...\n",
      "  [216 184 140]\n",
      "  [151 118  84]\n",
      "  [123  92  72]]]\n",
      "(32, 32, 3)\n"
     ]
    }
   ]
  },
  {
   "cell_type": "code",
   "source": [
    "np.unique(train_labels)"
   ],
   "metadata": {
    "id": "tdJasNPVTv8G",
    "ExecuteTime": {
     "end_time": "2024-01-26T15:07:17.552190Z",
     "start_time": "2024-01-26T15:07:17.549471Z"
    }
   },
   "execution_count": 455,
   "outputs": [
    {
     "data": {
      "text/plain": "array([0, 1, 2, 3, 4, 5, 6, 7, 8, 9], dtype=uint8)"
     },
     "execution_count": 455,
     "metadata": {},
     "output_type": "execute_result"
    }
   ]
  },
  {
   "cell_type": "markdown",
   "source": [
    "## Exe 5: Chek\n",
    "\n",
    "Check the dataset using the following commands:"
   ],
   "metadata": {
    "id": "Es46ai0xT26Q"
   }
  },
  {
   "cell_type": "code",
   "source": [
    "print(\"train_images shape : \",train_images.shape)\n",
    "\n",
    "print(\"train_labels size\", len(train_labels))\n",
    "\n",
    "print(\"train_labels\",train_labels)\n",
    "\n",
    "print(\"test_images shape : \",test_images.shape)\n",
    "\n",
    "print(\"test_labels\",test_labels)"
   ],
   "metadata": {
    "id": "MWaAn4KBT2C4",
    "ExecuteTime": {
     "end_time": "2024-01-26T15:07:17.556780Z",
     "start_time": "2024-01-26T15:07:17.552461Z"
    }
   },
   "execution_count": 456,
   "outputs": [
    {
     "name": "stdout",
     "output_type": "stream",
     "text": [
      "train_images shape :  (50000, 32, 32, 3)\n",
      "train_labels size 50000\n",
      "train_labels [[6]\n",
      " [9]\n",
      " [9]\n",
      " ...\n",
      " [9]\n",
      " [1]\n",
      " [1]]\n",
      "test_images shape :  (10000, 32, 32, 3)\n",
      "test_labels [[3]\n",
      " [8]\n",
      " [8]\n",
      " ...\n",
      " [5]\n",
      " [1]\n",
      " [7]]\n"
     ]
    }
   ]
  },
  {
   "cell_type": "markdown",
   "source": [
    "## Exe 6: Image Visualization\n",
    "\n",
    "An interesting fact about the image is that it can be plotted. To visualize an image, you can use the following code:"
   ],
   "metadata": {
    "id": "Q3rD-pstT_mN"
   }
  },
  {
   "cell_type": "code",
   "source": [
    "index = 50\n",
    "plt.figure()\n",
    "plt.imshow(train_images[index])\n",
    "plt.colorbar()\n",
    "plt.show()\n",
    "\n",
    "train_labels[index]"
   ],
   "metadata": {
    "id": "jAyspozuUD-I",
    "ExecuteTime": {
     "end_time": "2024-01-26T15:07:17.613500Z",
     "start_time": "2024-01-26T15:07:17.562894Z"
    }
   },
   "execution_count": 457,
   "outputs": [
    {
     "data": {
      "text/plain": "<Figure size 640x480 with 2 Axes>",
      "image/png": "[encoded data removed]"
     },
     "metadata": {},
     "output_type": "display_data"
    },
    {
     "data": {
      "text/plain": "array([9], dtype=uint8)"
     },
     "execution_count": 457,
     "metadata": {},
     "output_type": "execute_result"
    }
   ]
  },
  {
   "cell_type": "markdown",
   "source": [
    "## Exe 7 : Display images and class name\n",
    "\n",
    "To verify that the data is in the correct format and that you're ready to\n",
    "build and train the network, let's display the first 25 images from the training\n",
    "set and display the class name below each image."
   ],
   "metadata": {
    "id": "Hiaui9iOUJHi"
   }
  },
  {
   "cell_type": "code",
   "source": [
    "class_names = [ 'airplane' , 'automobile' , 'bird' , 'cat' , 'deer' , 'dog' , 'frog' , 'horse' , 'ship' , 'truck']"
   ],
   "metadata": {
    "id": "8HJTPi3vULkD",
    "ExecuteTime": {
     "end_time": "2024-01-26T15:07:17.615339Z",
     "start_time": "2024-01-26T15:07:17.612859Z"
    }
   },
   "execution_count": 458,
   "outputs": []
  },
  {
   "cell_type": "code",
   "source": [
    "plt.figure(figsize=(20,20))\n",
    "for i in range(25):\n",
    "    plt.subplot(5,5,i+1)\n",
    "    plt.xticks([])\n",
    "    plt.yticks([])\n",
    "    plt.grid(False)\n",
    "\n",
    "    plt.imshow(train_images[i])\n",
    "    plt.xlabel(class_names[train_labels[i][0]])\n",
    "plt.show()"
   ],
   "metadata": {
    "id": "05yOlft8UWBa",
    "ExecuteTime": {
     "end_time": "2024-01-26T15:07:17.928602Z",
     "start_time": "2024-01-26T15:07:17.620289Z"
    }
   },
   "execution_count": 459,
   "outputs": [
    {
     "data": {
      "text/plain": "<Figure size 2000x2000 with 25 Axes>",
      "image/png": "[encoded data removed]"
     },
     "metadata": {},
     "output_type": "display_data"
    }
   ]
  },
  {
   "cell_type": "markdown",
   "source": [
    "## Exe 8: Dataset Normalization\n",
    "\n",
    "Normalize the train and test sets using the following code"
   ],
   "metadata": {
    "id": "5TMDlNttUTu5"
   }
  },
  {
   "cell_type": "code",
   "source": [
    "train_images_before = train_images\n",
    "test_images_before = test_images"
   ],
   "metadata": {
    "id": "fPI6ND4eUesV",
    "ExecuteTime": {
     "end_time": "2024-01-26T15:07:17.938180Z",
     "start_time": "2024-01-26T15:07:17.927946Z"
    }
   },
   "execution_count": 460,
   "outputs": []
  },
  {
   "cell_type": "code",
   "source": [
    "train_images = train_images.astype('float32')\n",
    "test_images = test_images.astype('float32')\n",
    "train_images = train_images / 255.0\n",
    "test_images = test_images / 255.0"
   ],
   "metadata": {
    "id": "H88JwUjfUg9S",
    "ExecuteTime": {
     "end_time": "2024-01-26T15:07:18.624680Z",
     "start_time": "2024-01-26T15:07:17.937386Z"
    }
   },
   "execution_count": 461,
   "outputs": []
  },
  {
   "cell_type": "code",
   "source": [
    "train_images"
   ],
   "metadata": {
    "id": "v7JiMXwfUkES",
    "ExecuteTime": {
     "end_time": "2024-01-26T15:07:18.630160Z",
     "start_time": "2024-01-26T15:07:18.623039Z"
    }
   },
   "execution_count": 462,
   "outputs": [
    {
     "data": {
      "text/plain": "array([[[[0.23137255, 0.24313726, 0.24705882],\n         [0.16862746, 0.18039216, 0.1764706 ],\n         [0.19607843, 0.1882353 , 0.16862746],\n         ...,\n         [0.61960787, 0.5176471 , 0.42352942],\n         [0.59607846, 0.49019608, 0.4       ],\n         [0.5803922 , 0.4862745 , 0.40392157]],\n\n        [[0.0627451 , 0.07843138, 0.07843138],\n         [0.        , 0.        , 0.        ],\n         [0.07058824, 0.03137255, 0.        ],\n         ...,\n         [0.48235294, 0.34509805, 0.21568628],\n         [0.46666667, 0.3254902 , 0.19607843],\n         [0.47843137, 0.34117648, 0.22352941]],\n\n        [[0.09803922, 0.09411765, 0.08235294],\n         [0.0627451 , 0.02745098, 0.        ],\n         [0.19215687, 0.10588235, 0.03137255],\n         ...,\n         [0.4627451 , 0.32941177, 0.19607843],\n         [0.47058824, 0.32941177, 0.19607843],\n         [0.42745098, 0.28627452, 0.16470589]],\n\n        ...,\n\n        [[0.8156863 , 0.6666667 , 0.3764706 ],\n         [0.7882353 , 0.6       , 0.13333334],\n         [0.7764706 , 0.6313726 , 0.10196079],\n         ...,\n         [0.627451  , 0.52156866, 0.27450982],\n         [0.21960784, 0.12156863, 0.02745098],\n         [0.20784314, 0.13333334, 0.07843138]],\n\n        [[0.7058824 , 0.54509807, 0.3764706 ],\n         [0.6784314 , 0.48235294, 0.16470589],\n         [0.7294118 , 0.5647059 , 0.11764706],\n         ...,\n         [0.72156864, 0.5803922 , 0.36862746],\n         [0.38039216, 0.24313726, 0.13333334],\n         [0.3254902 , 0.20784314, 0.13333334]],\n\n        [[0.69411767, 0.5647059 , 0.45490196],\n         [0.65882355, 0.5058824 , 0.36862746],\n         [0.7019608 , 0.5568628 , 0.34117648],\n         ...,\n         [0.84705883, 0.72156864, 0.54901963],\n         [0.5921569 , 0.4627451 , 0.32941177],\n         [0.48235294, 0.36078432, 0.28235295]]],\n\n\n       [[[0.6039216 , 0.69411767, 0.73333335],\n         [0.49411765, 0.5372549 , 0.53333336],\n         [0.4117647 , 0.40784314, 0.37254903],\n         ...,\n         [0.35686275, 0.37254903, 0.2784314 ],\n         [0.34117648, 0.3529412 , 0.2784314 ],\n         [0.30980393, 0.31764707, 0.27450982]],\n\n        [[0.54901963, 0.627451  , 0.6627451 ],\n         [0.5686275 , 0.6       , 0.6039216 ],\n         [0.49019608, 0.49019608, 0.4627451 ],\n         ...,\n         [0.3764706 , 0.3882353 , 0.30588236],\n         [0.3019608 , 0.3137255 , 0.24313726],\n         [0.2784314 , 0.28627452, 0.23921569]],\n\n        [[0.54901963, 0.60784316, 0.6431373 ],\n         [0.54509807, 0.57254905, 0.58431375],\n         [0.4509804 , 0.4509804 , 0.4392157 ],\n         ...,\n         [0.30980393, 0.32156864, 0.2509804 ],\n         [0.26666668, 0.27450982, 0.21568628],\n         [0.2627451 , 0.27058825, 0.21568628]],\n\n        ...,\n\n        [[0.6862745 , 0.654902  , 0.6509804 ],\n         [0.6117647 , 0.6039216 , 0.627451  ],\n         [0.6039216 , 0.627451  , 0.6666667 ],\n         ...,\n         [0.16470589, 0.13333334, 0.14117648],\n         [0.23921569, 0.20784314, 0.22352941],\n         [0.3647059 , 0.3254902 , 0.35686275]],\n\n        [[0.64705884, 0.6039216 , 0.5019608 ],\n         [0.6117647 , 0.59607846, 0.50980395],\n         [0.62352943, 0.6313726 , 0.5568628 ],\n         ...,\n         [0.40392157, 0.3647059 , 0.3764706 ],\n         [0.48235294, 0.44705883, 0.47058824],\n         [0.5137255 , 0.4745098 , 0.5137255 ]],\n\n        [[0.6392157 , 0.5803922 , 0.47058824],\n         [0.61960787, 0.5803922 , 0.47843137],\n         [0.6392157 , 0.6117647 , 0.52156866],\n         ...,\n         [0.56078434, 0.52156866, 0.54509807],\n         [0.56078434, 0.5254902 , 0.5568628 ],\n         [0.56078434, 0.52156866, 0.5647059 ]]],\n\n\n       [[[1.        , 1.        , 1.        ],\n         [0.99215686, 0.99215686, 0.99215686],\n         [0.99215686, 0.99215686, 0.99215686],\n         ...,\n         [0.99215686, 0.99215686, 0.99215686],\n         [0.99215686, 0.99215686, 0.99215686],\n         [0.99215686, 0.99215686, 0.99215686]],\n\n        [[1.        , 1.        , 1.        ],\n         [1.        , 1.        , 1.        ],\n         [1.        , 1.        , 1.        ],\n         ...,\n         [1.        , 1.        , 1.        ],\n         [1.        , 1.        , 1.        ],\n         [1.        , 1.        , 1.        ]],\n\n        [[1.        , 1.        , 1.        ],\n         [0.99607843, 0.99607843, 0.99607843],\n         [0.99607843, 0.99607843, 0.99607843],\n         ...,\n         [0.99607843, 0.99607843, 0.99607843],\n         [0.99607843, 0.99607843, 0.99607843],\n         [0.99607843, 0.99607843, 0.99607843]],\n\n        ...,\n\n        [[0.44313726, 0.47058824, 0.4392157 ],\n         [0.43529412, 0.4627451 , 0.43529412],\n         [0.4117647 , 0.4392157 , 0.41568628],\n         ...,\n         [0.28235295, 0.31764707, 0.3137255 ],\n         [0.28235295, 0.3137255 , 0.30980393],\n         [0.28235295, 0.3137255 , 0.30980393]],\n\n        [[0.43529412, 0.4627451 , 0.43137255],\n         [0.40784314, 0.43529412, 0.40784314],\n         [0.3882353 , 0.41568628, 0.38431373],\n         ...,\n         [0.26666668, 0.29411766, 0.28627452],\n         [0.27450982, 0.29803923, 0.29411766],\n         [0.30588236, 0.32941177, 0.32156864]],\n\n        [[0.41568628, 0.44313726, 0.4117647 ],\n         [0.3882353 , 0.41568628, 0.38431373],\n         [0.37254903, 0.4       , 0.36862746],\n         ...,\n         [0.30588236, 0.33333334, 0.3254902 ],\n         [0.30980393, 0.33333334, 0.3254902 ],\n         [0.3137255 , 0.3372549 , 0.32941177]]],\n\n\n       ...,\n\n\n       [[[0.13725491, 0.69803923, 0.92156863],\n         [0.15686275, 0.6901961 , 0.9372549 ],\n         [0.16470589, 0.6901961 , 0.94509804],\n         ...,\n         [0.3882353 , 0.69411767, 0.85882354],\n         [0.30980393, 0.5764706 , 0.77254903],\n         [0.34901962, 0.5803922 , 0.7411765 ]],\n\n        [[0.22352941, 0.7137255 , 0.91764706],\n         [0.17254902, 0.72156864, 0.98039216],\n         [0.19607843, 0.7176471 , 0.9411765 ],\n         ...,\n         [0.6117647 , 0.7137255 , 0.78431374],\n         [0.5529412 , 0.69411767, 0.80784315],\n         [0.45490196, 0.58431375, 0.6862745 ]],\n\n        [[0.38431373, 0.77254903, 0.92941177],\n         [0.2509804 , 0.7411765 , 0.9882353 ],\n         [0.27058825, 0.7529412 , 0.9607843 ],\n         ...,\n         [0.7372549 , 0.7647059 , 0.80784315],\n         [0.46666667, 0.5294118 , 0.5764706 ],\n         [0.23921569, 0.30980393, 0.3529412 ]],\n\n        ...,\n\n        [[0.28627452, 0.30980393, 0.3019608 ],\n         [0.20784314, 0.24705882, 0.26666668],\n         [0.21176471, 0.26666668, 0.3137255 ],\n         ...,\n         [0.06666667, 0.15686275, 0.2509804 ],\n         [0.08235294, 0.14117648, 0.2       ],\n         [0.12941177, 0.1882353 , 0.19215687]],\n\n        [[0.23921569, 0.26666668, 0.29411766],\n         [0.21568628, 0.27450982, 0.3372549 ],\n         [0.22352941, 0.30980393, 0.40392157],\n         ...,\n         [0.09411765, 0.1882353 , 0.28235295],\n         [0.06666667, 0.13725491, 0.20784314],\n         [0.02745098, 0.09019608, 0.1254902 ]],\n\n        [[0.17254902, 0.21960784, 0.28627452],\n         [0.18039216, 0.25882354, 0.34509805],\n         [0.19215687, 0.3019608 , 0.4117647 ],\n         ...,\n         [0.10588235, 0.20392157, 0.3019608 ],\n         [0.08235294, 0.16862746, 0.25882354],\n         [0.04705882, 0.12156863, 0.19607843]]],\n\n\n       [[[0.7411765 , 0.827451  , 0.9411765 ],\n         [0.7294118 , 0.8156863 , 0.9254902 ],\n         [0.7254902 , 0.8117647 , 0.92156863],\n         ...,\n         [0.6862745 , 0.7647059 , 0.8784314 ],\n         [0.6745098 , 0.7607843 , 0.87058824],\n         [0.6627451 , 0.7607843 , 0.8627451 ]],\n\n        [[0.7607843 , 0.8235294 , 0.9372549 ],\n         [0.7490196 , 0.8117647 , 0.9254902 ],\n         [0.74509805, 0.80784315, 0.92156863],\n         ...,\n         [0.6784314 , 0.7529412 , 0.8627451 ],\n         [0.67058825, 0.7490196 , 0.85490197],\n         [0.654902  , 0.74509805, 0.84705883]],\n\n        [[0.8156863 , 0.85882354, 0.95686275],\n         [0.8039216 , 0.84705883, 0.9411765 ],\n         [0.8       , 0.84313726, 0.9372549 ],\n         ...,\n         [0.6862745 , 0.7490196 , 0.8509804 ],\n         [0.6745098 , 0.74509805, 0.84705883],\n         [0.6627451 , 0.7490196 , 0.84313726]],\n\n        ...,\n\n        [[0.8117647 , 0.78039217, 0.70980394],\n         [0.79607844, 0.7647059 , 0.6862745 ],\n         [0.79607844, 0.76862746, 0.6784314 ],\n         ...,\n         [0.5294118 , 0.5176471 , 0.49803922],\n         [0.63529414, 0.61960787, 0.5882353 ],\n         [0.65882355, 0.6392157 , 0.5921569 ]],\n\n        [[0.7764706 , 0.74509805, 0.6666667 ],\n         [0.7411765 , 0.70980394, 0.62352943],\n         [0.7058824 , 0.6745098 , 0.5764706 ],\n         ...,\n         [0.69803923, 0.67058825, 0.627451  ],\n         [0.6862745 , 0.6627451 , 0.6117647 ],\n         [0.6862745 , 0.6627451 , 0.6039216 ]],\n\n        [[0.7764706 , 0.7411765 , 0.6784314 ],\n         [0.7411765 , 0.70980394, 0.63529414],\n         [0.69803923, 0.6666667 , 0.58431375],\n         ...,\n         [0.7647059 , 0.72156864, 0.6627451 ],\n         [0.76862746, 0.7411765 , 0.67058825],\n         [0.7647059 , 0.74509805, 0.67058825]]],\n\n\n       [[[0.8980392 , 0.8980392 , 0.9372549 ],\n         [0.9254902 , 0.92941177, 0.96862745],\n         [0.91764706, 0.9254902 , 0.96862745],\n         ...,\n         [0.8509804 , 0.85882354, 0.9137255 ],\n         [0.8666667 , 0.8745098 , 0.91764706],\n         [0.87058824, 0.8745098 , 0.9137255 ]],\n\n        [[0.87058824, 0.8666667 , 0.8980392 ],\n         [0.9372549 , 0.9372549 , 0.9764706 ],\n         [0.9137255 , 0.91764706, 0.9647059 ],\n         ...,\n         [0.8745098 , 0.8745098 , 0.9254902 ],\n         [0.8901961 , 0.89411765, 0.93333334],\n         [0.8235294 , 0.827451  , 0.8627451 ]],\n\n        [[0.8352941 , 0.80784315, 0.827451  ],\n         [0.91764706, 0.9098039 , 0.9372549 ],\n         [0.90588236, 0.9137255 , 0.95686275],\n         ...,\n         [0.8627451 , 0.8627451 , 0.9098039 ],\n         [0.8627451 , 0.85882354, 0.9098039 ],\n         [0.7921569 , 0.79607844, 0.84313726]],\n\n        ...,\n\n        [[0.5882353 , 0.56078434, 0.5294118 ],\n         [0.54901963, 0.5294118 , 0.49803922],\n         [0.5176471 , 0.49803922, 0.47058824],\n         ...,\n         [0.8784314 , 0.87058824, 0.85490197],\n         [0.9019608 , 0.89411765, 0.88235295],\n         [0.94509804, 0.94509804, 0.93333334]],\n\n        [[0.5372549 , 0.5176471 , 0.49411765],\n         [0.50980395, 0.49803922, 0.47058824],\n         [0.49019608, 0.4745098 , 0.4509804 ],\n         ...,\n         [0.70980394, 0.7058824 , 0.69803923],\n         [0.7921569 , 0.7882353 , 0.7764706 ],\n         [0.83137256, 0.827451  , 0.8117647 ]],\n\n        [[0.47843137, 0.46666667, 0.44705883],\n         [0.4627451 , 0.45490196, 0.43137255],\n         [0.47058824, 0.45490196, 0.43529412],\n         ...,\n         [0.7019608 , 0.69411767, 0.6784314 ],\n         [0.6431373 , 0.6431373 , 0.63529414],\n         [0.6392157 , 0.6392157 , 0.6313726 ]]]], dtype=float32)"
     },
     "execution_count": 462,
     "metadata": {},
     "output_type": "execute_result"
    }
   ]
  },
  {
   "cell_type": "markdown",
   "source": [
    "## Exo 9: Model\n",
    "\n",
    "Build a neural network with the following structure:\n",
    "\n",
    "\n",
    "1.   The first layer should be a **Flatten** layer that transforms the format of the images from a two-dimensional array (32 by 32 pixels) to a one-dimensional array (1024 pixels). This layer simply unstacks the rows of pixels in the image and lines them up. It has no parameters to learn and only reformats the data.\n",
    "\n",
    "2.   After the pixels are flattened, the network should consist of two **Dense** layers. The first **Dense** layer should have 128 neurons.\n",
    "\n",
    "3.   The second (and last) layer should be a **softmax** layer with 10 neurons, which returns an array of 10 probability scores that sum to 1. Each neuron contains a score indicating the probability that the current image belongs to one of the 10 classes."
   ],
   "metadata": {
    "id": "n3byMSmNUos5"
   }
  },
  {
   "cell_type": "code",
   "source": [
    "model = keras.Sequential([\n",
    "    keras.layers.Flatten(input_shape=(32, 32, 3)),\n",
    "    keras.layers.Dense(128, activation='relu'),\n",
    "    keras.layers.Dense(10, activation='softmax')\n",
    "])"
   ],
   "metadata": {
    "id": "4QuOBz6vUsvH",
    "ExecuteTime": {
     "end_time": "2024-01-26T15:07:18.666688Z",
     "start_time": "2024-01-26T15:07:18.633493Z"
    }
   },
   "execution_count": 463,
   "outputs": []
  },
  {
   "cell_type": "markdown",
   "source": [
    "## Exe 10: Train the model\n",
    "\n",
    "Compile the model using the appropriate optimizer, loss function, and metrics. Set the optimizer to 'adam', the loss function to 'sparse_categorical_crossentropy', and the metric to 'accuracy'.\n",
    "\n",
    "Train the model, using the fit method on the model object. Pass in the train_images as the training data and train_labels as the corresponding labels."
   ],
   "metadata": {
    "id": "I6nx9weiU4Zp"
   }
  },
  {
   "cell_type": "code",
   "source": [
    "model.compile(optimizer='adam',\n",
    "              loss='sparse_categorical_crossentropy',\n",
    "              metrics=['accuracy'])"
   ],
   "metadata": {
    "id": "qU6jh_NpU5T_",
    "ExecuteTime": {
     "end_time": "2024-01-26T15:07:18.667630Z",
     "start_time": "2024-01-26T15:07:18.650666Z"
    }
   },
   "execution_count": 464,
   "outputs": []
  },
  {
   "cell_type": "code",
   "source": [
    "model.fit(train_images, train_labels, epochs=100)"
   ],
   "metadata": {
    "id": "f9jDzezRVCVv",
    "ExecuteTime": {
     "end_time": "2024-01-26T15:09:13.563366Z",
     "start_time": "2024-01-26T15:07:18.654039Z"
    }
   },
   "execution_count": 465,
   "outputs": [
    {
     "name": "stdout",
     "output_type": "stream",
     "text": [
      "Epoch 1/100\n",
      "1563/1563 [==============================] - 1s 815us/step - loss: 1.8942 - accuracy: 0.3225\n",
      "Epoch 2/100\n",
      "1563/1563 [==============================] - 1s 774us/step - loss: 1.7593 - accuracy: 0.3705\n",
      "Epoch 3/100\n",
      "1563/1563 [==============================] - 1s 753us/step - loss: 1.7076 - accuracy: 0.3916\n",
      "Epoch 4/100\n",
      "1563/1563 [==============================] - 1s 816us/step - loss: 1.6807 - accuracy: 0.4010\n",
      "Epoch 5/100\n",
      "1563/1563 [==============================] - 1s 731us/step - loss: 1.6616 - accuracy: 0.4092\n",
      "Epoch 6/100\n",
      "1563/1563 [==============================] - 1s 735us/step - loss: 1.6436 - accuracy: 0.4145\n",
      "Epoch 7/100\n",
      "1563/1563 [==============================] - 1s 706us/step - loss: 1.6298 - accuracy: 0.4202\n",
      "Epoch 8/100\n",
      "1563/1563 [==============================] - 1s 721us/step - loss: 1.6163 - accuracy: 0.4228\n",
      "Epoch 9/100\n",
      "1563/1563 [==============================] - 1s 839us/step - loss: 1.6081 - accuracy: 0.4284\n",
      "Epoch 10/100\n",
      "1563/1563 [==============================] - 1s 736us/step - loss: 1.5959 - accuracy: 0.4330\n",
      "Epoch 11/100\n",
      "1563/1563 [==============================] - 1s 719us/step - loss: 1.5901 - accuracy: 0.4343\n",
      "Epoch 12/100\n",
      "1563/1563 [==============================] - 1s 720us/step - loss: 1.5785 - accuracy: 0.4401\n",
      "Epoch 13/100\n",
      "1563/1563 [==============================] - 1s 733us/step - loss: 1.5735 - accuracy: 0.4396\n",
      "Epoch 14/100\n",
      "1563/1563 [==============================] - 1s 739us/step - loss: 1.5675 - accuracy: 0.4428\n",
      "Epoch 15/100\n",
      "1563/1563 [==============================] - 1s 721us/step - loss: 1.5582 - accuracy: 0.4456\n",
      "Epoch 16/100\n",
      "1563/1563 [==============================] - 1s 712us/step - loss: 1.5566 - accuracy: 0.4473\n",
      "Epoch 17/100\n",
      "1563/1563 [==============================] - 1s 715us/step - loss: 1.5519 - accuracy: 0.4471\n",
      "Epoch 18/100\n",
      "1563/1563 [==============================] - 1s 703us/step - loss: 1.5485 - accuracy: 0.4492\n",
      "Epoch 19/100\n",
      "1563/1563 [==============================] - 1s 694us/step - loss: 1.5400 - accuracy: 0.4530\n",
      "Epoch 20/100\n",
      "1563/1563 [==============================] - 1s 759us/step - loss: 1.5394 - accuracy: 0.4522\n",
      "Epoch 21/100\n",
      "1563/1563 [==============================] - 1s 724us/step - loss: 1.5353 - accuracy: 0.4518\n",
      "Epoch 22/100\n",
      "1563/1563 [==============================] - 1s 706us/step - loss: 1.5309 - accuracy: 0.4553\n",
      "Epoch 23/100\n",
      "1563/1563 [==============================] - 1s 700us/step - loss: 1.5279 - accuracy: 0.4552\n",
      "Epoch 24/100\n",
      "1563/1563 [==============================] - 1s 707us/step - loss: 1.5254 - accuracy: 0.4571\n",
      "Epoch 25/100\n",
      "1563/1563 [==============================] - 1s 716us/step - loss: 1.5224 - accuracy: 0.4588\n",
      "Epoch 26/100\n",
      "1563/1563 [==============================] - 1s 689us/step - loss: 1.5215 - accuracy: 0.4563\n",
      "Epoch 27/100\n",
      "1563/1563 [==============================] - 1s 694us/step - loss: 1.5148 - accuracy: 0.4611\n",
      "Epoch 28/100\n",
      "1563/1563 [==============================] - 1s 699us/step - loss: 1.5136 - accuracy: 0.4602\n",
      "Epoch 29/100\n",
      "1563/1563 [==============================] - 1s 729us/step - loss: 1.5128 - accuracy: 0.4613\n",
      "Epoch 30/100\n",
      "1563/1563 [==============================] - 1s 733us/step - loss: 1.5083 - accuracy: 0.4629\n",
      "Epoch 31/100\n",
      "1563/1563 [==============================] - 1s 864us/step - loss: 1.5067 - accuracy: 0.4614\n",
      "Epoch 32/100\n",
      "1563/1563 [==============================] - 1s 699us/step - loss: 1.5027 - accuracy: 0.4635\n",
      "Epoch 33/100\n",
      "1563/1563 [==============================] - 1s 698us/step - loss: 1.5003 - accuracy: 0.4658\n",
      "Epoch 34/100\n",
      "1563/1563 [==============================] - 1s 709us/step - loss: 1.4985 - accuracy: 0.4663\n",
      "Epoch 35/100\n",
      "1563/1563 [==============================] - 1s 703us/step - loss: 1.4960 - accuracy: 0.4692\n",
      "Epoch 36/100\n",
      "1563/1563 [==============================] - 1s 720us/step - loss: 1.4963 - accuracy: 0.4645\n",
      "Epoch 37/100\n",
      "1563/1563 [==============================] - 1s 704us/step - loss: 1.4918 - accuracy: 0.4690\n",
      "Epoch 38/100\n",
      "1563/1563 [==============================] - 1s 700us/step - loss: 1.4937 - accuracy: 0.4670\n",
      "Epoch 39/100\n",
      "1563/1563 [==============================] - 1s 732us/step - loss: 1.4907 - accuracy: 0.4695\n",
      "Epoch 40/100\n",
      "1563/1563 [==============================] - 1s 715us/step - loss: 1.4884 - accuracy: 0.4704\n",
      "Epoch 41/100\n",
      "1563/1563 [==============================] - 1s 812us/step - loss: 1.4859 - accuracy: 0.4715\n",
      "Epoch 42/100\n",
      "1563/1563 [==============================] - 1s 722us/step - loss: 1.4838 - accuracy: 0.4710\n",
      "Epoch 43/100\n",
      "1563/1563 [==============================] - 1s 715us/step - loss: 1.4873 - accuracy: 0.4695\n",
      "Epoch 44/100\n",
      "1563/1563 [==============================] - 1s 707us/step - loss: 1.4796 - accuracy: 0.4725\n",
      "Epoch 45/100\n",
      "1563/1563 [==============================] - 1s 760us/step - loss: 1.4845 - accuracy: 0.4689\n",
      "Epoch 46/100\n",
      "1563/1563 [==============================] - 1s 750us/step - loss: 1.4797 - accuracy: 0.4730\n",
      "Epoch 47/100\n",
      "1563/1563 [==============================] - 1s 753us/step - loss: 1.4783 - accuracy: 0.4717\n",
      "Epoch 48/100\n",
      "1563/1563 [==============================] - 1s 772us/step - loss: 1.4791 - accuracy: 0.4718\n",
      "Epoch 49/100\n",
      "1563/1563 [==============================] - 1s 792us/step - loss: 1.4734 - accuracy: 0.4720\n",
      "Epoch 50/100\n",
      "1563/1563 [==============================] - 1s 842us/step - loss: 1.4748 - accuracy: 0.4715\n",
      "Epoch 51/100\n",
      "1563/1563 [==============================] - 1s 709us/step - loss: 1.4706 - accuracy: 0.4725\n",
      "Epoch 52/100\n",
      "1563/1563 [==============================] - 1s 752us/step - loss: 1.4695 - accuracy: 0.4744\n",
      "Epoch 53/100\n",
      "1563/1563 [==============================] - 1s 741us/step - loss: 1.4703 - accuracy: 0.4730\n",
      "Epoch 54/100\n",
      "1563/1563 [==============================] - 1s 736us/step - loss: 1.4678 - accuracy: 0.4767\n",
      "Epoch 55/100\n",
      "1563/1563 [==============================] - 1s 750us/step - loss: 1.4664 - accuracy: 0.4737\n",
      "Epoch 56/100\n",
      "1563/1563 [==============================] - 1s 789us/step - loss: 1.4677 - accuracy: 0.4750\n",
      "Epoch 57/100\n",
      "1563/1563 [==============================] - 1s 745us/step - loss: 1.4664 - accuracy: 0.4761\n",
      "Epoch 58/100\n",
      "1563/1563 [==============================] - 1s 707us/step - loss: 1.4639 - accuracy: 0.4761\n",
      "Epoch 59/100\n",
      "1563/1563 [==============================] - 1s 787us/step - loss: 1.4667 - accuracy: 0.4770\n",
      "Epoch 60/100\n",
      "1563/1563 [==============================] - 1s 719us/step - loss: 1.4612 - accuracy: 0.4764\n",
      "Epoch 61/100\n",
      "1563/1563 [==============================] - 1s 699us/step - loss: 1.4614 - accuracy: 0.4782\n",
      "Epoch 62/100\n",
      "1563/1563 [==============================] - 1s 704us/step - loss: 1.4612 - accuracy: 0.4777\n",
      "Epoch 63/100\n",
      "1563/1563 [==============================] - 1s 706us/step - loss: 1.4598 - accuracy: 0.4786\n",
      "Epoch 64/100\n",
      "1563/1563 [==============================] - 1s 712us/step - loss: 1.4599 - accuracy: 0.4768\n",
      "Epoch 65/100\n",
      "1563/1563 [==============================] - 1s 730us/step - loss: 1.4548 - accuracy: 0.4797\n",
      "Epoch 66/100\n",
      "1563/1563 [==============================] - 1s 711us/step - loss: 1.4555 - accuracy: 0.4797\n",
      "Epoch 67/100\n",
      "1563/1563 [==============================] - 1s 687us/step - loss: 1.4537 - accuracy: 0.4788\n",
      "Epoch 68/100\n",
      "1563/1563 [==============================] - 1s 698us/step - loss: 1.4539 - accuracy: 0.4790\n",
      "Epoch 69/100\n",
      "1563/1563 [==============================] - 1s 772us/step - loss: 1.4540 - accuracy: 0.4806\n",
      "Epoch 70/100\n",
      "1563/1563 [==============================] - 1s 716us/step - loss: 1.4515 - accuracy: 0.4798\n",
      "Epoch 71/100\n",
      "1563/1563 [==============================] - 1s 703us/step - loss: 1.4512 - accuracy: 0.4812\n",
      "Epoch 72/100\n",
      "1563/1563 [==============================] - 1s 704us/step - loss: 1.4510 - accuracy: 0.4784\n",
      "Epoch 73/100\n",
      "1563/1563 [==============================] - 1s 699us/step - loss: 1.4516 - accuracy: 0.4823\n",
      "Epoch 74/100\n",
      "1563/1563 [==============================] - 1s 735us/step - loss: 1.4494 - accuracy: 0.4810\n",
      "Epoch 75/100\n",
      "1563/1563 [==============================] - 1s 727us/step - loss: 1.4451 - accuracy: 0.4820\n",
      "Epoch 76/100\n",
      "1563/1563 [==============================] - 1s 697us/step - loss: 1.4506 - accuracy: 0.4820\n",
      "Epoch 77/100\n",
      "1563/1563 [==============================] - 1s 704us/step - loss: 1.4453 - accuracy: 0.4843\n",
      "Epoch 78/100\n",
      "1563/1563 [==============================] - 1s 703us/step - loss: 1.4440 - accuracy: 0.4834\n",
      "Epoch 79/100\n",
      "1563/1563 [==============================] - 1s 707us/step - loss: 1.4425 - accuracy: 0.4842\n",
      "Epoch 80/100\n",
      "1563/1563 [==============================] - 1s 811us/step - loss: 1.4448 - accuracy: 0.4827\n",
      "Epoch 81/100\n",
      "1563/1563 [==============================] - 1s 707us/step - loss: 1.4474 - accuracy: 0.4808\n",
      "Epoch 82/100\n",
      "1563/1563 [==============================] - 1s 699us/step - loss: 1.4428 - accuracy: 0.4851\n",
      "Epoch 83/100\n",
      "1563/1563 [==============================] - 1s 716us/step - loss: 1.4405 - accuracy: 0.4846\n",
      "Epoch 84/100\n",
      "1563/1563 [==============================] - 1s 708us/step - loss: 1.4414 - accuracy: 0.4846\n",
      "Epoch 85/100\n",
      "1563/1563 [==============================] - 1s 703us/step - loss: 1.4387 - accuracy: 0.4849\n",
      "Epoch 86/100\n",
      "1563/1563 [==============================] - 1s 718us/step - loss: 1.4412 - accuracy: 0.4841\n",
      "Epoch 87/100\n",
      "1563/1563 [==============================] - 1s 712us/step - loss: 1.4360 - accuracy: 0.4863\n",
      "Epoch 88/100\n",
      "1563/1563 [==============================] - 1s 721us/step - loss: 1.4372 - accuracy: 0.4837\n",
      "Epoch 89/100\n",
      "1563/1563 [==============================] - 1s 728us/step - loss: 1.4363 - accuracy: 0.4851\n",
      "Epoch 90/100\n",
      "1563/1563 [==============================] - 1s 720us/step - loss: 1.4394 - accuracy: 0.4850\n",
      "Epoch 91/100\n",
      "1563/1563 [==============================] - 1s 765us/step - loss: 1.4368 - accuracy: 0.4851\n",
      "Epoch 92/100\n",
      "1563/1563 [==============================] - 1s 713us/step - loss: 1.4384 - accuracy: 0.4845\n",
      "Epoch 93/100\n",
      "1563/1563 [==============================] - 1s 747us/step - loss: 1.4328 - accuracy: 0.4864\n",
      "Epoch 94/100\n",
      "1563/1563 [==============================] - 1s 768us/step - loss: 1.4310 - accuracy: 0.4881\n",
      "Epoch 95/100\n",
      "1563/1563 [==============================] - 1s 735us/step - loss: 1.4315 - accuracy: 0.4901\n",
      "Epoch 96/100\n",
      "1563/1563 [==============================] - 1s 736us/step - loss: 1.4346 - accuracy: 0.4857\n",
      "Epoch 97/100\n",
      "1563/1563 [==============================] - 1s 730us/step - loss: 1.4309 - accuracy: 0.4874\n",
      "Epoch 98/100\n",
      "1563/1563 [==============================] - 1s 722us/step - loss: 1.4309 - accuracy: 0.4859\n",
      "Epoch 99/100\n",
      "1563/1563 [==============================] - 1s 766us/step - loss: 1.4289 - accuracy: 0.4886\n",
      "Epoch 100/100\n",
      "1563/1563 [==============================] - 1s 818us/step - loss: 1.4304 - accuracy: 0.4879\n"
     ]
    },
    {
     "data": {
      "text/plain": "<keras.src.callbacks.History at 0x2885dd790>"
     },
     "execution_count": 465,
     "metadata": {},
     "output_type": "execute_result"
    }
   ]
  },
  {
   "cell_type": "markdown",
   "source": [
    "## Exe 11: Evaluate the model\n",
    "\n",
    "Chek the model performance on the test dataset."
   ],
   "metadata": {
    "id": "IHZX17lKVTg6"
   }
  },
  {
   "cell_type": "code",
   "source": [
    "test_loss, test_acc = model.evaluate(test_images,  test_labels, verbose=2)\n",
    "\n",
    "print('\\nTest accuracy:', test_acc)"
   ],
   "metadata": {
    "id": "NJelBNIzVY1o",
    "ExecuteTime": {
     "end_time": "2024-01-26T15:09:13.872318Z",
     "start_time": "2024-01-26T15:09:13.566415Z"
    }
   },
   "execution_count": 466,
   "outputs": [
    {
     "name": "stdout",
     "output_type": "stream",
     "text": [
      "313/313 - 0s - loss: 1.5669 - accuracy: 0.4470 - 139ms/epoch - 443us/step\n",
      "\n",
      "Test accuracy: 0.44699999690055847\n"
     ]
    }
   ]
  },
  {
   "cell_type": "markdown",
   "source": [
    "## Exo12\n",
    "\n",
    "Now that the model has been trained, we can use it to make predictions on some images.\n",
    "\n",
    "1.  Use the trained model to make predictions on the test_images dataset by calling model.predict(test_images). This will generate predictions for each image in the testing set.\n",
    "\n",
    "2. Print the first, second, and third element of the predicted test set. Each element contains 10 values representing the probability of each label.\n",
    "\n",
    "3. After printing the predicted test set, use the np.argmax() function to choose the label with the highest probability for each element.\n",
    "\n",
    "4. Compare the predicted label for the first three elements with their actual labels. How many of them are correct?"
   ],
   "metadata": {
    "id": "LbTek6WTVaNg"
   }
  },
  {
   "cell_type": "code",
   "source": [
    "predictions = model.predict(test_images)\n"
   ],
   "metadata": {
    "id": "o-ycSqmMVnci",
    "ExecuteTime": {
     "end_time": "2024-01-26T15:09:14.034978Z",
     "start_time": "2024-01-26T15:09:13.836724Z"
    }
   },
   "execution_count": 467,
   "outputs": [
    {
     "name": "stdout",
     "output_type": "stream",
     "text": [
      "313/313 [==============================] - 0s 339us/step\n"
     ]
    }
   ]
  },
  {
   "cell_type": "code",
   "source": [
    "predictions[0:3]"
   ],
   "metadata": {
    "id": "bott6dprVqsL",
    "ExecuteTime": {
     "end_time": "2024-01-26T15:09:14.041591Z",
     "start_time": "2024-01-26T15:09:14.034926Z"
    }
   },
   "execution_count": 468,
   "outputs": [
    {
     "data": {
      "text/plain": "array([[6.7641877e-02, 3.2728803e-03, 6.0228519e-02, 2.4105784e-01,\n        2.5543191e-02, 1.8590486e-01, 2.6016191e-01, 2.5192057e-03,\n        1.5069729e-01, 2.9724371e-03],\n       [5.5544011e-02, 1.2402063e-01, 7.5444166e-04, 4.1567424e-04,\n        8.5280444e-05, 1.1774258e-04, 1.2856036e-05, 8.1640392e-05,\n        4.7857440e-01, 3.4039339e-01],\n       [3.5535839e-01, 5.0286669e-02, 2.1860849e-02, 1.0050293e-02,\n        6.5039843e-04, 5.5564055e-03, 2.2428262e-04, 2.3060385e-03,\n        4.4473210e-01, 1.0897454e-01]], dtype=float32)"
     },
     "execution_count": 468,
     "metadata": {},
     "output_type": "execute_result"
    }
   ]
  },
  {
   "cell_type": "code",
   "source": [
    "print(\"Predicted label 1 : \",class_names[np.argmax(predictions[0])])\n",
    "print(\"Real label     1 : \",class_names[test_labels[0][0]])\n",
    "print(\"Predicted label 2 : \",class_names[np.argmax(predictions[1])])\n",
    "print(\"Real label      2 : \",class_names[test_labels[1][0]])\n",
    "print(\"Predicted label  3 : \",class_names[np.argmax(predictions[2])])\n",
    "print(\"Real label      3 : \",class_names[test_labels[2][0]])"
   ],
   "metadata": {
    "id": "8KZ6ieyMVyyb",
    "ExecuteTime": {
     "end_time": "2024-01-26T15:09:51.238628Z",
     "start_time": "2024-01-26T15:09:51.219734Z"
    }
   },
   "execution_count": 470,
   "outputs": [
    {
     "name": "stdout",
     "output_type": "stream",
     "text": [
      "Predicted label 1 :  frog\n",
      "Real label     1 :  cat\n",
      "Predicted label 2 :  ship\n",
      "Real label      2 :  ship\n",
      "Predicted label  3 :  ship\n",
      "Real label      3 :  ship\n"
     ]
    }
   ]
  },
  {
   "cell_type": "markdown",
   "source": [
    "## Exe13 :  Checking Predicted Labels\n",
    "\n",
    "Now, let's write a function to check the predicted labels and visualize the results. The function should display the predicted labels similar to the above Figure, indicating the probability of the predicted label. If the prediction is correct, the label should be displayed in blue, otherwise in red."
   ],
   "metadata": {
    "id": "pGA_52v_V4ZL"
   }
  },
  {
   "cell_type": "code",
   "source": [
    "def plot_image(i, predictions_array, true_label, img):\n",
    "    predictions, label, image = predictions_array[i], true_label[i][0], img[i]\n",
    "    plt.grid(False)\n",
    "    plt.xticks([])\n",
    "    plt.yticks([])\n",
    "    \n",
    "    plt.imshow(image, cmap=plt.cm.binary)\n",
    "    \n",
    "    predicted_label = np.argmax(predictions)\n",
    "    \n",
    "    if predicted_label == label:\n",
    "        color = 'blue'\n",
    "    else:\n",
    "        color = 'red'\n",
    "    \n",
    "    plt.xlabel(\"{} {:2.0f}% ({})\".format(class_names[predicted_label],\n",
    "                                    100*np.max(predictions),\n",
    "                                    class_names[label]),\n",
    "                                    color=color)"
   ],
   "metadata": {
    "id": "BAb9tMhjV6IJ",
    "ExecuteTime": {
     "end_time": "2024-01-26T15:17:22.251547Z",
     "start_time": "2024-01-26T15:17:22.228692Z"
    }
   },
   "execution_count": 486,
   "outputs": []
  },
  {
   "cell_type": "code",
   "source": [
    "i = 10\n",
    "plt.figure(figsize=(6,3))\n",
    "plot_image(i, predictions, test_labels, test_images)\n",
    "plt.show()\n",
    "print(\"Predicted label  : \",class_names[np.argmax(predictions[i])])\n",
    "print(\"Real label      : \",class_names[test_labels[i][0]])"
   ],
   "metadata": {
    "id": "33p62VQEWAf2",
    "ExecuteTime": {
     "end_time": "2024-01-26T15:17:23.337323Z",
     "start_time": "2024-01-26T15:17:23.306515Z"
    }
   },
   "execution_count": 487,
   "outputs": [
    {
     "data": {
      "text/plain": "<Figure size 600x300 with 1 Axes>",
      "image/png": "[encoded data removed]"
     },
     "metadata": {},
     "output_type": "display_data"
    },
    {
     "name": "stdout",
     "output_type": "stream",
     "text": [
      "Predicted label  :  airplane\n",
      "Real label      :  airplane\n"
     ]
    }
   ]
  },
  {
   "cell_type": "markdown",
   "source": [
    "# Homework Assignment: Deep Neural Network Classification with Fashion MNIST\n",
    "\n",
    "Redo the classification part, this time utilizing the Fashion MNIST dataset and a DNN model with three Dense layers. The first and second Dense layers should have 128 neurons each. Additionally, incorporate the following specifications:\n",
    "\n",
    "* Apply dropout after each hidden layer with a dropout rate of 0.25 (25% of neurons dropped randomly for the subsequent layer).\n",
    "*  Set the batch size to 512.\n",
    "*  Implement early stopping while fitting the model with a patience value of 20 and a maximum number of epochs set to 200.\n",
    "*  Save the best model as 'model_best'.\n",
    "*  Evaluate the saved model on the test data.\n",
    "\n",
    "**For the submission of your work, please submit your completed assignment in HTML format.**\n",
    "\n"
   ],
   "metadata": {
    "id": "4ODJiuu3u4JE"
   }
  }
 ]
}
